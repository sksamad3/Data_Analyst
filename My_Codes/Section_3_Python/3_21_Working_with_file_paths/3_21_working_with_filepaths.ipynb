{
 "cells": [
  {
   "cell_type": "markdown",
   "id": "d7cf2af1",
   "metadata": {},
   "source": [
    "# Working with file paths "
   ]
  },
  {
   "cell_type": "markdown",
   "id": "1da21418",
   "metadata": {},
   "source": [
    "The os module in Python is a built-in standard library module that provides a way to interact with the operating system (OS) — like handling files, directories, environment variables, and system paths."
   ]
  },
  {
   "cell_type": "code",
   "execution_count": 19,
   "id": "5d140050",
   "metadata": {},
   "outputs": [
    {
     "name": "stdout",
     "output_type": "stream",
     "text": [
      "Currect working directory is d:\\Data_Analyst\\My_Codes\\Section_3_Python\\3_21_Working_with_file_paths\n"
     ]
    }
   ],
   "source": [
    "# Using the os module \n",
    "import os \n",
    "cwd = os.getcwd() \n",
    "print(f\"Currect working directory is {cwd}\")"
   ]
  },
  {
   "cell_type": "markdown",
   "id": "e7593c1c",
   "metadata": {},
   "source": [
    "1. .getcwd() \n",
    "2. -.listdir() \n",
    "3. -.join() \n",
    "4. .exists() \n",
    "5. .ispath() \n",
    "6. .isdir()\n",
    "7. .abspath() \n"
   ]
  },
  {
   "cell_type": "markdown",
   "id": "f53bff65",
   "metadata": {},
   "source": [
    "# Creating a new directory "
   ]
  },
  {
   "cell_type": "code",
   "execution_count": 5,
   "id": "ff95d00e",
   "metadata": {},
   "outputs": [
    {
     "name": "stdout",
     "output_type": "stream",
     "text": [
      "Directory package created !\n"
     ]
    }
   ],
   "source": [
    "# Create a new directory \n",
    "new_directory = \"package\" \n",
    "os.mkdir(new_directory) \n",
    "print(f\"Directory {new_directory} created !\")"
   ]
  },
  {
   "cell_type": "markdown",
   "id": "6381c02f",
   "metadata": {},
   "source": [
    "# Listing Files and Directories"
   ]
  },
  {
   "cell_type": "code",
   "execution_count": null,
   "id": "5e7eb6f3",
   "metadata": {},
   "outputs": [
    {
     "name": "stdout",
     "output_type": "stream",
     "text": [
      "3_10_conditionals.ipynb\n",
      "3_11_Loops.ipynb\n",
      "3_12_Assessment.ipynb\n",
      "3_13_List.ipynb\n",
      "3_14_Assessment_List.ipynb\n",
      "3_15_Tuples.ipynb\n",
      "3_16_Assessment_Tuple.ipynb\n",
      "3_17_Sets.ipynb\n",
      "3_18_Assessment_Sets.ipynb\n",
      "3_19_Assessment_Dictionary.ipynb\n",
      "3_19_Dictionaries.ipynb\n",
      "3_1_Basics.ipynb\n",
      "3_20_File_Operation\n",
      "3_21_List_Uses.ipynb\n",
      "3_21_Working_with_file_paths\n",
      "3_22_Function.ipynb\n",
      "3_23_Function_examples.ipynb\n",
      "3_24_Lambda_Functions.ipynb\n",
      "3_25_Map_function.ipynb\n",
      "3_26_Filter_function.ipynb\n",
      "3_27_Assessment_Functions.ipynb\n",
      "3_28_Import_modules_and_packages.ipynb\n",
      "3_29_STL_.ipynb\n",
      "3_6_Variables.ipynb\n",
      "3_7_Datatypes.ipynb\n",
      "3_8_Operators.ipynb\n",
      "SamadPackage\n"
     ]
    }
   ],
   "source": [
    "items = list(os.listdir('..'))\n",
    "\n",
    "for files in items: \n",
    "    print(files)"
   ]
  },
  {
   "cell_type": "markdown",
   "id": "9ff23b06",
   "metadata": {},
   "source": [
    "# Joining Paths \n",
    "os.path.join() is used to build file paths by joining directory and file names in a way that works on all operating systems.So we can use this created path to perform future operations . \n",
    "\n",
    "we have file name , and a folder \n",
    "So if we join them then python will create a path like \"folder/filename\" , so a path will be created as a string.\n",
    "\n",
    "if I used this path to write in the file , and if actually theres's a folder and if it contains that file then write will happen , otherwise new file will be created in that folder and then write will happend , if folder doesn't exist then python will raise a filenot found error . \n",
    "\n",
    "Note : So join paths only if such paths exists in your file system  otherwise issues might arise. \n",
    "Joining paths only creates a path as a string nothing more than that .  "
   ]
  },
  {
   "cell_type": "code",
   "execution_count": 15,
   "id": "d62ce5f4",
   "metadata": {},
   "outputs": [
    {
     "name": "stdout",
     "output_type": "stream",
     "text": [
      "d:\\Data_Analyst\\My_Codes\\Section_3_Python\\3_21_Working_with_file_paths\\folder\\file.txt\n"
     ]
    }
   ],
   "source": [
    "dir_name = \"folder\" \n",
    "file_name = \"file.txt\" \n",
    "\n",
    "full_path = os.path.join(os.getcwd(),dir_name,file_name)\n",
    "print(full_path)"
   ]
  },
  {
   "cell_type": "markdown",
   "id": "78730a67",
   "metadata": {},
   "source": [
    "# Check if a file is exists or not "
   ]
  },
  {
   "cell_type": "code",
   "execution_count": 16,
   "id": "85a9fec8",
   "metadata": {},
   "outputs": [
    {
     "name": "stdout",
     "output_type": "stream",
     "text": [
      "The path samad.txt does not exists \n"
     ]
    }
   ],
   "source": [
    "path  = \"samad.txt\" \n",
    "if os.path.exists(path): \n",
    "    print(f\"The path {path} exists \")\n",
    "else: \n",
    "    print(f\"The path {path} does not exists \")\n"
   ]
  },
  {
   "cell_type": "markdown",
   "id": "ca390f5d",
   "metadata": {},
   "source": [
    "# Checking if a file is a path or a directory "
   ]
  },
  {
   "cell_type": "code",
   "execution_count": 17,
   "id": "a2b8dfaa",
   "metadata": {},
   "outputs": [
    {
     "name": "stdout",
     "output_type": "stream",
     "text": [
      "The path 'exampless.txt' is neither a file nor a directory \n"
     ]
    }
   ],
   "source": [
    "import os \n",
    "\n",
    "path = 'exampless.txt' \n",
    "\n",
    "if os.path.isfile(path): \n",
    "    print(f\"The path '{path}' is a file\")\n",
    "elif os.path.isdir(path) : \n",
    "    print(f\"The path '{path} is a directory '\")\n",
    "else: \n",
    "    print(f\"The path '{path}' is neither a file nor a directory \")"
   ]
  },
  {
   "cell_type": "markdown",
   "id": "ffdac9b1",
   "metadata": {},
   "source": [
    "# Getting the Absolute Path "
   ]
  },
  {
   "cell_type": "markdown",
   "id": "4d422bc3",
   "metadata": {},
   "source": [
    "1. Absolute : An absolute path is the full path to a file or folder from the root directory of your operating system.\n",
    "2. Relative : A relative path is the path relative to the current working directory (where your Python script is running from)."
   ]
  },
  {
   "cell_type": "code",
   "execution_count": 18,
   "id": "726f1e3d",
   "metadata": {},
   "outputs": [
    {
     "name": "stdout",
     "output_type": "stream",
     "text": [
      "d:\\Data_Analyst\\My_Codes\\Section_3_Python\\3_21_Working_with_file_paths\\example.txt\n"
     ]
    }
   ],
   "source": [
    "relative_path = 'example.txt'\n",
    "absolute_path = os.path.abspath(relative_path)\n",
    "print(absolute_path)"
   ]
  },
  {
   "cell_type": "code",
   "execution_count": null,
   "id": "2354c2a9",
   "metadata": {},
   "outputs": [],
   "source": []
  }
 ],
 "metadata": {
  "kernelspec": {
   "display_name": "Python 3",
   "language": "python",
   "name": "python3"
  },
  "language_info": {
   "codemirror_mode": {
    "name": "ipython",
    "version": 3
   },
   "file_extension": ".py",
   "mimetype": "text/x-python",
   "name": "python",
   "nbconvert_exporter": "python",
   "pygments_lexer": "ipython3",
   "version": "3.12.0"
  }
 },
 "nbformat": 4,
 "nbformat_minor": 5
}
