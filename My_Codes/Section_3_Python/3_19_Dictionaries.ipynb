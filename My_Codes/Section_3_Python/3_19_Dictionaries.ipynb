{
 "cells": [
  {
   "cell_type": "markdown",
   "id": "01a8d37d",
   "metadata": {},
   "source": [
    "# Dictionaries "
   ]
  },
  {
   "cell_type": "code",
   "execution_count": 1,
   "id": "eb66057c",
   "metadata": {},
   "outputs": [
    {
     "name": "stdout",
     "output_type": "stream",
     "text": [
      "<class 'dict'>\n"
     ]
    }
   ],
   "source": [
    "# Creating Dictionaries \n",
    "empty_dict = {}\n",
    "print(type(empty_dict))"
   ]
  },
  {
   "cell_type": "code",
   "execution_count": null,
   "id": "6b4ea632",
   "metadata": {},
   "outputs": [
    {
     "name": "stdout",
     "output_type": "stream",
     "text": [
      "{'name': 'Samad', 'age': 21, 'grade': 23}\n",
      "<class 'dict'>\n"
     ]
    }
   ],
   "source": [
    "student = {\n",
    "    \"name\": \"Samad\", \n",
    "    \"age\" : 21, \n",
    "    \"grade\"  : 23\n",
    "}\n",
    "\n",
    "print(student)\n",
    "print(type(student))"
   ]
  },
  {
   "cell_type": "code",
   "execution_count": null,
   "id": "e549a7b2",
   "metadata": {},
   "outputs": [
    {
     "name": "stdout",
     "output_type": "stream",
     "text": [
      "{'name': 23, 'age': 21}\n"
     ]
    }
   ],
   "source": [
    "student2 = {\n",
    "    \"name\": \"Samad\", \n",
    "    \"age\" : 21, \n",
    "    \"name\"  : 24 # Key : \"name\" got updated from Samad to 24\n",
    "}\n",
    "print(student2)"
   ]
  },
  {
   "cell_type": "markdown",
   "id": "3d0b9f77",
   "metadata": {},
   "source": [
    "# Accessing Elements from a Dictionary "
   ]
  },
  {
   "cell_type": "code",
   "execution_count": 3,
   "id": "026e5359",
   "metadata": {},
   "outputs": [
    {
     "name": "stdout",
     "output_type": "stream",
     "text": [
      "A\n",
      "Samad\n",
      "21\n"
     ]
    }
   ],
   "source": [
    "student2 = {\n",
    "    \"name\": \"Samad\", \n",
    "    \"age\" : 21, \n",
    "    \"grade\"  : 'A' # Key : \"name\" got updated from Samad to 24\n",
    "}\n",
    "\n",
    "print(student2['grade'])\n",
    "print(student2['name'])\n",
    "print(student2['age'])"
   ]
  },
  {
   "cell_type": "code",
   "execution_count": 4,
   "id": "89ae74fe",
   "metadata": {},
   "outputs": [
    {
     "name": "stdout",
     "output_type": "stream",
     "text": [
      "A\n",
      "None\n",
      "Not Available\n"
     ]
    }
   ],
   "source": [
    "# Accessing elements using get method\n",
    "print(student2.get('grade'))\n",
    "print(student2.get('last_name')) # this property dont exist so output is None\n",
    "\n",
    "# you can set the default value if the key is not present \n",
    "print(student2.get('last_name',\"Not Available\"))"
   ]
  },
  {
   "cell_type": "markdown",
   "id": "e29c0801",
   "metadata": {},
   "source": [
    "# Modifying Dictionary Elements "
   ]
  },
  {
   "cell_type": "markdown",
   "id": "c507df18",
   "metadata": {},
   "source": [
    "Dictionary are mutable , so you can add , update or delete elements"
   ]
  },
  {
   "cell_type": "code",
   "execution_count": 5,
   "id": "b1feb1f5",
   "metadata": {},
   "outputs": [],
   "source": [
    "student3 = {\n",
    "    \"name\": \"Samad\", \n",
    "    \"age\" : 21, \n",
    "    \"grade\"  : 'A' # Key : \"name\" got updated from Samad to 24\n",
    "}"
   ]
  },
  {
   "cell_type": "code",
   "execution_count": null,
   "id": "3fbd0feb",
   "metadata": {},
   "outputs": [
    {
     "name": "stdout",
     "output_type": "stream",
     "text": [
      "{'name': 'Samad', 'age': 25, 'grade': 'A'}\n",
      "{'name': 'Samad', 'age': 25, 'grade': 'A', 'address': 'India'}\n"
     ]
    }
   ],
   "source": [
    "student3[\"age\"]= 25 # Update the value of existing key \n",
    "print(student3)\n",
    "student3[\"address\"] = \"India\" # Added new key-value pair \n",
    "print(student3)"
   ]
  },
  {
   "cell_type": "code",
   "execution_count": 7,
   "id": "69690f62",
   "metadata": {},
   "outputs": [
    {
     "name": "stdout",
     "output_type": "stream",
     "text": [
      "{'name': 'Samad', 'age': 25, 'address': 'India'}\n"
     ]
    }
   ],
   "source": [
    "# delete the key \n",
    "del student3['grade'] # delete key-value pair \n",
    "print(student3)"
   ]
  },
  {
   "cell_type": "markdown",
   "id": "5c733e0d",
   "metadata": {},
   "source": [
    "# Common Dictionary Methods "
   ]
  },
  {
   "cell_type": "code",
   "execution_count": null,
   "id": "bb1b856d",
   "metadata": {},
   "outputs": [
    {
     "name": "stdout",
     "output_type": "stream",
     "text": [
      "dict_keys(['name', 'age', 'address'])\n",
      "dict_values(['Samad', 25, 'India'])\n"
     ]
    }
   ],
   "source": [
    "# get all the keys \n",
    "keys= student3.keys()\n",
    "print(keys)\n",
    "values = student3.values()\n",
    "print(values)\n",
    "\n",
    "items= student3.items() # get all key value pairs in the form of list of tuples in them"
   ]
  },
  {
   "cell_type": "markdown",
   "id": "72d5e7c3",
   "metadata": {},
   "source": [
    "# Shallow Copy "
   ]
  },
  {
   "cell_type": "markdown",
   "id": "90413bdf",
   "metadata": {},
   "source": [
    "A shallow copy creates a new object at a new memory location, but the inner contents are just references to the original’s inner contents — not actual copies. its done using .copy function\n",
    "\n",
    "\n",
    "“The inner contents of the new (shallow-copied) object contain the references (memory addresses) of the inner contents of the original object.”\n",
    "\n",
    "If the inner content of a dictionary contains a list or a dictionary as value of one of the key then . If this list in the original object is modified then it will also be reflect in the new object. \n",
    "\n",
    "\n",
    "original dictionary : \n",
    " student3 = {\n",
    "     \"name\": \"Samad\", \n",
    "     \"age\" : 21, \n",
    "     \"scores\":[12,23,33]  if i changed the contents of scores \n",
    " }\n",
    "\n",
    "then the scores in the copied object will also be updated , \n",
    "and if i updated the value of age in the original copy then it wont reflect in the new copy because it is immutable\n",
    "\n",
    "✅ If you replace the age value with a list or a dictionary (i.e., a mutable object), and create a new object of student \n",
    "then modifying that inner object of age will reflect in the shallow copy too — because list is mutable .\n",
    "\n",
    "\n",
    "The main concept is that a copy of the object is created at a new memory location but its contents are just the reference to the original object. \n",
    "If the original object contained any mutable object as values to a key inside them then modifying those inner list or dictionary will also be modified in the copied object . list and dictionaries are mutable rest others are immutable. \n",
    "\n",
    "if the original object contains tuples  as values to a key then updating them in the original object will not reflect in the new object/ copied object  "
   ]
  },
  {
   "cell_type": "code",
   "execution_count": null,
   "id": "c3d7dc8e",
   "metadata": {},
   "outputs": [
    {
     "name": "stdout",
     "output_type": "stream",
     "text": [
      "{'name': 'Samad', 'age': 21, 'grade': 'A'}\n",
      "{'name': 'Samad', 'age': 21, 'grade': 'A'}\n"
     ]
    }
   ],
   "source": [
    " # Traditional , its referencing not a copy , \n",
    "student4 = {\n",
    "     \"name\": \"Samad\", \n",
    "     \"age\" : 21, \n",
    "    \"grade\"  : 'A' \n",
    " }\n",
    "\n",
    "student_copy = student4\n",
    "print(student4)\n",
    "print(student_copy)"
   ]
  },
  {
   "cell_type": "code",
   "execution_count": 6,
   "id": "4918e93a",
   "metadata": {},
   "outputs": [
    {
     "name": "stdout",
     "output_type": "stream",
     "text": [
      "{'name': 'Ilaf', 'age': 21, 'grade': 'A'}\n",
      "{'name': 'Ilaf', 'age': 21, 'grade': 'A'}\n"
     ]
    }
   ],
   "source": [
    "student4[\"name\"] = \"Ilaf\"\n",
    "print(student4)\n",
    "print(student_copy)\n"
   ]
  },
  {
   "cell_type": "code",
   "execution_count": 7,
   "id": "91597358",
   "metadata": {},
   "outputs": [
    {
     "name": "stdout",
     "output_type": "stream",
     "text": [
      "{'name': 'Samad5', 'age': 215, 'grade': 'A5'}\n",
      "{'name': 'Samad5', 'age': 215, 'grade': 'A5'}\n"
     ]
    }
   ],
   "source": [
    "# Doing a shallow copy \n",
    "student5 = {\n",
    "     \"name\": \"Samad5\", \n",
    "     \"age\" : 215, \n",
    "    \"grade\"  : 'A5' \n",
    " }\n",
    "\n",
    "student_copy = student5.copy() # Created a shallow copy not referencing\n",
    "print(student5)\n",
    "print(student_copy)"
   ]
  },
  {
   "cell_type": "code",
   "execution_count": 9,
   "id": "30450f67",
   "metadata": {},
   "outputs": [
    {
     "name": "stdout",
     "output_type": "stream",
     "text": [
      "{'name': 'Ilaf5', 'age': 215, 'grade': 'A5'}\n",
      "{'name': 'Samad5', 'age': 215, 'grade': 'A5'}\n"
     ]
    }
   ],
   "source": [
    "# Modifying the name in original dictionary \n",
    "student5['name'] = \"Ilaf5\" \n",
    "print(student5) # name updated here \n",
    "print(student_copy) # but name didn't updated / reflected here \n",
    "# In student_copy the name remained \"Samad5\" \n",
    "\n",
    "# This happened because the name is a string and strings are immutable. so the name replaced from Samad5 to Ilaf5 didn't reflected in copied object , but if there would be a mutable object like a list or set then it would have reflect in the copied object \n"
   ]
  },
  {
   "cell_type": "markdown",
   "id": "e2c1a899",
   "metadata": {},
   "source": [
    "# Iterating over Dictionaries "
   ]
  },
  {
   "cell_type": "markdown",
   "id": "fd3b9b49",
   "metadata": {},
   "source": [
    "You can use loops to iterate over dictionaries , keys , values or , items. "
   ]
  },
  {
   "cell_type": "code",
   "execution_count": 10,
   "id": "7626c8c6",
   "metadata": {},
   "outputs": [
    {
     "name": "stdout",
     "output_type": "stream",
     "text": [
      "name\n",
      "age\n",
      "grade\n"
     ]
    }
   ],
   "source": [
    "# Iterating over keys \n",
    "student8 = {\n",
    "     \"name\": \"Ilaf10\", \n",
    "     \"age\" : 20, \n",
    "    \"grade\"  : 'A' \n",
    " }\n",
    "\n",
    "for keys in student8.keys():\n",
    "    print(keys)"
   ]
  },
  {
   "cell_type": "code",
   "execution_count": 13,
   "id": "cb29ed31",
   "metadata": {},
   "outputs": [
    {
     "name": "stdout",
     "output_type": "stream",
     "text": [
      "Ilaf10\n",
      "20\n",
      "A\n"
     ]
    }
   ],
   "source": [
    "# Iterating over values \n",
    "for valu in student8.values(): \n",
    "    print(valu)"
   ]
  },
  {
   "cell_type": "code",
   "execution_count": 15,
   "id": "1c3d0074",
   "metadata": {},
   "outputs": [
    {
     "name": "stdout",
     "output_type": "stream",
     "text": [
      "name : Ilaf10\n",
      "age : 20\n",
      "grade : A\n"
     ]
    }
   ],
   "source": [
    "# Iterating over key-value pairs \n",
    "for key,value in student8.items(): \n",
    "    print(f\"{key} : {value}\")"
   ]
  },
  {
   "cell_type": "markdown",
   "id": "fba09455",
   "metadata": {},
   "source": [
    "# Nested Dictionaries "
   ]
  },
  {
   "cell_type": "code",
   "execution_count": 16,
   "id": "4cb18e40",
   "metadata": {},
   "outputs": [
    {
     "name": "stdout",
     "output_type": "stream",
     "text": [
      "{'student-1': {'name': 'Samad', 'age': 20}, 'student-2': {'name': 'Ilaf', 'age': 19}}\n"
     ]
    }
   ],
   "source": [
    "students = {\n",
    "    \"student-1\":{\"name\":\"Samad\",\"age\":20},\n",
    "    \"student-2\":{\"name\":\"Ilaf\",\"age\":19}\n",
    "}\n",
    "print(students)"
   ]
  },
  {
   "cell_type": "code",
   "execution_count": 18,
   "id": "978b496f",
   "metadata": {},
   "outputs": [
    {
     "name": "stdout",
     "output_type": "stream",
     "text": [
      "Samad\n",
      "19\n"
     ]
    }
   ],
   "source": [
    "## Access nested dictionaries elements \n",
    "print(students[\"student-1\"][\"name\"])\n",
    "print(students[\"student-2\"][\"age\"])"
   ]
  },
  {
   "cell_type": "code",
   "execution_count": 20,
   "id": "29806ee4",
   "metadata": {},
   "outputs": [
    {
     "name": "stdout",
     "output_type": "stream",
     "text": [
      "student-1:{'name': 'Samad', 'age': 20}\n",
      "name : Samad\n",
      "age : 20\n",
      "student-2:{'name': 'Ilaf', 'age': 19}\n",
      "name : Ilaf\n",
      "age : 19\n"
     ]
    }
   ],
   "source": [
    "# Iterating over nested dictionaries \n",
    "for student_id , student_info in students.items():\n",
    "    print(f\"{student_id}:{student_info}\")\n",
    "    for key,value in student_info.items():\n",
    "        print(f\"{key} : {value}\") \n"
   ]
  },
  {
   "cell_type": "markdown",
   "id": "962c541f",
   "metadata": {},
   "source": [
    "# Dictionary Comprehension"
   ]
  },
  {
   "cell_type": "code",
   "execution_count": 22,
   "id": "ac15de47",
   "metadata": {},
   "outputs": [
    {
     "name": "stdout",
     "output_type": "stream",
     "text": [
      "{1: 1, 2: 4, 3: 9, 4: 16, 5: 25}\n"
     ]
    }
   ],
   "source": [
    "square = {x:x**2 for x in range(1,6,1)}\n",
    "print(square)"
   ]
  },
  {
   "cell_type": "markdown",
   "id": "a1a8c3bf",
   "metadata": {},
   "source": [
    "# Dictionary comprehension with Conditions"
   ]
  },
  {
   "cell_type": "code",
   "execution_count": 24,
   "id": "f07defa4",
   "metadata": {},
   "outputs": [
    {
     "name": "stdout",
     "output_type": "stream",
     "text": [
      "{2: 4, 4: 16, 6: 36, 8: 64, 10: 100}\n"
     ]
    }
   ],
   "source": [
    "even_square = {x:x**2 for x in range(1,11) if x%2==0}\n",
    "print(even_square)"
   ]
  },
  {
   "cell_type": "code",
   "execution_count": 30,
   "id": "bc9fc469",
   "metadata": {},
   "outputs": [
    {
     "name": "stdout",
     "output_type": "stream",
     "text": [
      "{1: 1, 2: 4, 3: 3, 4: 4}\n"
     ]
    }
   ],
   "source": [
    "# Practical Examples \n",
    "# Use a dictionary to count the frequency of elements in a list \n",
    "\n",
    "nums = [1,2,2,2,2,3,3,3,4,4,4,4]\n",
    "\n",
    "frequency  = {}\n",
    "\n",
    "for number in nums: \n",
    "    if number in frequency: \n",
    "        frequency[number]+=1\n",
    "    else: \n",
    "        frequency[number]=1\n",
    "\n",
    "print(frequency)"
   ]
  },
  {
   "cell_type": "markdown",
   "id": "d4c253fd",
   "metadata": {},
   "source": [
    "# Merge 2 dictionaries "
   ]
  },
  {
   "cell_type": "code",
   "execution_count": 32,
   "id": "927f26b1",
   "metadata": {},
   "outputs": [
    {
     "name": "stdout",
     "output_type": "stream",
     "text": [
      "{'a': 1, 'b': 3, 'c': 4}\n"
     ]
    }
   ],
   "source": [
    "dict1 = {\"a\":1,\"b\":2}\n",
    "dict2 = {\"b\":3,\"c\":4}\n",
    "\n",
    "merged_dict = {**dict1,**dict2}\n",
    "print(merged_dict)"
   ]
  },
  {
   "cell_type": "code",
   "execution_count": null,
   "id": "556c4077",
   "metadata": {},
   "outputs": [],
   "source": []
  }
 ],
 "metadata": {
  "kernelspec": {
   "display_name": "Python 3",
   "language": "python",
   "name": "python3"
  },
  "language_info": {
   "codemirror_mode": {
    "name": "ipython",
    "version": 3
   },
   "file_extension": ".py",
   "mimetype": "text/x-python",
   "name": "python",
   "nbconvert_exporter": "python",
   "pygments_lexer": "ipython3",
   "version": "3.12.0"
  }
 },
 "nbformat": 4,
 "nbformat_minor": 5
}
