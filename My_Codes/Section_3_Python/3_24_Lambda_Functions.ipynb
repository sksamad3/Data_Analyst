{
 "cells": [
  {
   "cell_type": "markdown",
   "id": "4b7eadfe",
   "metadata": {},
   "source": [
    "# Lambda Functions in Python "
   ]
  },
  {
   "cell_type": "markdown",
   "id": "4102c1c3",
   "metadata": {},
   "source": [
    "A lambda function is a small, anonymous (unnamed) function defined using the lambda keyword.\n",
    "\n",
    "It’s used for short, simple operations where defining a full def function would be overkill.\n",
    "\n",
    "\"Lambda functions are used to write quick, one-line anonymous functions for simple operations, especially when passing them as arguments to functions like map(), filter(), or sorted(). They help keep the code concise and readable when the function logic is simple and short-lived.\"\n",
    "\n"
   ]
  },
  {
   "cell_type": "code",
   "execution_count": null,
   "id": "1a602dd4",
   "metadata": {},
   "outputs": [],
   "source": [
    "# Syntax of Lambda functions \n",
    "# variable_name = lambda arguments:expression "
   ]
  },
  {
   "cell_type": "code",
   "execution_count": 3,
   "id": "86b2f436",
   "metadata": {},
   "outputs": [
    {
     "name": "stdout",
     "output_type": "stream",
     "text": [
      "5\n"
     ]
    }
   ],
   "source": [
    "'''def addition(a,b): \n",
    "    return a+b\n",
    "print(addition(2,3))'''"
   ]
  },
  {
   "cell_type": "code",
   "execution_count": 1,
   "id": "f681e8da",
   "metadata": {},
   "outputs": [
    {
     "name": "stdout",
     "output_type": "stream",
     "text": [
      "11\n"
     ]
    }
   ],
   "source": [
    "# Lambda function for addition of two numbers \n",
    "addition = lambda a,b:a+b\n",
    "type(addition)\n",
    "print(addition(5,6))"
   ]
  },
  {
   "cell_type": "code",
   "execution_count": 3,
   "id": "0d251312",
   "metadata": {},
   "outputs": [
    {
     "name": "stdout",
     "output_type": "stream",
     "text": [
      "True\n"
     ]
    }
   ],
   "source": [
    "# Lambda function to create function to check whether a numbe is even or not \n",
    "even = lambda num : num%2==0\n",
    "print(even(34))"
   ]
  },
  {
   "cell_type": "code",
   "execution_count": 4,
   "id": "6c55a89f",
   "metadata": {},
   "outputs": [
    {
     "data": {
      "text/plain": [
       "36"
      ]
     },
     "execution_count": 4,
     "metadata": {},
     "output_type": "execute_result"
    }
   ],
   "source": [
    "addi = lambda x,y,z: x+y+z \n",
    "addi(12,12,12)"
   ]
  },
  {
   "cell_type": "markdown",
   "id": "e8f394f6",
   "metadata": {},
   "source": [
    "# Map Function\n",
    "The map() function applies a given function to each item in an iterable (like a list, tuple, etc.) and returns a map object (which is an iterator).\n",
    "\n",
    "\"map() is used to apply a function to every item in an iterable, returning a new iterator with the transformed items. It's perfect for transforming data without writing loops.\""
   ]
  },
  {
   "cell_type": "code",
   "execution_count": 5,
   "id": "7374af1b",
   "metadata": {},
   "outputs": [
    {
     "data": {
      "text/plain": [
       "4"
      ]
     },
     "execution_count": 5,
     "metadata": {},
     "output_type": "execute_result"
    }
   ],
   "source": [
    "# Map function \n",
    "# Squaring of numbers in a list \n",
    "numbers = [1,2,3,4,5,6]\n",
    "def square(number): \n",
    "    return number**2\n",
    "\n",
    "square(2)\n"
   ]
  },
  {
   "cell_type": "code",
   "execution_count": 6,
   "id": "0b6b51ca",
   "metadata": {},
   "outputs": [
    {
     "name": "stdout",
     "output_type": "stream",
     "text": [
      "[1, 4, 9, 16, 25, 36]\n"
     ]
    }
   ],
   "source": [
    "# lambda function with map for squaring numbers \n",
    "squares = list(map(lambda x:x**2,numbers))\n",
    "print(squares)"
   ]
  },
  {
   "cell_type": "code",
   "execution_count": null,
   "id": "5b74fdb6",
   "metadata": {},
   "outputs": [],
   "source": []
  }
 ],
 "metadata": {
  "kernelspec": {
   "display_name": "Python 3",
   "language": "python",
   "name": "python3"
  },
  "language_info": {
   "codemirror_mode": {
    "name": "ipython",
    "version": 3
   },
   "file_extension": ".py",
   "mimetype": "text/x-python",
   "name": "python",
   "nbconvert_exporter": "python",
   "pygments_lexer": "ipython3",
   "version": "3.12.0"
  }
 },
 "nbformat": 4,
 "nbformat_minor": 5
}
