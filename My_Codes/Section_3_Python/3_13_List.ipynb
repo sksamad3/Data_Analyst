{
 "cells": [
  {
   "cell_type": "markdown",
   "id": "7245a88b",
   "metadata": {},
   "source": [
    "# Lists"
   ]
  },
  {
   "cell_type": "code",
   "execution_count": 1,
   "id": "406f7abb",
   "metadata": {},
   "outputs": [
    {
     "name": "stdout",
     "output_type": "stream",
     "text": [
      "<class 'list'>\n"
     ]
    }
   ],
   "source": [
    "# Create a list \n",
    "lst = [] \n",
    "print(type(lst))"
   ]
  },
  {
   "cell_type": "code",
   "execution_count": 3,
   "id": "3bdd2429",
   "metadata": {},
   "outputs": [
    {
     "name": "stdout",
     "output_type": "stream",
     "text": [
      "['Krish', 'Jack', 'Jacob', 1, 2, 3, 4, 5]\n"
     ]
    }
   ],
   "source": [
    "name = [\"Krish\",\"Jack\",\"Jacob\",1,2,3,4,5]\n",
    "print(name)"
   ]
  },
  {
   "cell_type": "code",
   "execution_count": 5,
   "id": "f13d67df",
   "metadata": {},
   "outputs": [
    {
     "name": "stdout",
     "output_type": "stream",
     "text": [
      "[1, 'Hello', 4.3, True]\n"
     ]
    }
   ],
   "source": [
    "mixed_list = [1,\"Hello\",4.3,True]\n",
    "print(mixed_list)"
   ]
  },
  {
   "cell_type": "markdown",
   "id": "563c1c17",
   "metadata": {},
   "source": [
    "# Accessing List elements "
   ]
  },
  {
   "cell_type": "code",
   "execution_count": 1,
   "id": "652d4836",
   "metadata": {},
   "outputs": [],
   "source": [
    "\n",
    "fruits = [\"apple\",\"banana\",\"cherry\",\"kiwi\",\"guava\"]"
   ]
  },
  {
   "cell_type": "code",
   "execution_count": null,
   "id": "5250c12a",
   "metadata": {},
   "outputs": [
    {
     "name": "stdout",
     "output_type": "stream",
     "text": [
      "apple\n",
      "cherry\n",
      "guava\n",
      "guava\n"
     ]
    }
   ],
   "source": [
    "print(fruits[0])\n",
    "print(fruits[2])\n",
    "print(fruits[4])\n",
    "print(fruits[-1])\n"
   ]
  },
  {
   "cell_type": "code",
   "execution_count": 10,
   "id": "3a8a8faf",
   "metadata": {},
   "outputs": [
    {
     "name": "stdout",
     "output_type": "stream",
     "text": [
      "banana\n",
      "['banana', 'cherry', 'kiwi', 'guava']\n",
      "['banana', 'cherry', 'kiwi']\n",
      "[]\n"
     ]
    }
   ],
   "source": [
    "print(fruits[1])\n",
    "print(fruits[1:])\n",
    "print(fruits[1:4])\n",
    "print(fruits[-1:2])"
   ]
  },
  {
   "cell_type": "markdown",
   "id": "f55d25a3",
   "metadata": {},
   "source": [
    "# Modifying List elements"
   ]
  },
  {
   "cell_type": "code",
   "execution_count": 2,
   "id": "b3f2c43e",
   "metadata": {},
   "outputs": [
    {
     "name": "stdout",
     "output_type": "stream",
     "text": [
      "['apple', 'watermelon', 'cherry', 'kiwi', 'guava']\n"
     ]
    }
   ],
   "source": [
    "fruits[1] = \"watermelon\"\n",
    "print(fruits)"
   ]
  },
  {
   "cell_type": "code",
   "execution_count": null,
   "id": "ee6762c7",
   "metadata": {},
   "outputs": [
    {
     "name": "stdout",
     "output_type": "stream",
     "text": [
      "['apple', 'watermelon', 'cherry', 'kiwi', 'guava']\n"
     ]
    }
   ],
   "source": []
  },
  {
   "cell_type": "code",
   "execution_count": 13,
   "id": "587c8ea5",
   "metadata": {},
   "outputs": [
    {
     "name": "stdout",
     "output_type": "stream",
     "text": [
      "['apple', 'W', 'a', 't', 'e', 'r', 'm', 'e', 'l', 'o', 'n']\n"
     ]
    }
   ],
   "source": [
    "fruits[1:]=\"Watermelon\"\n",
    "print(fruits)"
   ]
  },
  {
   "cell_type": "markdown",
   "id": "f435dde9",
   "metadata": {},
   "source": [
    "# List Methods"
   ]
  },
  {
   "cell_type": "code",
   "execution_count": 3,
   "id": "a53738f6",
   "metadata": {},
   "outputs": [
    {
     "name": "stdout",
     "output_type": "stream",
     "text": [
      "['apple', 'watermelon', 'cherry', 'kiwi', 'guava', 'orange']\n"
     ]
    }
   ],
   "source": [
    "fruits.append(\"orange\")\n",
    "print(fruits)\n"
   ]
  },
  {
   "cell_type": "code",
   "execution_count": 4,
   "id": "e492ed98",
   "metadata": {},
   "outputs": [
    {
     "name": "stdout",
     "output_type": "stream",
     "text": [
      "['apple', 'watermelon', 'cherry', 'dragonfruit', 'kiwi', 'guava', 'orange']\n"
     ]
    }
   ],
   "source": [
    "fruits.insert(3,\"dragonfruit\")\n",
    "print(fruits)"
   ]
  },
  {
   "cell_type": "code",
   "execution_count": 5,
   "id": "91ecf55e",
   "metadata": {},
   "outputs": [
    {
     "name": "stdout",
     "output_type": "stream",
     "text": [
      "['apple', 'watermelon', 'cherry', 'dragonfruit', 'guava', 'orange']\n"
     ]
    }
   ],
   "source": [
    "fruits.remove(\"kiwi\")\n",
    "print(fruits)"
   ]
  },
  {
   "cell_type": "code",
   "execution_count": 6,
   "id": "0aab4478",
   "metadata": {},
   "outputs": [
    {
     "name": "stdout",
     "output_type": "stream",
     "text": [
      "orange\n",
      "['apple', 'watermelon', 'cherry', 'dragonfruit', 'guava']\n"
     ]
    }
   ],
   "source": [
    "# Remove and return the last elements\n",
    "\n",
    "popped_fruits = fruits.pop()\n",
    "print(popped_fruits)\n",
    "print(fruits)"
   ]
  },
  {
   "cell_type": "code",
   "execution_count": 7,
   "id": "b1176f8b",
   "metadata": {},
   "outputs": [
    {
     "name": "stdout",
     "output_type": "stream",
     "text": [
      "2\n"
     ]
    }
   ],
   "source": [
    "# Get the index of an elements\n",
    "index = fruits.index(\"cherry\") \n",
    "print(index)"
   ]
  },
  {
   "cell_type": "code",
   "execution_count": 9,
   "id": "32f58c50",
   "metadata": {},
   "outputs": [],
   "source": [
    "fruits.insert(2,\"banana\")\n",
    "fruits.append(\"banana\")"
   ]
  },
  {
   "cell_type": "code",
   "execution_count": 11,
   "id": "7509388e",
   "metadata": {},
   "outputs": [
    {
     "name": "stdout",
     "output_type": "stream",
     "text": [
      "['apple', 'watermelon', 'banana', 'banana', 'cherry', 'dragonfruit', 'guava', 'banana']\n",
      "3\n"
     ]
    }
   ],
   "source": [
    "print(fruits)\n",
    "print(fruits.count(\"banana\"))"
   ]
  },
  {
   "cell_type": "code",
   "execution_count": 13,
   "id": "62bd6838",
   "metadata": {},
   "outputs": [
    {
     "name": "stdout",
     "output_type": "stream",
     "text": [
      "['apple', 'banana', 'banana', 'banana', 'cherry', 'dragonfruit', 'guava', 'watermelon']\n"
     ]
    }
   ],
   "source": [
    "fruits.sort()\n",
    "print(fruits)"
   ]
  },
  {
   "cell_type": "code",
   "execution_count": 14,
   "id": "856acb2d",
   "metadata": {},
   "outputs": [
    {
     "name": "stdout",
     "output_type": "stream",
     "text": [
      "['watermelon', 'guava', 'dragonfruit', 'cherry', 'banana', 'banana', 'banana', 'apple']\n"
     ]
    }
   ],
   "source": [
    "fruits.reverse()\n",
    "print(fruits)"
   ]
  },
  {
   "cell_type": "markdown",
   "id": "5264332e",
   "metadata": {},
   "source": [
    "# Slicing List "
   ]
  },
  {
   "cell_type": "code",
   "execution_count": 15,
   "id": "c46ac2f6",
   "metadata": {},
   "outputs": [
    {
     "name": "stdout",
     "output_type": "stream",
     "text": [
      "[3, 4, 5]\n",
      "[1, 2, 3, 4, 5]\n",
      "[6, 7, 8, 9, 10]\n",
      "[1, 3, 5, 7, 9]\n",
      "[10, 9, 8, 7, 6, 5, 4, 3, 2, 1]\n",
      "[1, 2, 3, 4, 5, 6, 7, 8, 9, 10]\n"
     ]
    }
   ],
   "source": [
    "numbers = [1,2,3,4,5,6,7,8,9,10]\n",
    "print(numbers[2:5])\n",
    "print(numbers[:5])\n",
    "print(numbers[5:])\n",
    "print(numbers[::2])\n",
    "print(numbers[::-1])\n",
    "print(numbers[::]) # It means all the elements"
   ]
  },
  {
   "cell_type": "markdown",
   "id": "1ecd8fce",
   "metadata": {},
   "source": [
    "# Iterating over a list"
   ]
  },
  {
   "cell_type": "code",
   "execution_count": 16,
   "id": "f355a871",
   "metadata": {},
   "outputs": [
    {
     "name": "stdout",
     "output_type": "stream",
     "text": [
      "1\n",
      "2\n",
      "3\n",
      "4\n",
      "5\n",
      "6\n",
      "7\n",
      "8\n",
      "9\n",
      "10\n"
     ]
    }
   ],
   "source": [
    "for nums in numbers :\n",
    "    print(nums)"
   ]
  },
  {
   "cell_type": "code",
   "execution_count": null,
   "id": "9b49fa43",
   "metadata": {},
   "outputs": [],
   "source": []
  },
  {
   "cell_type": "code",
   "execution_count": 18,
   "id": "37411b98",
   "metadata": {},
   "outputs": [
    {
     "name": "stdout",
     "output_type": "stream",
     "text": [
      "0 1\n",
      "1 2\n",
      "2 3\n",
      "3 4\n",
      "4 5\n",
      "5 6\n",
      "6 7\n",
      "7 8\n",
      "8 9\n",
      "9 10\n"
     ]
    }
   ],
   "source": [
    "# Iterating with index \n",
    "for index,nums in enumerate(numbers):\n",
    "    print(index,nums)"
   ]
  },
  {
   "cell_type": "markdown",
   "id": "aff98091",
   "metadata": {},
   "source": [
    "# List Comprehension \n",
    "\n",
    "1. Basic Syntax  - [expression for item in iterable]\n",
    "\n",
    "2. with condition logic -[expression item in iterable if condition]\n",
    "\n",
    "3. Nested List Comprehension -[expression for item1 in iterable1 fo item2 in iterable2]"
   ]
  },
  {
   "cell_type": "code",
   "execution_count": null,
   "id": "f5dbae08",
   "metadata": {},
   "outputs": [
    {
     "name": "stdout",
     "output_type": "stream",
     "text": [
      "[1, 4, 9, 16, 25, 36, 49, 64, 81, 100]\n"
     ]
    }
   ],
   "source": [
    "# Traditional way \n",
    "lst = []\n",
    "for x in range(1,11): \n",
    "    lst.append(x**2)\n",
    "print(lst)"
   ]
  },
  {
   "cell_type": "code",
   "execution_count": null,
   "id": "994a5e73",
   "metadata": {},
   "outputs": [
    {
     "data": {
      "text/plain": [
       "[1, 4, 9, 16, 25, 36, 49, 64, 81, 100]"
      ]
     },
     "execution_count": 21,
     "metadata": {},
     "output_type": "execute_result"
    }
   ],
   "source": [
    "#  Basic List comprehension approach \n",
    "[ x**2 for x in range(1,11,1)]"
   ]
  },
  {
   "cell_type": "code",
   "execution_count": 22,
   "id": "1f485602",
   "metadata": {},
   "outputs": [
    {
     "name": "stdout",
     "output_type": "stream",
     "text": [
      "[1, 4, 9, 16, 25, 36, 49, 64, 81, 100]\n"
     ]
    }
   ],
   "source": [
    "# Find the square of numbers from 1 to 10 \n",
    "\n",
    "square = [x**2 for x in range(1,11,1)]\n",
    "print(square)"
   ]
  },
  {
   "cell_type": "code",
   "execution_count": 24,
   "id": "59b69308",
   "metadata": {},
   "outputs": [
    {
     "name": "stdout",
     "output_type": "stream",
     "text": [
      "[2, 4, 6, 8]\n"
     ]
    }
   ],
   "source": [
    "# List comprehension with conditions \n",
    "\n",
    "# Print only even number from 1 to 10 \n",
    "lst2 = []\n",
    "for i in range(1,10): \n",
    "    if i%2==0: \n",
    "        lst2.append(i) \n",
    "\n",
    "print(lst2)\n"
   ]
  },
  {
   "cell_type": "code",
   "execution_count": 3,
   "id": "aadc427c",
   "metadata": {},
   "outputs": [
    {
     "name": "stdout",
     "output_type": "stream",
     "text": [
      "[2, 4, 6, 8, 10]\n"
     ]
    }
   ],
   "source": [
    "# Now convert to list comprehension \n",
    "evens = [x for x in range(1,11,1) if x%2==0  ]\n",
    "print(evens)"
   ]
  },
  {
   "cell_type": "code",
   "execution_count": 6,
   "id": "0d1a4a99",
   "metadata": {},
   "outputs": [
    {
     "name": "stdout",
     "output_type": "stream",
     "text": [
      "[(1, 'a'), (1, 'b'), (1, 'c'), (1, 'd'), (2, 'a'), (2, 'b'), (2, 'c'), (2, 'd'), (3, 'a'), (3, 'b'), (3, 'c'), (3, 'd'), (4, 'a'), (4, 'b'), (4, 'c'), (4, 'd')]\n"
     ]
    }
   ],
   "source": [
    "# Nested List comprehension\n",
    "l1 = [1,2,3,4]\n",
    "l2 = ['a','b','c','d']\n",
    "\n",
    "pair = [(i,j) for i in l1 for j in l2 ]\n",
    "print(pair)"
   ]
  },
  {
   "cell_type": "code",
   "execution_count": 8,
   "id": "7b8e5257",
   "metadata": {},
   "outputs": [
    {
     "name": "stdout",
     "output_type": "stream",
     "text": [
      "[5, 5, 6, 4, 13]\n"
     ]
    }
   ],
   "source": [
    "# List comprehension with function calls \n",
    "words = [\"hello\"  , \"world\" , \"python\" , \"list\" , \"comprehension\"]\n",
    "lengths = [ len(word) for word in words]\n",
    "print(lengths) # Output : [5,5,6,4,13]"
   ]
  },
  {
   "cell_type": "code",
   "execution_count": null,
   "id": "f1d6957d",
   "metadata": {},
   "outputs": [],
   "source": []
  }
 ],
 "metadata": {
  "kernelspec": {
   "display_name": "Python 3",
   "language": "python",
   "name": "python3"
  },
  "language_info": {
   "codemirror_mode": {
    "name": "ipython",
    "version": 3
   },
   "file_extension": ".py",
   "mimetype": "text/x-python",
   "name": "python",
   "nbconvert_exporter": "python",
   "pygments_lexer": "ipython3",
   "version": "3.12.0"
  }
 },
 "nbformat": 4,
 "nbformat_minor": 5
}
