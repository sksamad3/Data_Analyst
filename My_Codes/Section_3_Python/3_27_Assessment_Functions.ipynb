{
 "cells": [
  {
   "cell_type": "markdown",
   "id": "9d1be219",
   "metadata": {},
   "source": [
    "# Assessment - Functions "
   ]
  },
  {
   "cell_type": "code",
   "execution_count": 1,
   "id": "9c1b06d9",
   "metadata": {},
   "outputs": [
    {
     "name": "stdout",
     "output_type": "stream",
     "text": [
      "4\n",
      "60025\n",
      "39601\n"
     ]
    }
   ],
   "source": [
    "# 1. Define a function that takes a single integer as input and returns its square. Test the function with different inputs.\n",
    "\n",
    "def squares(x): \n",
    "    return x*x\n",
    "\n",
    "print(squares(2))\n",
    "print(squares(245))\n",
    "print(squares(199))"
   ]
  },
  {
   "cell_type": "code",
   "execution_count": 2,
   "id": "1b1c376a",
   "metadata": {},
   "outputs": [
    {
     "name": "stdout",
     "output_type": "stream",
     "text": [
      "3\n",
      "3355\n",
      "1500\n"
     ]
    }
   ],
   "source": [
    "# 2. Define a function that takes two integers as input and returns their sum. Test the function with different inputs.\n",
    "\n",
    "def sum(a,b): \n",
    "    return a+b\n",
    "\n",
    "print(sum(1,2))\n",
    "print(sum(23,3332))\n",
    "print(sum(1000,500))"
   ]
  },
  {
   "cell_type": "code",
   "execution_count": 3,
   "id": "8c355ca9",
   "metadata": {},
   "outputs": [
    {
     "name": "stdout",
     "output_type": "stream",
     "text": [
      "10\n",
      "9\n"
     ]
    }
   ],
   "source": [
    "# 3. Define a function that takes two integers as input and returns their sum. The second integer should have a default value of 5. Test the function with different inputs.\n",
    "\n",
    "def sum4(a,b=5):\n",
    "    return a+b\n",
    "\n",
    "print(sum4(a=5))\n",
    "print(sum4(4,5))"
   ]
  },
  {
   "cell_type": "code",
   "execution_count": 4,
   "id": "616c9fea",
   "metadata": {},
   "outputs": [
    {
     "name": "stdout",
     "output_type": "stream",
     "text": [
      "Samad Shaikh is 20 years old. \n"
     ]
    }
   ],
   "source": [
    "# 4. Define a function that takes three named arguments: first_name, last_name, and age, and returns a formatted string. Test the function with different inputs.\n",
    "\n",
    "def format_person(first_name,last_name,age): \n",
    "    return f\"{first_name} {last_name} is {age} years old. \"\n",
    "\n",
    "# Test \n",
    "print(format_person(\"Samad\",\"Shaikh\",20))"
   ]
  },
  {
   "cell_type": "code",
   "execution_count": 6,
   "id": "a6dea341",
   "metadata": {},
   "outputs": [
    {
     "name": "stdout",
     "output_type": "stream",
     "text": [
      "120\n"
     ]
    }
   ],
   "source": [
    "# 5. Define a function that takes a variable number of integer arguments and returns their product. Test the function with different inputs.\n",
    "\n",
    "def funct(*args): \n",
    "    product  = 1 \n",
    "    for nums in args: \n",
    "        product*=nums\n",
    "    return product\n",
    "\n",
    "print(funct(1,2,3,4,5))"
   ]
  },
  {
   "cell_type": "code",
   "execution_count": 7,
   "id": "612624af",
   "metadata": {},
   "outputs": [
    {
     "name": "stdout",
     "output_type": "stream",
     "text": [
      "30\n"
     ]
    }
   ],
   "source": [
    "# 6. Define a function that contains another function inside it. The outer function should take two integers as input and return the result of the inner function, which multiplies the two integers. Test the function with different inputs.\n",
    "\n",
    "\n",
    "def outer_function(n1 , n2): \n",
    "    def inner_function(n3,n4): \n",
    "        return n3*n4\n",
    "    return inner_function(n1,n2)\n",
    "\n",
    "print(outer_function(n1=5,n2=6))"
   ]
  },
  {
   "cell_type": "code",
   "execution_count": 8,
   "id": "266194d2",
   "metadata": {},
   "outputs": [
    {
     "name": "stdout",
     "output_type": "stream",
     "text": [
      "(4, 8, 16)\n"
     ]
    }
   ],
   "source": [
    "# 7. Define a function that takes a single integer as input and returns the integer squared, cubed, and raised to the power of four. Test the function with different inputs.\n",
    "\n",
    "def myfunc(num):\n",
    "    return num**2 , num**3 , num**4 \n",
    "print(myfunc(2))"
   ]
  },
  {
   "cell_type": "code",
   "execution_count": 9,
   "id": "25fa4383",
   "metadata": {},
   "outputs": [
    {
     "name": "stdout",
     "output_type": "stream",
     "text": [
      "120\n"
     ]
    }
   ],
   "source": [
    "# 8. Define a recursive function that calculates the factorial of a given number. Test the function with different inputs.\n",
    "\n",
    "def fact(x): \n",
    "    if x==0: \n",
    "        return 1\n",
    "    else: \n",
    "        return x * fact(x-1)\n",
    "    \n",
    "print(fact(5))"
   ]
  },
  {
   "cell_type": "code",
   "execution_count": 10,
   "id": "d9bf8b8f",
   "metadata": {},
   "outputs": [
    {
     "name": "stdout",
     "output_type": "stream",
     "text": [
      "4\n"
     ]
    }
   ],
   "source": [
    "# 9. Define a lambda function that takes two integers as input and returns their sum. Test the lambda function with different inputs.\n",
    "\n",
    "sum = lambda x ,y : x+y\n",
    "print(sum(1,3))"
   ]
  },
  {
   "cell_type": "code",
   "execution_count": 11,
   "id": "d5eb31e8",
   "metadata": {},
   "outputs": [
    {
     "name": "stdout",
     "output_type": "stream",
     "text": [
      "[1, 4, 9, 16, 25, 36, 49, 64, 81, 100]\n"
     ]
    }
   ],
   "source": [
    "# 10. Use the map function to apply a lambda function that squares each number in a list of integers. Test with different lists.\n",
    "\n",
    "lst = [1,2,3,4,5,6,7,8,9,10]\n",
    "\n",
    "print(list(map(lambda x:x**2 ,lst)))\n"
   ]
  },
  {
   "cell_type": "code",
   "execution_count": 13,
   "id": "932f6a6f",
   "metadata": {},
   "outputs": [
    {
     "name": "stdout",
     "output_type": "stream",
     "text": [
      "[2, 4, 6, 8, 10]\n"
     ]
    }
   ],
   "source": [
    "# 11. Use the filter function to filter out all odd numbers from a list of integers. Test with different lists.\n",
    "\n",
    "lst = [1,2,3,4,5,6,7,8,9,10]\n",
    "print(list(filter(lambda x:x%2==0,lst)))"
   ]
  },
  {
   "cell_type": "code",
   "execution_count": 14,
   "id": "57ead734",
   "metadata": {},
   "outputs": [],
   "source": [
    "# 12. Define a decorator function that prints 'Executing function...' before executing a function and 'Function executed.' after executing it. Apply this decorator to a function that takes a list of integers and returns their sum. Test the decorated function with different lists."
   ]
  },
  {
   "cell_type": "code",
   "execution_count": null,
   "id": "d5955cd6",
   "metadata": {},
   "outputs": [
    {
     "name": "stdout",
     "output_type": "stream",
     "text": [
      "Args : (1, 2, 3, 4, 5)\n",
      "Kwargs  : {'name': 'Samad', 'State': 'Maharashtra', 'friend': 'Ilaf', 'Country': 'India'}\n"
     ]
    }
   ],
   "source": [
    "# 13. Define a function that takes variable-length arguments and keyword arguments and prints them. Test the function with different inputs.\n",
    "\n",
    "def v_len_args(*args, **kwargs):\n",
    "    print(f\"Args : {args}\")\n",
    "    print(f\"Kwargs  : {kwargs}\")\n",
    "\n",
    "v_len_args(1,2,3,4,5,name=\"Samad\",State=\"Maharashtra\" , friend=\"Ilaf\" , Country=\"India\")"
   ]
  },
  {
   "cell_type": "code",
   "execution_count": 19,
   "id": "c8e44775",
   "metadata": {},
   "outputs": [
    {
     "name": "stdout",
     "output_type": "stream",
     "text": [
      "[1, 4, 9, 16, 25]\n"
     ]
    }
   ],
   "source": [
    "# 14. Define a higher-order function that takes a function and a list of integers as arguments, and applies the function to each integer in the list. Test with different functions and lists.\n",
    "\n",
    "def apply_funct(func  , lst): \n",
    "    return [func(x) for x in lst]\n",
    "\n",
    "print(apply_funct(lambda x:x**2 , [1,2,3,4,5]))"
   ]
  },
  {
   "cell_type": "code",
   "execution_count": 20,
   "id": "2ad24b47",
   "metadata": {},
   "outputs": [
    {
     "name": "stdout",
     "output_type": "stream",
     "text": [
      "\n",
      "    This function takes two integers and returns their sum \n",
      "\n",
      "    Parameters : \n",
      "    x (int) : First number\n",
      "    y (int) : second number\n",
      "\n",
      "    Returns \n",
      "    int : The sum of two integers \n",
      "    \n"
     ]
    }
   ],
   "source": [
    "# 15. Define a function with a docstring that explains what the function does, its parameters, and its return value. Print the function's docstring.\n",
    "\n",
    "def example_function(x,y): \n",
    "    \"\"\"\n",
    "    This function takes two integers and returns their sum \n",
    "\n",
    "    Parameters : \n",
    "    x (int) : First number\n",
    "    y (int) : second number\n",
    "\n",
    "    Returns \n",
    "    int : The sum of two integers \n",
    "    \"\"\"\n",
    "    return x+y\n",
    "\n",
    "print(example_function.__doc__)"
   ]
  },
  {
   "cell_type": "code",
   "execution_count": null,
   "id": "b8f4552b",
   "metadata": {},
   "outputs": [],
   "source": []
  }
 ],
 "metadata": {
  "kernelspec": {
   "display_name": "Python 3",
   "language": "python",
   "name": "python3"
  },
  "language_info": {
   "codemirror_mode": {
    "name": "ipython",
    "version": 3
   },
   "file_extension": ".py",
   "mimetype": "text/x-python",
   "name": "python",
   "nbconvert_exporter": "python",
   "pygments_lexer": "ipython3",
   "version": "3.12.0"
  }
 },
 "nbformat": 4,
 "nbformat_minor": 5
}
