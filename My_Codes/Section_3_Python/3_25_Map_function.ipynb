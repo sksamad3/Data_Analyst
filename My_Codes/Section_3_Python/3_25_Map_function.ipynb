{
 "cells": [
  {
   "cell_type": "markdown",
   "id": "185ebc1d",
   "metadata": {},
   "source": [
    "# Map Function\n",
    "The map() function applies a given function to each item in an iterable (like a list, tuple, etc.) and returns a map object (which is an iterator).\n",
    "\n",
    "\"map() is used to apply a function to every item in an iterable, returning a new iterator with the transformed items. It's perfect for transforming data without writing loops.\"\n",
    "\n",
    "It can be used iwth regular functions, lambda functions , with multiple iterables , providing a versatile approach to data processing in python. By using map() , we can write more efficient and readable code. "
   ]
  },
  {
   "cell_type": "code",
   "execution_count": 1,
   "id": "3e9a8d0f",
   "metadata": {},
   "outputs": [
    {
     "data": {
      "text/plain": [
       "100"
      ]
     },
     "execution_count": 1,
     "metadata": {},
     "output_type": "execute_result"
    }
   ],
   "source": [
    "def square(x): \n",
    "    return x*x\n",
    "\n",
    "square(10)"
   ]
  },
  {
   "cell_type": "code",
   "execution_count": 5,
   "id": "6c598333",
   "metadata": {},
   "outputs": [
    {
     "name": "stdout",
     "output_type": "stream",
     "text": [
      "[1, 4, 9, 16, 25, 36, 49, 64]\n"
     ]
    }
   ],
   "source": [
    "numbers = [1,2,3,4,5,6,7,8]\n",
    "# Now I want to apply the above square() function to each and every element of list of numbers i have created here. \n",
    "# For that ill need to define a loop and do so much work , so here map() comes in .\n",
    "\n",
    "# Be sure to convert the map object to a list before using it because it returns a pointer \n",
    "squarez = list(map(square,numbers))\n",
    "print(squarez)\n"
   ]
  },
  {
   "cell_type": "markdown",
   "id": "a9306628",
   "metadata": {},
   "source": [
    "# Map Function with Lambda Function "
   ]
  },
  {
   "cell_type": "code",
   "execution_count": 9,
   "id": "647049cb",
   "metadata": {},
   "outputs": [
    {
     "name": "stdout",
     "output_type": "stream",
     "text": [
      "[1, 4, 9, 16, 25, 36, 49, 64, 81, 100]\n",
      "[1, 2, 3, 4, 5, 6, 7, 8, 9, 10]\n"
     ]
    }
   ],
   "source": [
    "nums = [1,2,3,4,5,6,7,8,9,10]\n",
    "\n",
    "print(list(map(lambda x:x**2 , nums)))\n",
    "print(nums) # The original list remains unchanged "
   ]
  },
  {
   "cell_type": "markdown",
   "id": "ad141530",
   "metadata": {},
   "source": [
    "# Using Multiple Iterables with lambda and map functions"
   ]
  },
  {
   "cell_type": "code",
   "execution_count": 13,
   "id": "edfda338",
   "metadata": {},
   "outputs": [
    {
     "name": "stdout",
     "output_type": "stream",
     "text": [
      "[5, 7, 9]\n"
     ]
    }
   ],
   "source": [
    "numbers1 = [1,2,3]\n",
    "numbers2 = [4,5,6]\n",
    "\n",
    "# I want to add corresponding elements of both the list\n",
    "# So final list will be [5,7,9]\n",
    "\n",
    "added_numbers = list(map(lambda x,y:x+y ,numbers1,numbers2 ))\n",
    "print(added_numbers)"
   ]
  },
  {
   "cell_type": "code",
   "execution_count": 15,
   "id": "3ae6ed6a",
   "metadata": {},
   "outputs": [
    {
     "name": "stdout",
     "output_type": "stream",
     "text": [
      "[1, 2, 3, 4, 5]\n"
     ]
    }
   ],
   "source": [
    "# Using map() to convert a list of strings to integers\n",
    "str_numbers = ['1','2','3','4','5']\n",
    "int_numbers = list(map(int,str_numbers))\n",
    "\n",
    "print(int_numbers)"
   ]
  },
  {
   "cell_type": "code",
   "execution_count": 16,
   "id": "eccea4af",
   "metadata": {},
   "outputs": [
    {
     "name": "stdout",
     "output_type": "stream",
     "text": [
      "['APPLE', 'BANANA', 'CHERRY']\n"
     ]
    }
   ],
   "source": [
    "# Use map() to capitalize the words from a list of words \n",
    "words = ['apple','banana' , 'cherry']\n",
    "upper_words  = list(map(str.upper,words))\n",
    "print(upper_words)"
   ]
  },
  {
   "cell_type": "code",
   "execution_count": 17,
   "id": "a845db0c",
   "metadata": {},
   "outputs": [
    {
     "data": {
      "text/plain": [
       "['Samad', 'Jack']"
      ]
     },
     "execution_count": 17,
     "metadata": {},
     "output_type": "execute_result"
    }
   ],
   "source": [
    "# Apply map() function to a list of dictionary \n",
    "\n",
    "def get_name(person): \n",
    "    return person['name']\n",
    "\n",
    "people = [\n",
    "    {'name':\"Samad\",'age':21}, \n",
    "    {'name':\"Jack\",'age':20}\n",
    "]\n",
    "\n",
    "list(map(get_name,people))"
   ]
  },
  {
   "cell_type": "code",
   "execution_count": null,
   "id": "00ee60cf",
   "metadata": {},
   "outputs": [],
   "source": []
  }
 ],
 "metadata": {
  "kernelspec": {
   "display_name": "Python 3",
   "language": "python",
   "name": "python3"
  },
  "language_info": {
   "codemirror_mode": {
    "name": "ipython",
    "version": 3
   },
   "file_extension": ".py",
   "mimetype": "text/x-python",
   "name": "python",
   "nbconvert_exporter": "python",
   "pygments_lexer": "ipython3",
   "version": "3.12.0"
  }
 },
 "nbformat": 4,
 "nbformat_minor": 5
}
