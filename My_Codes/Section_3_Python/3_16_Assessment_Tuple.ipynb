{
 "cells": [
  {
   "cell_type": "markdown",
   "id": "cd2aa325",
   "metadata": {},
   "source": [
    "# Assessment Tuple"
   ]
  },
  {
   "cell_type": "code",
   "execution_count": 1,
   "id": "08831132",
   "metadata": {},
   "outputs": [
    {
     "name": "stdout",
     "output_type": "stream",
     "text": [
      "(1, 2, 3, 4, 5, 6, 7, 8, 9, 10)\n"
     ]
    }
   ],
   "source": [
    "# 1. Create a tuple with the first 10 positive integers. Print the tuple.\n",
    "nums = (1,2,3,4,5,6,7,8,9,10)\n",
    "print(nums)"
   ]
  },
  {
   "cell_type": "code",
   "execution_count": null,
   "id": "a026e31b",
   "metadata": {},
   "outputs": [],
   "source": []
  }
 ],
 "metadata": {
  "kernelspec": {
   "display_name": "Python 3",
   "language": "python",
   "name": "python3"
  },
  "language_info": {
   "codemirror_mode": {
    "name": "ipython",
    "version": 3
   },
   "file_extension": ".py",
   "mimetype": "text/x-python",
   "name": "python",
   "nbconvert_exporter": "python",
   "pygments_lexer": "ipython3",
   "version": "3.12.0"
  }
 },
 "nbformat": 4,
 "nbformat_minor": 5
}
