{
 "cells": [
  {
   "cell_type": "markdown",
   "id": "cd2aa325",
   "metadata": {},
   "source": [
    "# Assessment Tuple"
   ]
  },
  {
   "cell_type": "code",
   "execution_count": null,
   "id": "08831132",
   "metadata": {},
   "outputs": [
    {
     "name": "stdout",
     "output_type": "stream",
     "text": [
      "(1, 2, 3, 4, 5, 6, 7, 8, 9, 10)\n"
     ]
    }
   ],
   "source": [
    "# 1. Create a tuple with the first 10 positive integers. Print the tuple.\n",
    "nums = (1,2,3,4,5,6,7,8,9,10)\n",
    "print(nums)"
   ]
  },
  {
   "cell_type": "code",
   "execution_count": 7,
   "id": "a026e31b",
   "metadata": {},
   "outputs": [
    {
     "name": "stdout",
     "output_type": "stream",
     "text": [
      "1\n",
      "6\n",
      "10\n"
     ]
    }
   ],
   "source": [
    "# 2. Print the first, middle, and last elements of the tuple created in Assignment 1.\n",
    "first = nums[0]\n",
    "last  = nums[-1]\n",
    "middle = nums[len(nums)//2]\n",
    "\n",
    "print(first)\n",
    "print(middle)\n",
    "print(last)"
   ]
  },
  {
   "cell_type": "code",
   "execution_count": 12,
   "id": "3cbbed34",
   "metadata": {},
   "outputs": [
    {
     "name": "stdout",
     "output_type": "stream",
     "text": [
      "First 3 elements :  (1, 2, 3)\n",
      "Last 3 elements :  (8, 9, 10)\n",
      "From index 2 to 5 (3, 4, 5, 6)\n"
     ]
    }
   ],
   "source": [
    "# 3. Print the first three elements, the last three elements, and the elements from index 2 to 5 of the tuple created in Assignment 1.\n",
    "print(\"First 3 elements : \",nums[0:3])\n",
    "print(\"Last 3 elements : \",nums[7:])\n",
    "print(\"From index 2 to 5\",nums[2:6])"
   ]
  },
  {
   "cell_type": "code",
   "execution_count": 15,
   "id": "d167add2",
   "metadata": {},
   "outputs": [
    {
     "name": "stdout",
     "output_type": "stream",
     "text": [
      "Element at 2nd row and 3rd columns :  6\n"
     ]
    }
   ],
   "source": [
    "# 4. Create a nested tuple representing a 3x3 matrix and print the matrix. Access and print the element at the second row and third column.\n",
    "\n",
    "matrix = (\n",
    "    (1,2,3),\n",
    "    (4,5,6),\n",
    "    (7,8,9)\n",
    ")\n",
    "\n",
    "print(\"Element at 2nd row and 3rd columns : \",matrix[1][2])"
   ]
  },
  {
   "cell_type": "code",
   "execution_count": 16,
   "id": "1f0ce687",
   "metadata": {},
   "outputs": [
    {
     "name": "stdout",
     "output_type": "stream",
     "text": [
      "(1, 2, 3, 4, 5, 6)\n"
     ]
    }
   ],
   "source": [
    "# 5. Concatenate two tuples: (1, 2, 3) and (4, 5, 6). Print the resulting tuple.\n",
    "\n",
    "t1 = (1,2,3)\n",
    "t2 = (4,5,6)\n",
    "concatenated_tuple = t1+t2\n",
    "print(concatenated_tuple)"
   ]
  },
  {
   "cell_type": "code",
   "execution_count": 23,
   "id": "5848547c",
   "metadata": {},
   "outputs": [
    {
     "name": "stdout",
     "output_type": "stream",
     "text": [
      "occurence of 3 :  4\n",
      "3\n"
     ]
    }
   ],
   "source": [
    "# 6. Create a tuple with duplicate elements and count the occurrences of an element. Find the index of the first occurrence of an element in the tuple.\n",
    "\n",
    "n1 = (1, 1, 2,3,3,3,3,4,5,5)\n",
    "\n",
    "print(\"occurence of 3 : \" , n1.count(3))\n",
    "print(n1.index(3))\n"
   ]
  },
  {
   "cell_type": "code",
   "execution_count": 24,
   "id": "d6287081",
   "metadata": {},
   "outputs": [
    {
     "name": "stdout",
     "output_type": "stream",
     "text": [
      "First :  1\n",
      "Middle :  [2, 3, 4]\n",
      "Last :  5\n"
     ]
    }
   ],
   "source": [
    "# 7. Create a tuple with 5 elements and unpack it into 5 variables. Print the variables.\n",
    "\n",
    "t3 = (1,2,3,4,5)\n",
    "first , *middle , last = t3\n",
    "print(\"First : \",first)\n",
    "print(\"Middle : \",middle)\n",
    "print(\"Last : \",last)"
   ]
  },
  {
   "cell_type": "code",
   "execution_count": 30,
   "id": "809915ec",
   "metadata": {},
   "outputs": [
    {
     "name": "stdout",
     "output_type": "stream",
     "text": [
      "(1, 2, 3, 4, 5)\n",
      "<class 'tuple'>\n"
     ]
    }
   ],
   "source": [
    "# 8. Convert a list of the first 5 positive integers to a tuple. Print the tuple.\n",
    "tup = tuple([i for i in range(1,6)])\n",
    "print(tup)\n",
    "print(type(tup))\n",
    "\n"
   ]
  },
  {
   "cell_type": "code",
   "execution_count": 31,
   "id": "b72e6ad2",
   "metadata": {},
   "outputs": [
    {
     "name": "stdout",
     "output_type": "stream",
     "text": [
      "1 2 3 \n",
      "4 5 6 \n",
      "7 8 9 \n"
     ]
    }
   ],
   "source": [
    "# 9. Create a tuple containing 3 tuples, each with 3 elements. Print the tuple of tuples.\n",
    "\n",
    "matrix = (\n",
    "    (1,2,3),\n",
    "    (4,5,6),\n",
    "    (7,8,9)\n",
    ")\n",
    "\n",
    "for rows in matrix: \n",
    "    for cols in rows : \n",
    "        print(cols,end=\" \")\n",
    "    print()"
   ]
  },
  {
   "cell_type": "code",
   "execution_count": 39,
   "id": "3205d25a",
   "metadata": {},
   "outputs": [
    {
     "name": "stdout",
     "output_type": "stream",
     "text": [
      "(1, 2, 3, 4, 5, 6) <class 'tuple'>\n"
     ]
    }
   ],
   "source": [
    "# 10. Create a tuple with the first 5 positive integers. Convert it to a list, append the number 6, and convert it back to a tuple. Print the resulting tuple.\n",
    "tup = tuple([i for i in range(1,6)])\n",
    "tup = list(tup)\n",
    "tup.append(6)\n",
    "tup = tuple(tup)\n",
    "print(tup , type(tup))"
   ]
  },
  {
   "cell_type": "code",
   "execution_count": 42,
   "id": "3565c6ef",
   "metadata": {},
   "outputs": [
    {
     "name": "stdout",
     "output_type": "stream",
     "text": [
      "hello\n"
     ]
    }
   ],
   "source": [
    "# 11. Create a tuple with the characters of a string. Join the tuple elements into a single string. Print the string.\n",
    "\n",
    "s = \"hello\"\n",
    "s = tuple(s)\n",
    "\n",
    "joined_string  = ''.join(s)\n",
    "print(joined_string)\n",
    "\n"
   ]
  },
  {
   "cell_type": "code",
   "execution_count": null,
   "id": "31f63fd2",
   "metadata": {},
   "outputs": [],
   "source": []
  }
 ],
 "metadata": {
  "kernelspec": {
   "display_name": "Python 3",
   "language": "python",
   "name": "python3"
  },
  "language_info": {
   "codemirror_mode": {
    "name": "ipython",
    "version": 3
   },
   "file_extension": ".py",
   "mimetype": "text/x-python",
   "name": "python",
   "nbconvert_exporter": "python",
   "pygments_lexer": "ipython3",
   "version": "3.12.0"
  }
 },
 "nbformat": 4,
 "nbformat_minor": 5
}
