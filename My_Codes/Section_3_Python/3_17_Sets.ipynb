{
 "cells": [
  {
   "cell_type": "markdown",
   "id": "d9d2c518",
   "metadata": {},
   "source": [
    "# Sets "
   ]
  },
  {
   "cell_type": "code",
   "execution_count": 1,
   "id": "6fa3cc15",
   "metadata": {},
   "outputs": [
    {
     "name": "stdout",
     "output_type": "stream",
     "text": [
      "{1, 2, 3, 4, 5}\n",
      "<class 'set'>\n"
     ]
    }
   ],
   "source": [
    "# create a set \n",
    "my_set = {1,2,3,4,5}\n",
    "print(my_set)\n",
    "print(type(my_set))"
   ]
  },
  {
   "cell_type": "code",
   "execution_count": 2,
   "id": "4ae82d25",
   "metadata": {},
   "outputs": [
    {
     "name": "stdout",
     "output_type": "stream",
     "text": [
      "{1, 2, 3, 4, 5} <class 'set'>\n"
     ]
    }
   ],
   "source": [
    "new_set = set([1,2,3,4,5])\n",
    "print(new_set,type(new_set))"
   ]
  },
  {
   "cell_type": "markdown",
   "id": "8e0489e4",
   "metadata": {},
   "source": [
    "# Unique Nature of Sets"
   ]
  },
  {
   "cell_type": "code",
   "execution_count": null,
   "id": "0714aad3",
   "metadata": {},
   "outputs": [
    {
     "name": "stdout",
     "output_type": "stream",
     "text": [
      "{1, 2, 3, 4, 5}\n"
     ]
    }
   ],
   "source": [
    "new_set2 = set([1,2,2,2,3,5,5,5,4,5])\n",
    "print(new_set2) # OUtput : {1,2,3,4,5} , with duplicates removed "
   ]
  },
  {
   "cell_type": "markdown",
   "id": "18c7153c",
   "metadata": {},
   "source": [
    "# Set Operations"
   ]
  },
  {
   "cell_type": "code",
   "execution_count": 1,
   "id": "5c0a7cb7",
   "metadata": {},
   "outputs": [],
   "source": [
    "# Adding and Removing elements \n",
    "my_set = {1,2,3,5,4}\n",
    "\n",
    "my_set.add(7)"
   ]
  },
  {
   "cell_type": "code",
   "execution_count": 7,
   "id": "32657968",
   "metadata": {},
   "outputs": [
    {
     "name": "stdout",
     "output_type": "stream",
     "text": [
      "{1, 2, 4, 5, 7}\n"
     ]
    }
   ],
   "source": [
    "print(my_set)"
   ]
  },
  {
   "cell_type": "code",
   "execution_count": 3,
   "id": "8063ac61",
   "metadata": {},
   "outputs": [
    {
     "name": "stdout",
     "output_type": "stream",
     "text": [
      "{1, 2, 4, 5, 7}\n"
     ]
    }
   ],
   "source": [
    "# Removing the elements from a set \n",
    "my_set.remove(3)\n",
    "print(my_set)"
   ]
  },
  {
   "cell_type": "code",
   "execution_count": 4,
   "id": "69b73a75",
   "metadata": {},
   "outputs": [
    {
     "ename": "KeyError",
     "evalue": "23",
     "output_type": "error",
     "traceback": [
      "\u001b[31m---------------------------------------------------------------------------\u001b[39m",
      "\u001b[31mKeyError\u001b[39m                                  Traceback (most recent call last)",
      "\u001b[36mCell\u001b[39m\u001b[36m \u001b[39m\u001b[32mIn[4]\u001b[39m\u001b[32m, line 2\u001b[39m\n\u001b[32m      1\u001b[39m \u001b[38;5;66;03m# Trying to remove elements that doesn't exist\u001b[39;00m\n\u001b[32m----> \u001b[39m\u001b[32m2\u001b[39m \u001b[43mmy_set\u001b[49m\u001b[43m.\u001b[49m\u001b[43mremove\u001b[49m\u001b[43m(\u001b[49m\u001b[32;43m23\u001b[39;49m\u001b[43m)\u001b[49m\n",
      "\u001b[31mKeyError\u001b[39m: 23"
     ]
    }
   ],
   "source": [
    "# Trying to remove elements that doesn't exist\n",
    "my_set.remove(23)"
   ]
  },
  {
   "cell_type": "code",
   "execution_count": 8,
   "id": "c99d61b0",
   "metadata": {},
   "outputs": [
    {
     "name": "stdout",
     "output_type": "stream",
     "text": [
      "{1, 2, 4, 5, 7}\n"
     ]
    }
   ],
   "source": [
    "# What if we don't want error if the element we are trying to delete is not present in the set\n",
    "\n",
    "my_set.discard(111)\n",
    "print(my_set)\n"
   ]
  },
  {
   "cell_type": "code",
   "execution_count": null,
   "id": "ea9fe39b",
   "metadata": {},
   "outputs": [
    {
     "name": "stdout",
     "output_type": "stream",
     "text": [
      "1\n"
     ]
    }
   ],
   "source": [
    "# Pop Method \n",
    "removed_element  = my_set.pop()\n",
    "print(removed_element)"
   ]
  },
  {
   "cell_type": "code",
   "execution_count": 10,
   "id": "c8d4e9e1",
   "metadata": {},
   "outputs": [
    {
     "name": "stdout",
     "output_type": "stream",
     "text": [
      "{2, 4, 5, 7}\n"
     ]
    }
   ],
   "source": [
    "print(my_set)"
   ]
  },
  {
   "cell_type": "code",
   "execution_count": 11,
   "id": "bede6111",
   "metadata": {},
   "outputs": [
    {
     "name": "stdout",
     "output_type": "stream",
     "text": [
      "set()\n"
     ]
    }
   ],
   "source": [
    "# Clear the set \n",
    "my_set.clear()\n",
    "print(my_set)"
   ]
  },
  {
   "cell_type": "markdown",
   "id": "82e697e6",
   "metadata": {},
   "source": [
    "# Set Membership Test "
   ]
  },
  {
   "cell_type": "markdown",
   "id": "63e591b3",
   "metadata": {},
   "source": [
    "Whether is an element is a member of set or not is what we basically check in this test"
   ]
  },
  {
   "cell_type": "code",
   "execution_count": 16,
   "id": "b0d20ddf",
   "metadata": {},
   "outputs": [
    {
     "name": "stdout",
     "output_type": "stream",
     "text": [
      "{1, 2, 3, 4, 5}\n",
      "True\n",
      "False\n"
     ]
    }
   ],
   "source": [
    "my_set = {1,2,3,4,5}\n",
    "print(my_set)\n",
    "\n",
    "print(3 in my_set)\n",
    "print(10 in my_set)"
   ]
  },
  {
   "cell_type": "markdown",
   "id": "7ffe38dd",
   "metadata": {},
   "source": [
    "# Mathematical Operations"
   ]
  },
  {
   "cell_type": "code",
   "execution_count": 28,
   "id": "6cfcc7d6",
   "metadata": {},
   "outputs": [
    {
     "name": "stdout",
     "output_type": "stream",
     "text": [
      "Set 1 :  {1, 2, 3, 4, 5, 6}\n",
      "Set 2 :  {4, 5, 6, 7, 8, 9}\n",
      "Union :  {1, 2, 3, 4, 5, 6, 7, 8, 9}\n",
      "Intersection :  {4, 5, 6}\n",
      "Difference :  {1, 2, 3}\n"
     ]
    }
   ],
   "source": [
    "set1 = {1,2,3,4,5,6}\n",
    "set2 = {4,5,6,7,8,9}\n",
    "\n",
    "print(\"Set 1 : \",set1)\n",
    "print(\"Set 2 : \",set2)\n",
    "\n",
    "# Union \n",
    "union_set = set1.union(set2)\n",
    "print(\"Union : \",union_set)\n",
    "\n",
    "# Intersection\n",
    "intersection_set = set1.intersection(set2)\n",
    "print(\"Intersection : \",intersection_set)\n",
    "\n",
    "# Difference \n",
    "print(\"Difference : \",set1.difference(set2))"
   ]
  },
  {
   "cell_type": "markdown",
   "id": "5101ec65",
   "metadata": {},
   "source": [
    "# Intersection Update operation"
   ]
  },
  {
   "cell_type": "markdown",
   "id": "d557b513",
   "metadata": {},
   "source": [
    "The intersection_update() method updates the original set by keeping only the elements that are common between the set and one or more other sets. \n",
    "\n",
    "It finds the common elements between the 2 sets , and then update the set 1 with those elements."
   ]
  },
  {
   "cell_type": "code",
   "execution_count": 21,
   "id": "307a91dd",
   "metadata": {},
   "outputs": [
    {
     "name": "stdout",
     "output_type": "stream",
     "text": [
      "{4, 5, 6}\n"
     ]
    }
   ],
   "source": [
    "s1 = {1,2,3,4,5,6}\n",
    "s2 = {4,5,6,7,8,9}\n",
    "\n",
    "s1.intersection_update(s2) \n",
    "print(s1)"
   ]
  },
  {
   "cell_type": "markdown",
   "id": "118f0edc",
   "metadata": {},
   "source": [
    "# Difference Update Operation"
   ]
  },
  {
   "cell_type": "markdown",
   "id": "0796fd6b",
   "metadata": {},
   "source": [
    "The difference_update() method removes all elements from the original set that are also present in another set. \n",
    "\n",
    "difference update removes  :\n",
    "1. Elements present in set1 are also in set2 \n",
    "2. Removes all the elements from set \n",
    "So basically removes the set2 and the intersection of set1 and set2 . The result generated is kept / updated in the set1 "
   ]
  },
  {
   "cell_type": "code",
   "execution_count": 29,
   "id": "bfff0152",
   "metadata": {},
   "outputs": [
    {
     "name": "stdout",
     "output_type": "stream",
     "text": [
      "{1, 2, 3}\n"
     ]
    }
   ],
   "source": [
    "ss1 = {1,2,3,4,5,6}\n",
    "ss2 = {4,5,6,7,8,9}\n",
    "\n",
    "ss1.difference_update(ss2)\n",
    "print(ss1)\n"
   ]
  },
  {
   "cell_type": "markdown",
   "id": "43b63914",
   "metadata": {},
   "source": [
    "# Symmetric Difference \n"
   ]
  },
  {
   "cell_type": "markdown",
   "id": "a2ececfb",
   "metadata": {},
   "source": [
    "\"Keep only the unique stuff from both sets — throw away anything that’s common.”\n",
    "Basically , it removes all the common elements from both the sets and shows the unique elements of set1 and set2 "
   ]
  },
  {
   "cell_type": "code",
   "execution_count": 30,
   "id": "b688c3ae",
   "metadata": {},
   "outputs": [
    {
     "name": "stdout",
     "output_type": "stream",
     "text": [
      "{1, 2, 3, 7, 8, 9}\n"
     ]
    }
   ],
   "source": [
    "ssa = {1,2,3,4,5,6}\n",
    "ssb = {4,5,6,7,8,9}\n",
    "\n",
    "print(ssa.symmetric_difference(ssb))"
   ]
  },
  {
   "cell_type": "markdown",
   "id": "791114da",
   "metadata": {},
   "source": [
    "# Set Relationship Methods "
   ]
  },
  {
   "cell_type": "markdown",
   "id": "95fff038",
   "metadata": {},
   "source": [
    "These are also known as Set Comparison methods , These methods are used to compare the relationship between two sets — for example, whether one set is a subset or superset of another.\n",
    "\n"
   ]
  },
  {
   "cell_type": "code",
   "execution_count": 33,
   "id": "1f6b1d39",
   "metadata": {},
   "outputs": [
    {
     "name": "stdout",
     "output_type": "stream",
     "text": [
      "Are all set1 elements present is set2 :  False\n",
      "Is set a superset of set b :  True\n"
     ]
    }
   ],
   "source": [
    "sa1 = {1,2,3}\n",
    "sa2 = {3,4,5}\n",
    "\n",
    "# issubset\n",
    "print(\"Are all set1 elements present is set2 : \",sa1.issubset(sa2))\n",
    "\n",
    "a = {1,2,3 , 4, 5}\n",
    "b = {3,4,5}\n",
    "\n",
    "# issuperset\n",
    "print(\"Is set a superset of set b : \",a.issuperset(b))"
   ]
  },
  {
   "cell_type": "markdown",
   "id": "d6fc0d2d",
   "metadata": {},
   "source": [
    "# Remove Duplicates from a list "
   ]
  },
  {
   "cell_type": "code",
   "execution_count": 4,
   "id": "fe7a60b3",
   "metadata": {},
   "outputs": [
    {
     "name": "stdout",
     "output_type": "stream",
     "text": [
      "{1, 2, 3, 4, 5}\n"
     ]
    }
   ],
   "source": [
    "lst = [1,2,2,3,4,4,5] \n",
    "print(set(lst))"
   ]
  },
  {
   "cell_type": "markdown",
   "id": "0ac94b4c",
   "metadata": {},
   "source": [
    "# Counting unique words in text"
   ]
  },
  {
   "cell_type": "code",
   "execution_count": 9,
   "id": "a5cfbd9f",
   "metadata": {},
   "outputs": [
    {
     "name": "stdout",
     "output_type": "stream",
     "text": [
      "['In', 'this', 'tutorial', 'we', 'are', 'discussing', 'about', 'sets']\n",
      "{'are', 'sets', 'discussing', 'we', 'tutorial', 'this', 'In', 'about'}\n",
      "8\n"
     ]
    }
   ],
   "source": [
    "text = \"In this tutorial we are discussing about sets\"\n",
    "\n",
    "# .split() splits the words into small chunks  , separated by spaces \n",
    "# the default separator is split in split() method\n",
    "# the split() methods returns a list containing words in chunks\n",
    "\n",
    "words = text.split() # ['In' , 'this' , 'tutorial' , 'we','are','discussing','about','sets']\n",
    "print(words)\n",
    "\n",
    "# convert list of words to set to get unique words \n",
    "unique_words = set(words)\n",
    "print(unique_words)\n",
    "print(len(unique_words))"
   ]
  },
  {
   "cell_type": "code",
   "execution_count": null,
   "id": "1eeb68d1",
   "metadata": {},
   "outputs": [],
   "source": []
  }
 ],
 "metadata": {
  "kernelspec": {
   "display_name": "Python 3",
   "language": "python",
   "name": "python3"
  },
  "language_info": {
   "codemirror_mode": {
    "name": "ipython",
    "version": 3
   },
   "file_extension": ".py",
   "mimetype": "text/x-python",
   "name": "python",
   "nbconvert_exporter": "python",
   "pygments_lexer": "ipython3",
   "version": "3.12.0"
  }
 },
 "nbformat": 4,
 "nbformat_minor": 5
}
