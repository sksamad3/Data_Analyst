{
 "cells": [
  {
   "cell_type": "markdown",
   "id": "6b8b96ee",
   "metadata": {},
   "source": [
    "# Real World Use case of List "
   ]
  },
  {
   "cell_type": "markdown",
   "id": "8edd18c8",
   "metadata": {},
   "source": [
    "# Example 1 : Manage a TODO List "
   ]
  },
  {
   "cell_type": "code",
   "execution_count": 2,
   "id": "af9583e4",
   "metadata": {},
   "outputs": [
    {
     "name": "stdout",
     "output_type": "stream",
     "text": [
      "Don't forget to pay the utilit bills \n",
      "To do List Remaining : \n",
      "-Buy Groceries\n",
      "-Pay bills\n",
      "-Schedule meeting\n",
      "-Go for a Run\n"
     ]
    }
   ],
   "source": [
    "to_do_list = [\"Buy Groceries\" , \"clean the house\",\"Pay bills\"]\n",
    "\n",
    "# Adding a task \n",
    "to_do_list.append(\"Schedule meeting\")\n",
    "to_do_list.append(\"Go for a Run\")\n",
    "\n",
    "# Removing a task\n",
    "to_do_list.remove(\"clean the house\")\n",
    "\n",
    "# Checking if a task is in the list \n",
    "if \"Pay bills\" in to_do_list: \n",
    "    print(\"Don't forget to pay the utilit bills \")\n",
    "\n",
    "print(\"To do List Remaining : \")\n",
    "for tasks in to_do_list:\n",
    "    print(f\"-{tasks}\")"
   ]
  },
  {
   "cell_type": "markdown",
   "id": "b98cf99e",
   "metadata": {},
   "source": [
    "# Organizing Student Grades "
   ]
  },
  {
   "cell_type": "code",
   "execution_count": 5,
   "id": "9c730c00",
   "metadata": {},
   "outputs": [
    {
     "name": "stdout",
     "output_type": "stream",
     "text": [
      "Average grade is : 88.0\n",
      "Highest grade : 95\n",
      "Lowest Grade : 78\n"
     ]
    }
   ],
   "source": [
    "# Organizing Student grades\n",
    "grades = [85,92,78,90,88]\n",
    "\n",
    "# Adding a new grade \n",
    "grades.append(95)\n",
    "\n",
    "# Calculating the average grade\n",
    "average_grade = sum(grades) / len(grades)\n",
    "print(f\"Average grade is : {average_grade}\")\n",
    "\n",
    "# Finding the highest and lowest grade \n",
    "highest_grade = max(grades)\n",
    "minimum_grade = min(grades)\n",
    "\n",
    "print(f\"Highest grade : {highest_grade}\")\n",
    "print(f\"Lowest Grade : {minimum_grade}\")\n",
    "\n"
   ]
  },
  {
   "cell_type": "markdown",
   "id": "f1ce994f",
   "metadata": {},
   "source": [
    "# Managing Inventory"
   ]
  },
  {
   "cell_type": "code",
   "execution_count": 9,
   "id": "9b29b16d",
   "metadata": {},
   "outputs": [
    {
     "name": "stdout",
     "output_type": "stream",
     "text": [
      "oranges is in stock. \n",
      "Inventory List : \n",
      "-apples\n",
      "-oranges\n",
      "-grapes\n",
      "-strawberries\n"
     ]
    }
   ],
   "source": [
    "inventory = [\"apples\",\"bananas\",\"oranges\",\"grapes\"]\n",
    "\n",
    "# Adding a new item\n",
    "inventory.append(\"strawberries\")\n",
    "\n",
    "# Removing an item that is out of stock\n",
    "inventory.remove(\"bananas\")\n",
    "\n",
    "# checking if an item is out of stock\n",
    "fruit = \"oranges\"\n",
    "if fruit in inventory: \n",
    "    print(f\"{fruit} is in stock. \")\n",
    "else : \n",
    "    print(f\"{fruit} are out of stock. \")\n",
    "\n",
    "# Printing the inventory\n",
    "print(\"Inventory List : \")\n",
    "for item in inventory: \n",
    "    print(f\"-{item}\")"
   ]
  },
  {
   "cell_type": "markdown",
   "id": "c81969c6",
   "metadata": {},
   "source": [
    "# Collecting user feedback "
   ]
  },
  {
   "cell_type": "code",
   "execution_count": 12,
   "id": "b86c2310",
   "metadata": {},
   "outputs": [
    {
     "name": "stdout",
     "output_type": "stream",
     "text": [
      "Positive Feedback count : 2\n",
      "User Feedback : \n",
      "-Great service!\n",
      "-Very satisfied\n",
      "-Could be better\n",
      "-Excellent experience\n",
      "-Not happy with the services\n"
     ]
    }
   ],
   "source": [
    "feedback = [\"Great service!\",\"Very satisfied\",\"Could be better\",\"Excellent experience\"]\n",
    "\n",
    "# Adding new feedback \n",
    "feedback.append(\"Not happy with the services\")\n",
    "\n",
    "# Counting specific feedback\n",
    "positive_feedback_count = sum(1 for comment in feedback if \"great\" in comment.lower() or \"excellent\" in comment.lower())\n",
    "print(f\"Positive Feedback count : {positive_feedback_count}\")\n",
    "\n",
    "# Print all feedback \n",
    "print(\"User Feedback : \")\n",
    "for comment in feedback: \n",
    "    print(f\"-{comment}\")"
   ]
  },
  {
   "cell_type": "code",
   "execution_count": null,
   "id": "3d16eb27",
   "metadata": {},
   "outputs": [],
   "source": []
  }
 ],
 "metadata": {
  "kernelspec": {
   "display_name": "Python 3",
   "language": "python",
   "name": "python3"
  },
  "language_info": {
   "codemirror_mode": {
    "name": "ipython",
    "version": 3
   },
   "file_extension": ".py",
   "mimetype": "text/x-python",
   "name": "python",
   "nbconvert_exporter": "python",
   "pygments_lexer": "ipython3",
   "version": "3.12.0"
  }
 },
 "nbformat": 4,
 "nbformat_minor": 5
}
