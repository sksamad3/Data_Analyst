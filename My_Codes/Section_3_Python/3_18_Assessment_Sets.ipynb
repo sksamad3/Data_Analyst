{
 "cells": [
  {
   "cell_type": "markdown",
   "id": "0ee997dc",
   "metadata": {},
   "source": [
    "# Assessment Sets "
   ]
  },
  {
   "cell_type": "code",
   "execution_count": 1,
   "id": "1f374c00",
   "metadata": {},
   "outputs": [
    {
     "name": "stdout",
     "output_type": "stream",
     "text": [
      "{1, 2, 3, 4, 5, 6, 7, 8, 9, 10}\n"
     ]
    }
   ],
   "source": [
    "# 1. Create a set with the first 10 positive integers. Print the set.\n",
    "st = {1,2,3,4,5,6,7,8,9,10}\n",
    "print(st)"
   ]
  },
  {
   "cell_type": "code",
   "execution_count": 2,
   "id": "32e7433e",
   "metadata": {},
   "outputs": [
    {
     "name": "stdout",
     "output_type": "stream",
     "text": [
      "{2, 3, 4, 5, 6, 7, 8, 9, 10, 11}\n"
     ]
    }
   ],
   "source": [
    "# 2. Add the number 11 to the set created in Assignment 1. Then remove the number 1 from the set. Print the modified set.\n",
    "st.add(11)\n",
    "st.remove(1)\n",
    "print(st)"
   ]
  },
  {
   "cell_type": "code",
   "execution_count": 7,
   "id": "70bff8b6",
   "metadata": {},
   "outputs": [
    {
     "name": "stdout",
     "output_type": "stream",
     "text": [
      "Union :  {1, 2, 3, 4, 5, 6, 8, 10}\n",
      "Intersection :  {2, 4}\n",
      "Difference :  {1, 3, 5}\n",
      "Symmetric Difference :  {1, 3, 5, 6, 8, 10}\n"
     ]
    }
   ],
   "source": [
    "# 3.  Create two sets: one with the first 5 positive integers and another with the first 5 even integers. Perform and print the results of union, intersection, difference, and symmetric difference operations on these sets.\n",
    "\n",
    "s1 = {1,2,3,4,5}\n",
    "s2 = {2,4,6,8,10}\n",
    "\n",
    "unionz = s1.union(s2)\n",
    "intersectionz = s1.intersection(s2)\n",
    "differencez = s1.difference(s2)\n",
    "sym_differencez = s1.symmetric_difference(s2)\n",
    "\n",
    "\n",
    "print(\"Union : \",unionz)\n",
    "print(\"Intersection : \",intersectionz)\n",
    "print(\"Difference : \",differencez)\n",
    "print(\"Symmetric Difference : \",sym_differencez)\n",
    "\n"
   ]
  },
  {
   "cell_type": "code",
   "execution_count": 10,
   "id": "84b77f1c",
   "metadata": {},
   "outputs": [
    {
     "name": "stdout",
     "output_type": "stream",
     "text": [
      "{64, 1, 4, 36, 100, 9, 16, 49, 81, 25}\n"
     ]
    }
   ],
   "source": [
    "#  4. Create a new set containing the squares of the first 10 positive integers using a set comprehension. Print the new set.\n",
    "squares = {x**2 for x in range(1,11)}\n",
    "print(squares)\n"
   ]
  },
  {
   "cell_type": "code",
   "execution_count": null,
   "id": "a50de9e9",
   "metadata": {},
   "outputs": [
    {
     "name": "stdout",
     "output_type": "stream",
     "text": [
      "{2, 4, 6, 8, 10}\n"
     ]
    }
   ],
   "source": [
    "\n",
    "# 5. Create a new set containing only the even numbers from the set created in Assignment 1 using a set comprehension. Print the new set.\n",
    "evens = {x for x in st if x%2==0}\n",
    "print(evens)"
   ]
  },
  {
   "cell_type": "code",
   "execution_count": 13,
   "id": "0ba43593",
   "metadata": {},
   "outputs": [
    {
     "name": "stdout",
     "output_type": "stream",
     "text": [
      "{1, 2, 3, 4, 5}\n"
     ]
    }
   ],
   "source": [
    "# 6. Create a set with duplicate elements and remove the duplicates using set methods. Print the modified set.\n",
    "sset = {1,1,1,2,2,2,2,2,2,3,3,4,5,5,5,5,5,5,5,5}\n",
    "sset = set(sset)\n",
    "print(sset)"
   ]
  },
  {
   "cell_type": "code",
   "execution_count": 16,
   "id": "18c73e7c",
   "metadata": {},
   "outputs": [
    {
     "name": "stdout",
     "output_type": "stream",
     "text": [
      "Is h subset of g :  True\n",
      "Is g superset of h :  True\n"
     ]
    }
   ],
   "source": [
    "# 7. Create two sets: one with the first 5 positive integers and another with the first 3 positive integers. Check if the second set is a subset of the first set and if the first set is a superset of the second set. Print the results.\n",
    "\n",
    "g = {1,2,3,4,5}\n",
    "h  = {1,2,3}\n",
    "\n",
    "print(\"Is h subset of g : \",h.issubset(g))\n",
    "print(\"Is g superset of h : \",g.issuperset(h))"
   ]
  },
  {
   "cell_type": "code",
   "execution_count": 19,
   "id": "119eb19f",
   "metadata": {},
   "outputs": [
    {
     "name": "stdout",
     "output_type": "stream",
     "text": [
      "frozenset({1, 2, 3, 4, 5})\n",
      "<class 'frozenset'>\n"
     ]
    }
   ],
   "source": [
    "# 8. Create a frozenset with the first 5 positive integers. Print the frozenset.\n",
    "fsz = frozenset([1,2,3,4,5])\n",
    "print(fsz)\n",
    "print(type(fsz))"
   ]
  },
  {
   "cell_type": "code",
   "execution_count": 24,
   "id": "2931bf35",
   "metadata": {},
   "outputs": [
    {
     "name": "stdout",
     "output_type": "stream",
     "text": [
      "{1, 2, 3, 4, 5, 6}\n"
     ]
    }
   ],
   "source": [
    "# 9. Create a set with the first 5 positive integers. Convert it to a list, append the number 6, and convert it back to a set. Print the resulting set.\n",
    "\n",
    "sw1 = {1,2,3,4,5}\n",
    "sw1 = list(sw1)\n",
    "sw1.append(6)\n",
    "\n",
    "sw1 = set(sw1)\n",
    "print(sw1)"
   ]
  },
  {
   "cell_type": "code",
   "execution_count": 28,
   "id": "4aa18414",
   "metadata": {},
   "outputs": [
    {
     "name": "stdout",
     "output_type": "stream",
     "text": [
      "{frozenset({1, 2}): 54, frozenset({3, 4}): 56, frozenset({8, 5}): 69}\n"
     ]
    }
   ],
   "source": [
    "# 10. Create a dictionary with set keys and integer values. Print the dictionary.\n",
    "d = {\n",
    "    frozenset([1,2]) : 54,\n",
    "    frozenset([3,4]) : 56, \n",
    "    frozenset([5,8]) : 69\n",
    "}\n",
    "print(d)"
   ]
  },
  {
   "cell_type": "code",
   "execution_count": 31,
   "id": "ac3a5b95",
   "metadata": {},
   "outputs": [
    {
     "name": "stdout",
     "output_type": "stream",
     "text": [
      "{1, 2, 3, 4, 5, 6, 7, 8, 9, 10, 11, 12, 13, 14, 15, 16, 17, 18, 19, 20}\n"
     ]
    }
   ],
   "source": [
    "# 11. Create a set and iterate over the elements, printing each element.\n",
    "t = {x for x in range(1,21)}\n",
    "print(t)"
   ]
  },
  {
   "cell_type": "code",
   "execution_count": 33,
   "id": "8daef398",
   "metadata": {},
   "outputs": [
    {
     "name": "stdout",
     "output_type": "stream",
     "text": [
      "set()\n"
     ]
    }
   ],
   "source": [
    "# 12. Create a set and remove elements from it until it is empty. Print the set after each removal.\n",
    "zet = { x for x in range(1,11,1)}\n",
    "\n",
    "while zet: \n",
    "    zet.pop()\n",
    "print(zet)\n"
   ]
  },
  {
   "cell_type": "code",
   "execution_count": 35,
   "id": "61ad4874",
   "metadata": {},
   "outputs": [
    {
     "name": "stdout",
     "output_type": "stream",
     "text": [
      "{1, 2, 3, 4, 5, 6, 7, 8, 9, 10}\n"
     ]
    }
   ],
   "source": [
    "# 13. Create two sets and update the first set with the symmetric difference of the two sets. Print the modified first set.\n",
    "\n",
    "one  = {1,2,3,4,5,\"a\",\"b\",\"c\"}\n",
    "two = {\"a\",\"b\",\"c\",6,7,8,9,10}\n",
    "\n",
    "one.symmetric_difference_update(two)\n",
    "print(one)\n"
   ]
  },
  {
   "cell_type": "code",
   "execution_count": 37,
   "id": "328a8934",
   "metadata": {},
   "outputs": [
    {
     "name": "stdout",
     "output_type": "stream",
     "text": [
      "Is 33 present in set :  False\n",
      "Is 45 present in set :  True\n"
     ]
    }
   ],
   "source": [
    "# 14.  Create a set and test if certain elements are present in the set. Print the results.\n",
    "three = {1,2,3,54,65,7,4,578,776,45}\n",
    "\n",
    "print(\"Is 33 present in set : \", 33 in three)\n",
    "print(\"Is 45 present in set : \", 45 in three)"
   ]
  },
  {
   "cell_type": "code",
   "execution_count": 39,
   "id": "4a67ab83",
   "metadata": {},
   "outputs": [
    {
     "name": "stdout",
     "output_type": "stream",
     "text": [
      "{(1, 2), (3, 4), (5, 6)}\n",
      "<class 'set'>\n"
     ]
    }
   ],
   "source": [
    "# 15. Create a set containing tuples, where each tuple contains two elements. Print the set.\n",
    "gt = {(1,2),(3,4),(5,6)}\n",
    "print(gt)\n",
    "print(type(gt))"
   ]
  },
  {
   "cell_type": "code",
   "execution_count": null,
   "id": "3bd04d3a",
   "metadata": {},
   "outputs": [],
   "source": []
  }
 ],
 "metadata": {
  "kernelspec": {
   "display_name": "Python 3",
   "language": "python",
   "name": "python3"
  },
  "language_info": {
   "codemirror_mode": {
    "name": "ipython",
    "version": 3
   },
   "file_extension": ".py",
   "mimetype": "text/x-python",
   "name": "python",
   "nbconvert_exporter": "python",
   "pygments_lexer": "ipython3",
   "version": "3.12.0"
  }
 },
 "nbformat": 4,
 "nbformat_minor": 5
}
