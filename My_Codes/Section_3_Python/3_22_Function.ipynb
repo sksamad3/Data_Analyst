{
 "cells": [
  {
   "cell_type": "markdown",
   "id": "b3170dd2",
   "metadata": {},
   "source": [
    "# Functions "
   ]
  },
  {
   "cell_type": "code",
   "execution_count": null,
   "id": "5f575682",
   "metadata": {},
   "outputs": [],
   "source": [
    "# Syntax of a function\n",
    "def function_name(parameters): \n",
    "    \"\"\"Docstring\"\"\"\n",
    "    # Function body \n",
    "    return expression "
   ]
  },
  {
   "cell_type": "code",
   "execution_count": 1,
   "id": "3752e66f",
   "metadata": {},
   "outputs": [
    {
     "name": "stdout",
     "output_type": "stream",
     "text": [
      "The number is even\n"
     ]
    }
   ],
   "source": [
    "# Why functions ? \n",
    "num = 24 \n",
    "if num%2==0: \n",
    "    print(\"The number is even\")\n",
    "else: \n",
    "    print(\"The number is odd \")\n",
    "    "
   ]
  },
  {
   "cell_type": "code",
   "execution_count": 2,
   "id": "65371764",
   "metadata": {},
   "outputs": [],
   "source": [
    "def even_or_odd(num): \n",
    "    \"\"\"This function finds even or odd\"\"\"\n",
    "    if num%2==0: \n",
    "        print(\"The number is even\")\n",
    "    else: \n",
    "        print(\"The number is odd\")\n",
    "     "
   ]
  },
  {
   "cell_type": "code",
   "execution_count": 4,
   "id": "dde01e63",
   "metadata": {},
   "outputs": [
    {
     "name": "stdout",
     "output_type": "stream",
     "text": [
      "The number is odd\n"
     ]
    }
   ],
   "source": [
    "## Call the function \n",
    "even_or_odd(27)"
   ]
  },
  {
   "cell_type": "markdown",
   "id": "45b89c6f",
   "metadata": {},
   "source": [
    "# Functions with multiple parameters "
   ]
  },
  {
   "cell_type": "code",
   "execution_count": 5,
   "id": "b17a414e",
   "metadata": {},
   "outputs": [
    {
     "name": "stdout",
     "output_type": "stream",
     "text": [
      "6\n"
     ]
    }
   ],
   "source": [
    "# Add two numbers \n",
    "def add(a,b): \n",
    "    return a+b\n",
    "result = add(2,4)\n",
    "print(result)"
   ]
  },
  {
   "cell_type": "markdown",
   "id": "1931e7fe",
   "metadata": {},
   "source": [
    "# Default Parameters "
   ]
  },
  {
   "cell_type": "code",
   "execution_count": 8,
   "id": "9d0dc103",
   "metadata": {},
   "outputs": [
    {
     "name": "stdout",
     "output_type": "stream",
     "text": [
      "Hello Guest\n"
     ]
    }
   ],
   "source": [
    "def greet(name=\"Guest\"): \n",
    "    print(f\"Hello {name}\")\n",
    "\n",
    "greet()    "
   ]
  },
  {
   "cell_type": "markdown",
   "id": "4ed0300b",
   "metadata": {},
   "source": [
    "# Variable Length Arguments\n",
    "1. Position Arguments \n",
    "2. Keyword Arguments"
   ]
  },
  {
   "cell_type": "markdown",
   "id": "84ae5436",
   "metadata": {},
   "source": [
    "These are special types of arguments that let you **pass a flexible number of values** to a function.\n",
    "\n",
    "### Types:\n",
    "1. `*args` → **variable-length positional arguments**\n",
    "2. `**kwargs` → **variable-length keyword arguments**\n",
    "\n",
    "\n",
    "\n",
    "### 1. `*args` — Variable-Length Positional Arguments\n",
    "* Accepts **any number of positional arguments** (i.e., values passed **without a name**)\n",
    "* Collected as a **tuple**\n",
    "✔️ You can pass 0, 1, or 100 arguments — it’s flexible.\n",
    "\n",
    "\n",
    "### 2. `**kwargs` — Variable-Length Keyword Arguments\n",
    "* Accepts **any number of keyword arguments** (i.e., values passed with `key=value`)\n",
    "* Collected as a **dictionary**\n",
    "\n",
    "### 🧠 Interview Summary (One-liner):\n",
    "\n",
    "> **Variable-length arguments** allow a function to accept **any number of inputs**. `*args` handles extra **positional arguments** as a tuple, and `**kwargs` handles extra **keyword arguments** as a dictionary. They make functions more flexible and reusable.\n"
   ]
  },
  {
   "cell_type": "code",
   "execution_count": 20,
   "id": "b96d5062",
   "metadata": {},
   "outputs": [
    {
     "name": "stdout",
     "output_type": "stream",
     "text": [
      "Sum of numbers : 15\n"
     ]
    }
   ],
   "source": [
    "# Positional Arguments \n",
    "def print_number(*args):\n",
    "    total = 0 \n",
    "    for number in args: \n",
    "        total+=number\n",
    "    return total\n",
    "\n",
    "sum  = print_number(1,2,3,4,5)\n",
    "print(f\"Sum of numbers : {sum}\")"
   ]
  },
  {
   "cell_type": "code",
   "execution_count": 23,
   "id": "706c0d54",
   "metadata": {},
   "outputs": [],
   "source": [
    "# Keyword Arguments \n",
    "\n",
    "def print_details(**kwargs): \n",
    "    for key,value in kwargs.items(): \n",
    "        print(f\"{key}:{value}\")\n"
   ]
  },
  {
   "cell_type": "code",
   "execution_count": 24,
   "id": "66dcd31b",
   "metadata": {},
   "outputs": [
    {
     "name": "stdout",
     "output_type": "stream",
     "text": [
      "name:Samad\n",
      "rollno:69\n",
      "location:India\n"
     ]
    }
   ],
   "source": [
    "print_details(name=\"Samad\",rollno=\"69\",location=\"India\")"
   ]
  },
  {
   "cell_type": "markdown",
   "id": "27983af4",
   "metadata": {},
   "source": [
    "# Return Statement"
   ]
  },
  {
   "cell_type": "code",
   "execution_count": 27,
   "id": "c0723fae",
   "metadata": {},
   "outputs": [
    {
     "data": {
      "text/plain": [
       "6"
      ]
     },
     "execution_count": 27,
     "metadata": {},
     "output_type": "execute_result"
    }
   ],
   "source": [
    "def multiply(a,b): \n",
    "    return a*b\n",
    "\n",
    "multiply(2,3)"
   ]
  },
  {
   "cell_type": "code",
   "execution_count": null,
   "id": "7f17c254",
   "metadata": {},
   "outputs": [],
   "source": []
  }
 ],
 "metadata": {
  "kernelspec": {
   "display_name": "Python 3",
   "language": "python",
   "name": "python3"
  },
  "language_info": {
   "codemirror_mode": {
    "name": "ipython",
    "version": 3
   },
   "file_extension": ".py",
   "mimetype": "text/x-python",
   "name": "python",
   "nbconvert_exporter": "python",
   "pygments_lexer": "ipython3",
   "version": "3.12.0"
  }
 },
 "nbformat": 4,
 "nbformat_minor": 5
}
