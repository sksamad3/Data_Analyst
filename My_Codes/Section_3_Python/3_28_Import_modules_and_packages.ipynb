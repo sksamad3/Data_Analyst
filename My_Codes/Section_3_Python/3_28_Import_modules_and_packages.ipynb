{
 "cells": [
  {
   "cell_type": "markdown",
   "id": "77bd424f",
   "metadata": {},
   "source": [
    "# Importing : Modules & Packages "
   ]
  },
  {
   "cell_type": "markdown",
   "id": "c69789a2",
   "metadata": {},
   "source": [
    "### 📚 **Library**:\n",
    "\n",
    " \"A **library** in Python is a collection of packages and modules bundled together to provide a set of related functionalities. For example, `pandas` is a data analysis library that includes tools for working with tables, CSVs, and Excel files.\"\n",
    "\n",
    "\n",
    "\n",
    "### 📦 **Package**:\n",
    "\n",
    " \"A **package** is a folder that contains one or more related modules. It also includes an `__init__.py` file to mark it as a package. For example, `pandas.core` is a package that contains the core data structures like `DataFrame` and `Series`.\"\n",
    "\n",
    "\n",
    "\n",
    "### 📄 **Module**:\n",
    "\n",
    " \"A **module** is a single `.py` file that contains Python code — such as functions, classes, or variables. For instance, `pandas.core.frame` is a module that defines the `DataFrame` class.\"\n",
    "\n",
    "\n",
    "### 🧠 Bonus One-Liner Summary:\n",
    "\n",
    " “In short, a **library** is a full toolkit, a **package** is a folder organizing tools, and a **module** is the actual file where those tools are written.”\n",
    "\n"
   ]
  },
  {
   "cell_type": "markdown",
   "id": "da96d1a1",
   "metadata": {},
   "source": [
    "## Library (Giant Folder) --> Packages (Subfolders) --> Modules (.py files)"
   ]
  },
  {
   "cell_type": "markdown",
   "id": "4e09ca89",
   "metadata": {},
   "source": [
    "### Double click below to See the heirarchical diagram\n",
    "PANDAS (Library)\n",
    "│\n",
    "├── core (Package)\n",
    "│   ├── frame.py (Module)\n",
    "│   │   └── DataFrame (Class)\n",
    "│   ├── series.py (Module)\n",
    "│   │   └── Series (Class)\n",
    "│   └── common.py (Module)\n",
    "│       └── Internal helpers\n",
    "│\n",
    "├── io (Package)\n",
    "│   ├── parsers.py (Module)\n",
    "│   │   └── read_csv() (Function)\n",
    "│   ├── excel.py (Module)\n",
    "│   │   ├── read_excel() (Function)\n",
    "│   │   └── to_excel() (Function)\n",
    "│\n",
    "├── plotting (Package)\n",
    "│   ├── _matplotlib.py (Module)\n",
    "│   │   └── scatter_matrix() (Function)\n",
    "│\n",
    "└── util (Package)\n",
    "    └── _validators.py (Module)\n",
    "        └── validate_args() (Function)\n"
   ]
  },
  {
   "cell_type": "code",
   "execution_count": null,
   "id": "eccee177",
   "metadata": {},
   "outputs": [],
   "source": [
    "# This import the entire math library\n",
    "import math"
   ]
  },
  {
   "cell_type": "code",
   "execution_count": 6,
   "id": "8322cc08",
   "metadata": {},
   "outputs": [],
   "source": [
    "# This import the specific part (sqrt and pi) into the program  \n",
    "from math import sqrt,pi"
   ]
  },
  {
   "cell_type": "code",
   "execution_count": 10,
   "id": "82d9d07e",
   "metadata": {},
   "outputs": [
    {
     "name": "stdout",
     "output_type": "stream",
     "text": [
      "Square root of 25 :  5.0\n",
      "Square root of 64 :  8.0\n",
      "The value of pi :  3.141592653589793\n"
     ]
    }
   ],
   "source": [
    "print(\"Square root of 25 : \",sqrt(25))\n",
    "print(\"Square root of 64 : \",sqrt(64))\n",
    "print(\"The value of pi : \",pi)"
   ]
  },
  {
   "cell_type": "markdown",
   "id": "50776385",
   "metadata": {},
   "source": [
    "NumPy (Numerical Python) is a powerful Python library used for numerical and scientific computing.\n",
    "It provides a high-performance multidimensional array object called ndarray, along with functions to perform mathematical, statistical, and linear algebra operations efficiently.\n",
    "NumPy is much faster and more memory-efficient than Python lists, and it's the foundation for libraries like pandas, scikit-learn, and TensorFlow.\n",
    "It also supports broadcasting, which allows vectorized operations without writing loops."
   ]
  },
  {
   "cell_type": "code",
   "execution_count": null,
   "id": "3fbe4190",
   "metadata": {},
   "outputs": [
    {
     "name": "stdout",
     "output_type": "stream",
     "text": [
      "3.141592653589793\n"
     ]
    }
   ],
   "source": [
    "# Importing a library\n",
    "import numpy as np\n",
    "np.array([1,2,3,4])"
   ]
  },
  {
   "cell_type": "code",
   "execution_count": null,
   "id": "16d3397a",
   "metadata": {},
   "outputs": [
    {
     "name": "stdout",
     "output_type": "stream",
     "text": [
      "3.141592653589793\n",
      "3.141592653589793\n"
     ]
    }
   ],
   "source": [
    "# Import all the functions from math (not recommended)\n",
    "# This is not considered a good practice \n",
    "# By using this we can use its functions directly but its not recommended , we should use library functions using alias for readability \n",
    "from math import *\n",
    "print(pi) # Bad practice \n",
    "\n",
    "# This is best practice \n",
    "import math as m \n",
    "print(m.pi) # Recommended   "
   ]
  },
  {
   "cell_type": "markdown",
   "id": "2e511932",
   "metadata": {},
   "source": [
    "# Creating Own Package "
   ]
  },
  {
   "cell_type": "markdown",
   "id": "76d998ed",
   "metadata": {},
   "source": [
    "1. Create a new folder \n",
    "2. Create a file \"__ init __.py\" \n",
    "3. Create a new file and then define functions in that \n",
    "4. Ensure that your package folder is in the same folder where you will import your custom package"
   ]
  },
  {
   "cell_type": "code",
   "execution_count": 18,
   "id": "e2e43682",
   "metadata": {},
   "outputs": [
    {
     "name": "stdout",
     "output_type": "stream",
     "text": [
      "Welcome Ilaf to Samad's python Library\n"
     ]
    },
    {
     "data": {
      "text/plain": [
       "8"
      ]
     },
     "execution_count": 18,
     "metadata": {},
     "output_type": "execute_result"
    }
   ],
   "source": [
    "# I created a SamadPackage and let's import a module and use it's function\n",
    "\n",
    "from SamadPackage import samad as s \n",
    "s.greet(\"Ilaf\")\n",
    "s.add(5,3)"
   ]
  },
  {
   "cell_type": "code",
   "execution_count": null,
   "id": "b5df0968",
   "metadata": {},
   "outputs": [],
   "source": []
  }
 ],
 "metadata": {
  "kernelspec": {
   "display_name": "Python 3",
   "language": "python",
   "name": "python3"
  },
  "language_info": {
   "codemirror_mode": {
    "name": "ipython",
    "version": 3
   },
   "file_extension": ".py",
   "mimetype": "text/x-python",
   "name": "python",
   "nbconvert_exporter": "python",
   "pygments_lexer": "ipython3",
   "version": "3.12.0"
  }
 },
 "nbformat": 4,
 "nbformat_minor": 5
}
