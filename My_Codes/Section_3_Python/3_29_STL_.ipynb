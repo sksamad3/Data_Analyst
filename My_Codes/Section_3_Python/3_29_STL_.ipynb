{
 "cells": [
  {
   "cell_type": "markdown",
   "id": "a7cdfa6a",
   "metadata": {},
   "source": [
    "# Standard Library "
   ]
  },
  {
   "cell_type": "code",
   "execution_count": 1,
   "id": "adb27034",
   "metadata": {},
   "outputs": [
    {
     "name": "stdout",
     "output_type": "stream",
     "text": [
      "array('i', [1, 2, 3, 4, 5])\n"
     ]
    }
   ],
   "source": [
    "import array as ar \n",
    "arr = ar.array('i',[1,2,3,4,5])\n",
    "print(arr)"
   ]
  },
  {
   "cell_type": "code",
   "execution_count": 2,
   "id": "825dcf28",
   "metadata": {},
   "outputs": [
    {
     "name": "stdout",
     "output_type": "stream",
     "text": [
      "4.0\n",
      "3.141592653589793\n"
     ]
    }
   ],
   "source": [
    "import math as m \n",
    "print(m.sqrt(16))\n",
    "print(m.pi)"
   ]
  },
  {
   "cell_type": "code",
   "execution_count": 6,
   "id": "43acab98",
   "metadata": {},
   "outputs": [
    {
     "name": "stdout",
     "output_type": "stream",
     "text": [
      "7\n",
      "Ilaf\n"
     ]
    }
   ],
   "source": [
    "import random as rand\n",
    "print(rand.randint(1,20))\n",
    "print(rand.choice([\"Samad\",\"Ilaf\",\"Usaid\",\"James\"]))"
   ]
  },
  {
   "cell_type": "code",
   "execution_count": null,
   "id": "f0c02582",
   "metadata": {},
   "outputs": [
    {
     "name": "stdout",
     "output_type": "stream",
     "text": [
      "d:\\Data_Analyst\\My_Codes\\Section_3_Python\n"
     ]
    }
   ],
   "source": [
    "# File and Directory Access \n",
    "import os\n",
    "\n",
    "# getcwd() print the current working directory \n",
    "print(os.getcwd())"
   ]
  },
  {
   "cell_type": "code",
   "execution_count": null,
   "id": "90ffba32",
   "metadata": {},
   "outputs": [],
   "source": [
    "# Creates a new folder in currect directory \n",
    "os.mkdir('test.dir')"
   ]
  },
  {
   "cell_type": "code",
   "execution_count": 16,
   "id": "7968be57",
   "metadata": {},
   "outputs": [
    {
     "name": "stdout",
     "output_type": "stream",
     "text": [
      "<class 'dict'>\n",
      "<class 'str'> {\"name\": \"Samad\", \"age\": 20}\n",
      "<class 'dict'> {'name': 'Samad', 'age': 20}\n"
     ]
    }
   ],
   "source": [
    "# Data Serialization \n",
    "import json \n",
    "\n",
    "data = {'name':'Samad','age':20}\n",
    "print(type(data))\n",
    "\n",
    "# dumps() convert dictionary --> json\n",
    "# By default : whenever a response from API comes it comes in the form of string \n",
    "json_str = json.dumps(data)\n",
    "\n",
    "\n",
    " # Type : str\n",
    "print(type(json_str),json_str)\n",
    "\n",
    "# Now in order to convert back to dictionary for some operations \n",
    "# Then we can use .loads()\n",
    "\n",
    "parsed_data = json.loads(json_str)\n",
    "print(type(parsed_data), parsed_data)\n"
   ]
  },
  {
   "cell_type": "code",
   "execution_count": null,
   "id": "2721cc1e",
   "metadata": {},
   "outputs": [],
   "source": [
    "# CSV \n",
    "import csv \n",
    "\n",
    "with open('example.csv',mode='w',newline='') as file: \n",
    "    writer  = csv.writer(file)\n",
    "    writer.writerow(['name','age'])\n",
    "    writer.writerow(['Krish',32])\n",
    "\n",
    "with open('example.csv',mode='r') as file: \n",
    "    reader = csv.reader(file)\n",
    "    for  row in reader: \n",
    "        print(row)"
   ]
  },
  {
   "cell_type": "code",
   "execution_count": 22,
   "id": "4fe5b9c9",
   "metadata": {},
   "outputs": [
    {
     "name": "stdout",
     "output_type": "stream",
     "text": [
      "2025-07-15 20:58:32.264062\n",
      "2025-07-14 20:58:32.264062\n"
     ]
    }
   ],
   "source": [
    "# Date time \n",
    "from datetime import datetime,timedelta\n",
    "\n",
    "current_time = datetime.now()\n",
    "print(current_time)\n",
    "\n",
    "yesterday = current_time-timedelta(days=1)\n",
    "print(yesterday)"
   ]
  },
  {
   "cell_type": "code",
   "execution_count": 23,
   "id": "f4d24453",
   "metadata": {},
   "outputs": [
    {
     "name": "stdout",
     "output_type": "stream",
     "text": [
      "1752593343.9229662\n",
      "1752593345.9286773\n"
     ]
    }
   ],
   "source": [
    "# Time \n",
    "import time \n",
    "print(time.time())\n",
    "time.sleep(2)\n",
    "print(time.time())"
   ]
  },
  {
   "cell_type": "code",
   "execution_count": 27,
   "id": "42857ff8",
   "metadata": {},
   "outputs": [
    {
     "name": "stdout",
     "output_type": "stream",
     "text": [
      "123\n"
     ]
    }
   ],
   "source": [
    "# Regular Expression \n",
    "import re \n",
    "\n",
    "pattern = r'\\d+'\n",
    "text = 'There are 123 apples 323437'\n",
    "match = re.search(pattern,text)\n",
    "print(match.group())"
   ]
  },
  {
   "cell_type": "code",
   "execution_count": null,
   "id": "df998269",
   "metadata": {},
   "outputs": [],
   "source": []
  }
 ],
 "metadata": {
  "kernelspec": {
   "display_name": "Python 3",
   "language": "python",
   "name": "python3"
  },
  "language_info": {
   "codemirror_mode": {
    "name": "ipython",
    "version": 3
   },
   "file_extension": ".py",
   "mimetype": "text/x-python",
   "name": "python",
   "nbconvert_exporter": "python",
   "pygments_lexer": "ipython3",
   "version": "3.12.0"
  }
 },
 "nbformat": 4,
 "nbformat_minor": 5
}
