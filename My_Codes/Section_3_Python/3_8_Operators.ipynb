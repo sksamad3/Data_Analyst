{
 "cells": [
  {
   "cell_type": "markdown",
   "id": "212c2a31",
   "metadata": {},
   "source": [
    "# Operators"
   ]
  },
  {
   "cell_type": "code",
   "execution_count": 1,
   "id": "0be5ce03",
   "metadata": {},
   "outputs": [
    {
     "name": "stdout",
     "output_type": "stream",
     "text": [
      "15\n",
      "5\n",
      "50\n",
      "2.0\n",
      "2\n",
      "0\n",
      "100000\n"
     ]
    }
   ],
   "source": [
    "a = 10 \n",
    "b = 5 \n",
    "\n",
    "add_result = a+b \n",
    "sub_result = a-b \n",
    "mult_result = a*b \n",
    "div_result  = a/b \n",
    "floor_div_result =a//b \n",
    "modulus_result = a%b \n",
    "exponent_result = a**b \n",
    "\n",
    "print(add_result)\n",
    "print(sub_result)\n",
    "print(mult_result)\n",
    "print(div_result)\n",
    "print(floor_div_result)\n",
    "print(modulus_result)\n",
    "print(exponent_result)"
   ]
  },
  {
   "cell_type": "markdown",
   "id": "731c6999",
   "metadata": {},
   "source": [
    "# Comparison Operators "
   ]
  },
  {
   "cell_type": "code",
   "execution_count": null,
   "id": "daadef9a",
   "metadata": {},
   "outputs": [
    {
     "data": {
      "text/plain": [
       "True"
      ]
     },
     "execution_count": 2,
     "metadata": {},
     "output_type": "execute_result"
    }
   ],
   "source": [
    "# == - Equal to \n",
    "a = 10 \n",
    "b = 10 \n",
    "\n",
    "a==b "
   ]
  },
  {
   "cell_type": "code",
   "execution_count": 5,
   "id": "ae871271",
   "metadata": {},
   "outputs": [
    {
     "name": "stdout",
     "output_type": "stream",
     "text": [
      "False\n",
      "True\n"
     ]
    }
   ],
   "source": [
    "str1 = \"Samad\"\n",
    "str2 = \"Shaikh\" \n",
    "print(str1==str2)\n",
    "print(str1!=str2)"
   ]
  },
  {
   "cell_type": "code",
   "execution_count": null,
   "id": "83602639",
   "metadata": {},
   "outputs": [
    {
     "data": {
      "text/plain": [
       "False"
      ]
     },
     "execution_count": 7,
     "metadata": {},
     "output_type": "execute_result"
    }
   ],
   "source": [
    "# greater than > \n",
    "n1 = 45 \n",
    "n2 = 55 \n",
    "n1>n2"
   ]
  },
  {
   "cell_type": "code",
   "execution_count": 8,
   "id": "e0e4025e",
   "metadata": {},
   "outputs": [
    {
     "data": {
      "text/plain": [
       "True"
      ]
     },
     "execution_count": 8,
     "metadata": {},
     "output_type": "execute_result"
    }
   ],
   "source": [
    "# less than < \n",
    "n1<n2"
   ]
  },
  {
   "cell_type": "code",
   "execution_count": 9,
   "id": "17e6a8b1",
   "metadata": {},
   "outputs": [
    {
     "name": "stdout",
     "output_type": "stream",
     "text": [
      "True\n"
     ]
    }
   ],
   "source": [
    "# greater than or equal to \n",
    "w1 = 45 \n",
    "w2 = 45 \n",
    "\n",
    "print(w1>=w2)"
   ]
  },
  {
   "cell_type": "code",
   "execution_count": 11,
   "id": "375a2a48",
   "metadata": {},
   "outputs": [
    {
     "name": "stdout",
     "output_type": "stream",
     "text": [
      "True\n"
     ]
    }
   ],
   "source": [
    "# greater than or equal to \n",
    "w1 = 44 \n",
    "w2 = 45 \n",
    "\n",
    "print(w1<=w2)"
   ]
  },
  {
   "cell_type": "markdown",
   "id": "b11eda51",
   "metadata": {},
   "source": [
    "# Logical operators (and , not , or)"
   ]
  },
  {
   "cell_type": "code",
   "execution_count": null,
   "id": "2ffe0b24",
   "metadata": {},
   "outputs": [
    {
     "name": "stdout",
     "output_type": "stream",
     "text": [
      "False\n"
     ]
    }
   ],
   "source": [
    "# and operator\n",
    "x = True\n",
    "y = False \n",
    "\n",
    "result = x and y \n",
    "print(result)"
   ]
  },
  {
   "cell_type": "code",
   "execution_count": 20,
   "id": "f8452b91",
   "metadata": {},
   "outputs": [
    {
     "name": "stdout",
     "output_type": "stream",
     "text": [
      "True\n"
     ]
    }
   ],
   "source": [
    "# or operators \n",
    "x  = True\n",
    "y  = False \n",
    "\n",
    "result = x or y \n",
    "print(result)"
   ]
  },
  {
   "cell_type": "code",
   "execution_count": 22,
   "id": "053f1c28",
   "metadata": {},
   "outputs": [
    {
     "name": "stdout",
     "output_type": "stream",
     "text": [
      "False\n"
     ]
    }
   ],
   "source": [
    "# not operator \n",
    "z = True\n",
    "print(not z)"
   ]
  },
  {
   "cell_type": "code",
   "execution_count": null,
   "id": "cd526798",
   "metadata": {},
   "outputs": [],
   "source": []
  }
 ],
 "metadata": {
  "kernelspec": {
   "display_name": "Python 3",
   "language": "python",
   "name": "python3"
  },
  "language_info": {
   "codemirror_mode": {
    "name": "ipython",
    "version": 3
   },
   "file_extension": ".py",
   "mimetype": "text/x-python",
   "name": "python",
   "nbconvert_exporter": "python",
   "pygments_lexer": "ipython3",
   "version": "3.12.0"
  }
 },
 "nbformat": 4,
 "nbformat_minor": 5
}
