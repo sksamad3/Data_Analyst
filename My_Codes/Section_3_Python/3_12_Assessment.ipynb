{
 "cells": [
  {
   "cell_type": "markdown",
   "id": "339049ab",
   "metadata": {},
   "source": [
    "# 3_12_Assessment"
   ]
  },
  {
   "cell_type": "code",
   "execution_count": null,
   "id": "d14fd3c4",
   "metadata": {},
   "outputs": [
    {
     "name": "stdout",
     "output_type": "stream",
     "text": [
      "-2 is negative\n"
     ]
    }
   ],
   "source": [
    "# 1. Write a program that asks the user to input a number and prints whether the number is positive.\n",
    "\n",
    "num = int(input(\"Enter a number : \"))\n",
    "\n",
    "if num > 0: \n",
    "    print(num ,\"is positive\")\n"
   ]
  },
  {
   "cell_type": "code",
   "execution_count": null,
   "id": "9d4435c3",
   "metadata": {},
   "outputs": [],
   "source": [
    "# 2. Write a program that asks the user to input a number and prints whether the number is positive or negative.\n",
    "num = int(input(\"Enter a number : \"))\n",
    "\n",
    "if num < 0: \n",
    "    print(num ,\"is negative\")\n",
    "else: \n",
    "    print(num ,\"is positive \") \n",
    "\n"
   ]
  },
  {
   "cell_type": "code",
   "execution_count": null,
   "id": "9eaab296",
   "metadata": {},
   "outputs": [],
   "source": [
    "# 3. Write a program that asks the user to input a number and prints whether the number is positive, negative, or zero.\n",
    "\n",
    "num = int(input(\"Enter a number : \"))\n",
    "\n",
    "if num < 0: \n",
    "    print(num ,\"is negative\")\n",
    "elif num > 1: \n",
    "    print(num ,\"is positive \") \n",
    "else: \n",
    "    print(num , \" is zero \")\n"
   ]
  },
  {
   "cell_type": "code",
   "execution_count": 3,
   "id": "1df85cf3",
   "metadata": {},
   "outputs": [
    {
     "name": "stdout",
     "output_type": "stream",
     "text": [
      "34  is a positive number \n",
      "34  is an even number \n"
     ]
    }
   ],
   "source": [
    "# 4. Write a program that asks the user to input a number and prints whether the number is positive and even, positive and odd, or negative.\n",
    "\n",
    "num = int(input(\"Enter a number : \"))\n",
    "\n",
    "if num>0 : \n",
    "    print(num , \" is a positive number \")\n",
    "    if num%2==0: \n",
    "        print(num ,\" is an even number \")\n",
    "    else: \n",
    "        print(num, \" is an odd number \")\n",
    "else: \n",
    "    print(num,\" is negative or zero \")\n"
   ]
  },
  {
   "cell_type": "code",
   "execution_count": 6,
   "id": "e58273e8",
   "metadata": {},
   "outputs": [
    {
     "name": "stdout",
     "output_type": "stream",
     "text": [
      "1\n",
      "2\n",
      "3\n",
      "4\n",
      "5\n",
      "6\n",
      "7\n",
      "8\n",
      "9\n",
      "10\n"
     ]
    }
   ],
   "source": [
    "# 5. Write a program that prints all the numbers from 1 to 10 using a for loop.\n",
    "\n",
    "for i in range(1,11,1):\n",
    "    print(i)"
   ]
  },
  {
   "cell_type": "code",
   "execution_count": 7,
   "id": "00e0d548",
   "metadata": {},
   "outputs": [
    {
     "name": "stdout",
     "output_type": "stream",
     "text": [
      "1\n",
      "2\n",
      "3\n",
      "4\n",
      "5\n",
      "6\n",
      "7\n",
      "8\n",
      "9\n",
      "10\n"
     ]
    }
   ],
   "source": [
    "# 6. Write a program that prints all the numbers from 1 to 10 using a while loop.\n",
    "\n",
    "i = 1\n",
    "while i<=10: \n",
    "    print(i)\n",
    "    i+=1"
   ]
  },
  {
   "cell_type": "code",
   "execution_count": 9,
   "id": "7279393c",
   "metadata": {},
   "outputs": [
    {
     "name": "stdout",
     "output_type": "stream",
     "text": [
      "* * * * * \n",
      "\n",
      "* * * * * \n",
      "\n",
      "* * * * * \n",
      "\n",
      "* * * * * \n",
      "\n",
      "* * * * * \n",
      "\n"
     ]
    }
   ],
   "source": [
    "# 7. Write a program that prints a 5x5 grid of asterisks (*) using nested loops.\n",
    "\n",
    "for i in range(1,6,1):\n",
    "    for j in range(1,6,1): \n",
    "        print(\"*\",end=\" \")\n",
    "    print(\"\\n\")"
   ]
  },
  {
   "cell_type": "code",
   "execution_count": 11,
   "id": "8d20a8fa",
   "metadata": {},
   "outputs": [
    {
     "name": "stdout",
     "output_type": "stream",
     "text": [
      "Sum is :  215164\n"
     ]
    }
   ],
   "source": [
    "# 8. Write a program that asks the user to input numbers until they input 0. The program should print the sum of all the input numbers.\n",
    "n= 1\n",
    "sum = 0 \n",
    "while n!=0: \n",
    "    n = int(input(\"Enter a number : \"))\n",
    "    sum+=n\n",
    "print(\"Sum is : \",sum)\n",
    "    "
   ]
  },
  {
   "cell_type": "code",
   "execution_count": 12,
   "id": "4084d1fe",
   "metadata": {},
   "outputs": [
    {
     "name": "stdout",
     "output_type": "stream",
     "text": [
      "1\n",
      "2\n",
      "3\n",
      "4\n",
      "6\n",
      "7\n",
      "8\n",
      "9\n",
      "10\n"
     ]
    }
   ],
   "source": [
    "# 9. Write a program that prints all the numbers from 1 to 10 except 5 using a for loop and continue statement.\n",
    "\n",
    "for i in range(1,11,1):\n",
    "    if i==5:\n",
    "        continue\n",
    "    else:\n",
    "        print(i)"
   ]
  },
  {
   "cell_type": "code",
   "execution_count": 14,
   "id": "ec5daa8e",
   "metadata": {},
   "outputs": [],
   "source": [
    "# 10. Write a program that defines an empty function using the pass statement.\n",
    "\n",
    "def f():\n",
    "    pass"
   ]
  },
  {
   "cell_type": "code",
   "execution_count": null,
   "id": "e1d8cf04",
   "metadata": {},
   "outputs": [
    {
     "name": "stdout",
     "output_type": "stream",
     "text": [
      "2\n",
      "4\n",
      "6\n",
      "8\n",
      "10\n",
      "12\n",
      "14\n",
      "16\n",
      "18\n",
      "20\n",
      "22\n",
      "24\n",
      "26\n",
      "28\n",
      "30\n",
      "32\n",
      "34\n",
      "36\n",
      "38\n",
      "40\n",
      "42\n",
      "44\n",
      "46\n",
      "48\n",
      "50\n",
      "52\n",
      "54\n",
      "56\n",
      "58\n",
      "60\n",
      "62\n",
      "64\n",
      "66\n",
      "68\n",
      "70\n",
      "72\n",
      "74\n",
      "76\n",
      "78\n",
      "80\n",
      "82\n",
      "84\n",
      "86\n",
      "88\n",
      "90\n",
      "92\n",
      "94\n",
      "96\n",
      "98\n",
      "100\n"
     ]
    }
   ],
   "source": [
    "# 11. Write a program that asks the user to input a number and prints all the even numbers from 1 to that number using a for loop.\n",
    "\n",
    "n = int(input(\"Enter a number : \"))\n",
    "\n",
    "for i in range(1,n+1,1):\n",
    "    if i%2 == 0: \n",
    "        print(i)"
   ]
  },
  {
   "cell_type": "code",
   "execution_count": 23,
   "id": "333738e4",
   "metadata": {},
   "outputs": [
    {
     "name": "stdout",
     "output_type": "stream",
     "text": [
      "Factorial of  5  is :  120\n"
     ]
    }
   ],
   "source": [
    "# 12. Write a program that calculates the factorial of a number input by the user using a while loop.\n",
    "\n",
    "num1 = int(input(\"Enter a number : \"))\n",
    "fact = 1\n",
    "i = 1 \n",
    "while(i<=num1): \n",
    "    if num1 == 0 or num1 == 1: \n",
    "        fact = 1 \n",
    "    else: \n",
    "        fact*=i\n",
    "        i+=1\n",
    "\n",
    "print(\"Factorial of \",num1,\" is : \",fact)"
   ]
  },
  {
   "cell_type": "code",
   "execution_count": 26,
   "id": "3c511797",
   "metadata": {},
   "outputs": [
    {
     "name": "stdout",
     "output_type": "stream",
     "text": [
      "6\n"
     ]
    }
   ],
   "source": [
    "# 13. Write a program that calculates the sum of the digits of a number input by the user using a while loop.\n",
    "\n",
    "numb = int(input(\"Enter a number : \")) \n",
    "sum = 0 \n",
    "while(numb!=0): \n",
    "    bit  = numb%10\n",
    "\n",
    "    sum = sum + bit \n",
    "    numb = numb//10 \n",
    "print(sum)\n"
   ]
  },
  {
   "cell_type": "code",
   "execution_count": 31,
   "id": "03ba3a47",
   "metadata": {},
   "outputs": [
    {
     "name": "stdout",
     "output_type": "stream",
     "text": [
      "41  is a prime number \n"
     ]
    }
   ],
   "source": [
    "# 14. Write a program that checks if a number input by the user is a prime number using a for loop.\n",
    "\n",
    "numm = int(input(\"Enter a number : \"))\n",
    "is_prime = True\n",
    "\n",
    "for i in range(2,numm): \n",
    "    if numm%i==0 :\n",
    "        is_prime = False\n",
    "        break\n",
    "\n",
    "if is_prime: \n",
    "    print(numm , \" is a prime number \")\n",
    "else: \n",
    "    print(numm , \" is not a prime number \")\n"
   ]
  },
  {
   "cell_type": "code",
   "execution_count": null,
   "id": "5aedd80c",
   "metadata": {},
   "outputs": [],
   "source": []
  },
  {
   "cell_type": "code",
   "execution_count": null,
   "id": "b6eb648d",
   "metadata": {},
   "outputs": [],
   "source": []
  }
 ],
 "metadata": {
  "kernelspec": {
   "display_name": "Python 3",
   "language": "python",
   "name": "python3"
  },
  "language_info": {
   "codemirror_mode": {
    "name": "ipython",
    "version": 3
   },
   "file_extension": ".py",
   "mimetype": "text/x-python",
   "name": "python",
   "nbconvert_exporter": "python",
   "pygments_lexer": "ipython3",
   "version": "3.12.0"
  }
 },
 "nbformat": 4,
 "nbformat_minor": 5
}
