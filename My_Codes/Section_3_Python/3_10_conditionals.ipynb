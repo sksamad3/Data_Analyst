{
 "cells": [
  {
   "cell_type": "markdown",
   "id": "e748f3ad",
   "metadata": {},
   "source": [
    "# Conditionals "
   ]
  },
  {
   "cell_type": "code",
   "execution_count": null,
   "id": "7c490265",
   "metadata": {},
   "outputs": [],
   "source": [
    "# if statement evaluates a condition and if its true then executes specified block of code. \n"
   ]
  },
  {
   "cell_type": "code",
   "execution_count": 1,
   "id": "494f5a3a",
   "metadata": {},
   "outputs": [
    {
     "name": "stdout",
     "output_type": "stream",
     "text": [
      "You are allowed to vote in the elections \n"
     ]
    }
   ],
   "source": [
    "age  = 18 \n",
    "if age>=18: \n",
    "    print(\"You are allowed to vote in the elections \")"
   ]
  },
  {
   "cell_type": "code",
   "execution_count": 4,
   "id": "0586c3eb",
   "metadata": {},
   "outputs": [
    {
     "name": "stdout",
     "output_type": "stream",
     "text": [
      "You are a minor\n"
     ]
    }
   ],
   "source": [
    "# else block \n",
    "# the else statement executes a block of code if the condition in the if statement is false\n",
    "\n",
    "age = 16 \n",
    "\n",
    "if age>=18: \n",
    "    print(\"You are eligible for voting \")\n",
    "else: \n",
    "    print(\"You are a minor\")  "
   ]
  },
  {
   "cell_type": "code",
   "execution_count": 9,
   "id": "bdce71dd",
   "metadata": {},
   "outputs": [
    {
     "name": "stdout",
     "output_type": "stream",
     "text": [
      "You are a teenager \n"
     ]
    }
   ],
   "source": [
    "# elif statement \n",
    "# The elif statement allows to check multiple conditions . It standss for \"else if\"\n",
    "\n",
    "age = 16\n",
    "if age<13: \n",
    "    print(\"You are a child \")\n",
    "elif age<18: \n",
    "    print(\"You are a teenager \") \n",
    "else: \n",
    "    print(\"You are an adult \")"
   ]
  },
  {
   "cell_type": "code",
   "execution_count": 10,
   "id": "74545e30",
   "metadata": {},
   "outputs": [
    {
     "name": "stdout",
     "output_type": "stream",
     "text": [
      "The number is positive \n",
      "The number is even \n"
     ]
    }
   ],
   "source": [
    "# Nested conditional statements \n",
    "# You can place one or more if, elif, or else statements inside another if, elif, or else statement to create nested conditional statements.\n",
    "\n",
    "# number even , odd , negative \n",
    "\n",
    "num = int(input(\"Enter the number : \"))\n",
    "\n",
    "if num>0: \n",
    "    print(\"The number is positive \")\n",
    "    if num%2==0: \n",
    "        print(\"The number is even \")\n",
    "    else: \n",
    "        print(\"The number is odd\")\n",
    "else: \n",
    "    print(\"The number is zero or negative \")"
   ]
  },
  {
   "cell_type": "code",
   "execution_count": null,
   "id": "8c1a8509",
   "metadata": {},
   "outputs": [],
   "source": [
    "## Practical Examples \n",
    "\n",
    "# Leap year \n",
    "year = int(input(\"Enter a year : \"))\n",
    "\n",
    "if year%4==0 : \n",
    "    if year%100==0: \n",
    "        if year%400==0:\n",
    "            print(year , \"is a leap year\")\n",
    "        else: \n",
    "            print(year , \" is not a leap year\")\n",
    "    else:\n",
    "        print(year , \" is a leap year\")\n",
    "else: \n",
    "    print(year , \" is not a leap year\")"
   ]
  }
 ],
 "metadata": {
  "kernelspec": {
   "display_name": "Python 3",
   "language": "python",
   "name": "python3"
  },
  "language_info": {
   "codemirror_mode": {
    "name": "ipython",
    "version": 3
   },
   "file_extension": ".py",
   "mimetype": "text/x-python",
   "name": "python",
   "nbconvert_exporter": "python",
   "pygments_lexer": "ipython3",
   "version": "3.12.0"
  }
 },
 "nbformat": 4,
 "nbformat_minor": 5
}
