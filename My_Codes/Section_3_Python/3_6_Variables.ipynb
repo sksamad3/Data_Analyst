{
 "cells": [
  {
   "cell_type": "code",
   "execution_count": 1,
   "id": "f57aa138",
   "metadata": {},
   "outputs": [],
   "source": [
    "age=21\n",
    "height=6.1\n",
    "name=\"Samad\"\n",
    "is_student=True"
   ]
  },
  {
   "cell_type": "code",
   "execution_count": 2,
   "id": "5a8f8b22",
   "metadata": {},
   "outputs": [
    {
     "name": "stdout",
     "output_type": "stream",
     "text": [
      "age : 21\n",
      "Height: 6.1\n",
      "Name: Samad\n"
     ]
    }
   ],
   "source": [
    "print(\"age :\",age)\n",
    "print(\"Height:\",height)\n",
    "print(\"Name:\",name)"
   ]
  },
  {
   "cell_type": "code",
   "execution_count": null,
   "id": "8f8a4f1f",
   "metadata": {},
   "outputs": [],
   "source": [
    "first_name = \"Shaikh\"\n",
    "last_name = \"Samad\"\n"
   ]
  },
  {
   "cell_type": "markdown",
   "id": "0ebd2139",
   "metadata": {},
   "source": [
    "# Variable Types & Typecasting "
   ]
  },
  {
   "cell_type": "code",
   "execution_count": null,
   "id": "b0bd0685",
   "metadata": {},
   "outputs": [
    {
     "name": "stdout",
     "output_type": "stream",
     "text": [
      "<class 'str'>\n",
      "<class 'int'>\n",
      "<class 'float'>\n",
      "<class 'bool'>\n"
     ]
    }
   ],
   "source": [
    "# Python is dynamically means , the type of data is determined during the runtime , we don't need to explicitly declare data type \n",
    "fname = \"Samad\"  # string \n",
    "age = 22 # int \n",
    "height2= 7.5\n",
    "is_student_2 = True \n",
    "\n",
    "\n",
    "# Type checking \n",
    "print(type(fname))\n",
    "print(type(age))\n",
    "print(type(height2))\n",
    "print(type(is_student_2))"
   ]
  },
  {
   "cell_type": "code",
   "execution_count": null,
   "id": "c2ad3584",
   "metadata": {},
   "outputs": [
    {
     "name": "stdout",
     "output_type": "stream",
     "text": [
      "<class 'str'>\n"
     ]
    }
   ],
   "source": [
    "# Type conversion \n",
    "# int --> str \n",
    "samad_age  = 23  # Type int \n",
    "age_str = str(samad_age) # Type changed from int to str \n",
    "print(type(age_str))\n"
   ]
  },
  {
   "cell_type": "code",
   "execution_count": null,
   "id": "1e20d673",
   "metadata": {},
   "outputs": [
    {
     "name": "stdout",
     "output_type": "stream",
     "text": [
      "<class 'int'>\n"
     ]
    }
   ],
   "source": [
    "# str --> int \n",
    "age3 = '25' # Type str \n",
    "int_age3 = int(age3) # Type changed from str to int \n",
    "print(type(int_age3))"
   ]
  },
  {
   "cell_type": "code",
   "execution_count": 4,
   "id": "c8b847eb",
   "metadata": {},
   "outputs": [
    {
     "ename": "ValueError",
     "evalue": "invalid literal for int() with base 10: 'Samad'",
     "output_type": "error",
     "traceback": [
      "\u001b[31m---------------------------------------------------------------------------\u001b[39m",
      "\u001b[31mValueError\u001b[39m                                Traceback (most recent call last)",
      "\u001b[36mCell\u001b[39m\u001b[36m \u001b[39m\u001b[32mIn[4]\u001b[39m\u001b[32m, line 2\u001b[39m\n\u001b[32m      1\u001b[39m my_name = \u001b[33m\"\u001b[39m\u001b[33mSamad\u001b[39m\u001b[33m\"\u001b[39m \n\u001b[32m----> \u001b[39m\u001b[32m2\u001b[39m int_my_name = \u001b[38;5;28;43mint\u001b[39;49m\u001b[43m(\u001b[49m\u001b[43mmy_name\u001b[49m\u001b[43m)\u001b[49m \u001b[38;5;66;03m# Can't do this because my_name is a complete string \u001b[39;00m\n",
      "\u001b[31mValueError\u001b[39m: invalid literal for int() with base 10: 'Samad'"
     ]
    }
   ],
   "source": [
    "my_name = \"Samad\" \n",
    "int_my_name = int(my_name) # Can't do this because my_name is a complete string \n"
   ]
  },
  {
   "cell_type": "code",
   "execution_count": null,
   "id": "b59c0858",
   "metadata": {},
   "outputs": [],
   "source": [
    "# float --> int \n",
    "height3 = 7.2 \n",
    "int_height3 = int(height3) \n",
    "print(int_height3) # Type changed from float to int "
   ]
  },
  {
   "cell_type": "markdown",
   "id": "47be54d2",
   "metadata": {},
   "source": [
    "# Dynamic Typing "
   ]
  },
  {
   "cell_type": "code",
   "execution_count": 3,
   "id": "3b84ae83",
   "metadata": {},
   "outputs": [
    {
     "name": "stdout",
     "output_type": "stream",
     "text": [
      "10 <class 'int'>\n"
     ]
    }
   ],
   "source": [
    "# Python allows the type of a variable to change as the program executes \n",
    "var = 10 \n",
    "print(var , type(var))"
   ]
  },
  {
   "cell_type": "code",
   "execution_count": 2,
   "id": "5405095c",
   "metadata": {},
   "outputs": [
    {
     "name": "stdout",
     "output_type": "stream",
     "text": [
      "Hello  <class 'str'>\n"
     ]
    }
   ],
   "source": [
    "var = \"Hello \" \n",
    "print(var,type(var))"
   ]
  },
  {
   "cell_type": "code",
   "execution_count": 1,
   "id": "f4580915",
   "metadata": {},
   "outputs": [
    {
     "name": "stdout",
     "output_type": "stream",
     "text": [
      "35.4 <class 'float'>\n"
     ]
    }
   ],
   "source": [
    "var = 35.4 \n",
    "print(var, type(var))"
   ]
  },
  {
   "cell_type": "markdown",
   "id": "e8f38e70",
   "metadata": {},
   "source": [
    "# User Input in Python "
   ]
  },
  {
   "cell_type": "code",
   "execution_count": 4,
   "id": "567dd922",
   "metadata": {},
   "outputs": [
    {
     "name": "stdout",
     "output_type": "stream",
     "text": [
      "45 <class 'str'>\n"
     ]
    }
   ],
   "source": [
    "user_age = input(\"Enter your age : \")\n",
    "print(user_age,type(user_age)) # Type of user_age is string "
   ]
  },
  {
   "cell_type": "code",
   "execution_count": 5,
   "id": "6b261ca8",
   "metadata": {},
   "outputs": [
    {
     "name": "stdout",
     "output_type": "stream",
     "text": [
      "21 <class 'int'>\n"
     ]
    }
   ],
   "source": [
    "# Whenever we take any input from a user it is parsed as a string always \n",
    "user_age2 = int(input(\"Enter your age : \"))\n",
    "print(user_age2,type(user_age2)) "
   ]
  },
  {
   "cell_type": "markdown",
   "id": "1388852a",
   "metadata": {},
   "source": [
    "# Simple Calculator Application "
   ]
  },
  {
   "cell_type": "code",
   "execution_count": 6,
   "id": "6e535b84",
   "metadata": {},
   "outputs": [
    {
     "name": "stdout",
     "output_type": "stream",
     "text": [
      "Sum :  15\n",
      "Differencee :  5\n",
      "Product :  50\n",
      "Division :  2.0\n"
     ]
    }
   ],
   "source": [
    "num1 = int(input(\"Enter a number : \"))\n",
    "num2 = int(input(\"Enter another number : \")) \n",
    "\n",
    "sum = num1+num2\n",
    "difference = num1-num2\n",
    "product = num1*num2 \n",
    "division = num1/num2\n",
    "\n",
    "print(\"Sum : \",sum)\n",
    "print(\"Differencee : \",difference)\n",
    "print(\"Product : \",product)\n",
    "print(\"Division : \",division)"
   ]
  },
  {
   "cell_type": "code",
   "execution_count": null,
   "id": "a98095dc",
   "metadata": {},
   "outputs": [],
   "source": []
  }
 ],
 "metadata": {
  "kernelspec": {
   "display_name": "Python 3",
   "language": "python",
   "name": "python3"
  },
  "language_info": {
   "codemirror_mode": {
    "name": "ipython",
    "version": 3
   },
   "file_extension": ".py",
   "mimetype": "text/x-python",
   "name": "python",
   "nbconvert_exporter": "python",
   "pygments_lexer": "ipython3",
   "version": "3.12.0"
  }
 },
 "nbformat": 4,
 "nbformat_minor": 5
}
