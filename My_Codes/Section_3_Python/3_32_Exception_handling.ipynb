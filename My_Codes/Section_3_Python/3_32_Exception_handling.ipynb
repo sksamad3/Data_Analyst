{
 "cells": [
  {
   "cell_type": "markdown",
   "id": "856d58a2",
   "metadata": {},
   "source": [
    "# Exceptions in Python \n",
    "Exceptions are errors that occurs when something unusual occurs during execution of programs , so if a normal user sees the errors then they might not always understand about the error , so using exception handling we can explain the error to the user and help debugging it with ease. \n",
    "We use try and except blocks in python to handle exceptions"
   ]
  },
  {
   "cell_type": "code",
   "execution_count": null,
   "id": "28240c38",
   "metadata": {},
   "outputs": [
    {
     "name": "stdout",
     "output_type": "stream",
     "text": [
      "10\n"
     ]
    }
   ],
   "source": [
    "a = 10 \n",
    "print(a)"
   ]
  },
  {
   "cell_type": "code",
   "execution_count": 2,
   "id": "7d801798",
   "metadata": {},
   "outputs": [
    {
     "name": "stdout",
     "output_type": "stream",
     "text": [
      "The variable has not been assigned \n"
     ]
    }
   ],
   "source": [
    "## Exception Handling\n",
    "try: \n",
    "    a=b \n",
    "except: \n",
    "    print(\"The variable has not been assigned \")"
   ]
  },
  {
   "cell_type": "code",
   "execution_count": 3,
   "id": "20a98bfb",
   "metadata": {},
   "outputs": [
    {
     "name": "stdout",
     "output_type": "stream",
     "text": [
      "name 'b' is not defined\n"
     ]
    }
   ],
   "source": [
    "try: \n",
    "    a=b \n",
    "except NameError as ex: \n",
    "    print(ex)"
   ]
  },
  {
   "cell_type": "code",
   "execution_count": 4,
   "id": "bdafe794",
   "metadata": {},
   "outputs": [
    {
     "name": "stdout",
     "output_type": "stream",
     "text": [
      "division by zero\n",
      "Please enter the denominator greater than 0 \n"
     ]
    }
   ],
   "source": [
    "try: \n",
    "    result = a/0 \n",
    "except ZeroDivisionError as ex: \n",
    "    print(ex) \n",
    "    print(\"Please enter the denominator greater than 0 \")"
   ]
  },
  {
   "cell_type": "markdown",
   "id": "06a88bd5",
   "metadata": {},
   "source": [
    "# Exception class"
   ]
  },
  {
   "cell_type": "code",
   "execution_count": 7,
   "id": "e1c3a4a5",
   "metadata": {},
   "outputs": [
    {
     "name": "stdout",
     "output_type": "stream",
     "text": [
      "name 'b' is not defined\n"
     ]
    }
   ],
   "source": [
    "try: \n",
    "    a = 12\n",
    "    result = a/2 \n",
    "    a=b\n",
    "    # The zero division exception will not get caught because a/2 is a correct statement . \n",
    "\n",
    "    # a=b is not correct ,because b is not defined so , so such exception comes under nameError so we will handle it by writing another exception. \n",
    "except ZeroDivisionError as ex: # Ignored\n",
    "    print(ex) \n",
    "except NameError as ex2: # gets caught \n",
    "    print(ex2)"
   ]
  },
  {
   "cell_type": "code",
   "execution_count": null,
   "id": "863d160d",
   "metadata": {},
   "outputs": [
    {
     "name": "stdout",
     "output_type": "stream",
     "text": [
      "name 'b' is not defined\n"
     ]
    }
   ],
   "source": [
    "try: \n",
    "    a = 12\n",
    "    result = a/2 \n",
    "    a=b\n",
    "    # The zero division exception will not get caught because a/b is a correct statement . \n",
    "    # a=b is not correct ,because b is not defined so , so such exception comes under nameError , so we haven't caught nameError ahead so who will handle this nameError , so in such case we can use Exception class , because this will handle all sort of exceptions , we should write it at the end of exceptions. \n",
    "except ZeroDivisionError as ex: # Ignored\n",
    "    print(ex) \n",
    "except Exception as ex3 : \n",
    "    print(ex3)\n",
    "# Exception class have solution to handle all types of exceptions so use it at the end. its a parent class of all the exceptions.\n",
    "\n"
   ]
  },
  {
   "cell_type": "code",
   "execution_count": 17,
   "id": "959bc884",
   "metadata": {},
   "outputs": [
    {
     "name": "stdout",
     "output_type": "stream",
     "text": [
      "3\n"
     ]
    }
   ],
   "source": [
    "# ValueError means if you enter string in place of integer than this error gets raised\n",
    "# Zerodivision raised if you enter numerator or denominator as 0 \n",
    "# in this case if you enter a string instead of integer then Value Error will be raised \n",
    "# If entered zero then ZeroDivisionError will be raised \n",
    "try: \n",
    "    num = int(input(\"Enter a number\")) \n",
    "    result = 10//num \n",
    "    print(result)\n",
    "except ValueError: \n",
    "    print(\"This is not a valid number \") \n",
    "except ZeroDivisionError: \n",
    "    print(\"Enter denominator greater than 0\")\n",
    "except Exception as ex: \n",
    "    print(ex)"
   ]
  },
  {
   "cell_type": "markdown",
   "id": "580eb32b",
   "metadata": {},
   "source": [
    "# Try , Except , Else block\n",
    "Errors always might not arise, if user entered correct inputs then if no errors raised then all the exception handling blocks will be skipped. \n",
    "So despite correct inputs if no solution is printed then its a problem. \n",
    "In such case we can use else block to show our final program execution part if none of the exceptions get caught . "
   ]
  },
  {
   "cell_type": "code",
   "execution_count": null,
   "id": "42205bf8",
   "metadata": {},
   "outputs": [
    {
     "name": "stdout",
     "output_type": "stream",
     "text": [
      "name 'b' is not defined\n"
     ]
    }
   ],
   "source": [
    "try: \n",
    "    num=int(input(\"Enter a number : \")) \n",
    "    result  = 10/num\n",
    "    a=b # NameError exception will be caught by Exception class since we haven't handled NameError exception manually\n",
    "except ValueError: \n",
    "    print(\"That's not a valid number \") \n",
    "except ZeroDivisionError: \n",
    "    print(\"You can't divide by zero ! \")\n",
    "except Exception as ex:  \n",
    "    print(ex)\n",
    "    \n",
    "else: \n",
    "    print(f\"The result is {result}\") "
   ]
  },
  {
   "cell_type": "markdown",
   "id": "872bf29b",
   "metadata": {},
   "source": [
    "# Try , Except , Else and Finally "
   ]
  },
  {
   "cell_type": "code",
   "execution_count": null,
   "id": "387bd6fb",
   "metadata": {},
   "outputs": [
    {
     "name": "stdout",
     "output_type": "stream",
     "text": [
      "The result : 1.0\n",
      "Execution completed\n"
     ]
    }
   ],
   "source": [
    "try: \n",
    "    num = int(input(\"Enter a number : \")) \n",
    "    result = 10/ num\n",
    "except ValueError: \n",
    "    print(\"Invalid Input \") \n",
    "except ZeroDivisionError: \n",
    "    print(\"You can't divide by 0 \") \n",
    "except Exception as ex: \n",
    "    print(ex) \n",
    "else: \n",
    "    print(f\"The result : {result}\") \n",
    "finally: \n",
    "    print(\"Execution completed\")"
   ]
  },
  {
   "cell_type": "markdown",
   "id": "651a3daf",
   "metadata": {},
   "source": [
    "# File Handling and Exception Handling"
   ]
  },
  {
   "cell_type": "code",
   "execution_count": 34,
   "id": "5fe052cc",
   "metadata": {},
   "outputs": [
    {
     "name": "stdout",
     "output_type": "stream",
     "text": [
      "I am samad\n",
      "\n",
      "File closed\n"
     ]
    }
   ],
   "source": [
    "try: \n",
    "    file = open('example.txt','r') \n",
    "    content = file.read() \n",
    "    print(content)\n",
    "\n",
    "except FileNotFoundError: \n",
    "    print(\"The file does not exists\") \n",
    "except Exception as ex:\n",
    "    print(ex)\n",
    "finally: \n",
    "    if 'file' in locals() and not file.closed:  \n",
    "        file.close() \n",
    "        print(\"File closed\") \n"
   ]
  },
  {
   "cell_type": "code",
   "execution_count": null,
   "id": "b27d5802",
   "metadata": {},
   "outputs": [],
   "source": []
  }
 ],
 "metadata": {
  "kernelspec": {
   "display_name": "Python 3",
   "language": "python",
   "name": "python3"
  },
  "language_info": {
   "codemirror_mode": {
    "name": "ipython",
    "version": 3
   },
   "file_extension": ".py",
   "mimetype": "text/x-python",
   "name": "python",
   "nbconvert_exporter": "python",
   "pygments_lexer": "ipython3",
   "version": "3.12.0"
  }
 },
 "nbformat": 4,
 "nbformat_minor": 5
}
