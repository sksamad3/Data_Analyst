{
 "cells": [
  {
   "cell_type": "markdown",
   "id": "bfe3cc0e",
   "metadata": {},
   "source": [
    "# Function Examples "
   ]
  },
  {
   "cell_type": "markdown",
   "id": "26ff8f78",
   "metadata": {},
   "source": [
    "# 1. Program to convert Celsius to Fahrenheit"
   ]
  },
  {
   "cell_type": "code",
   "execution_count": 14,
   "id": "808e99dc",
   "metadata": {},
   "outputs": [
    {
     "name": "stdout",
     "output_type": "stream",
     "text": [
      "77.0\n",
      "25.0\n"
     ]
    }
   ],
   "source": [
    "def convert_temperature(temp,unit):\n",
    "    if unit=='C': \n",
    "        return temp*9/5+32 # Celsius to Fahrenheit\n",
    "    elif unit=='F': \n",
    "        return (temp-32)*5/9 # Fahreheit to Celcius\n",
    "    else: \n",
    "        return None\n",
    "\n",
    "print(convert_temperature(25,'C'))\n",
    "print(convert_temperature(77,'F'))"
   ]
  },
  {
   "cell_type": "markdown",
   "id": "21f9230e",
   "metadata": {},
   "source": [
    "# 2. Password Strength Checker "
   ]
  },
  {
   "cell_type": "code",
   "execution_count": 16,
   "id": "f9bdd781",
   "metadata": {},
   "outputs": [
    {
     "name": "stdout",
     "output_type": "stream",
     "text": [
      "False\n",
      "True\n"
     ]
    }
   ],
   "source": [
    "def is_strong_password(password): \n",
    "    if len(password)<8: \n",
    "        return False\n",
    "    if not any(char.isdigit() for char in password):\n",
    "        return False \n",
    "    if not any(char.islower() for char in password):\n",
    "        return False\n",
    "    if not any(char.isupper() for char in password): \n",
    "        return False \n",
    "    if not any(char in '!@#$%^&*()_+' for char in password): \n",
    "        return False \n",
    "    return True\n",
    "\n",
    "## calling the function\n",
    "print(is_strong_password(\"WeakPwd\"))\n",
    "print(is_strong_password(\"Str0ngPwd!\"))\n",
    "    "
   ]
  },
  {
   "cell_type": "markdown",
   "id": "94e93d09",
   "metadata": {},
   "source": [
    "# 3. Calculate the Total cost of Items in a Shopping Cart"
   ]
  },
  {
   "cell_type": "code",
   "execution_count": 17,
   "id": "3a63088b",
   "metadata": {},
   "outputs": [],
   "source": [
    "def calculate_total(cart):\n",
    "    total_cost = 0 \n",
    "\n",
    "    for item in cart: \n",
    "        total_cost+=item['price']*item['quantity']\n",
    "\n",
    "    return total_cost\n",
    "\n",
    "\n",
    "# Example cart data \n",
    "cart= [\n",
    "    {'name':'Apple','price':0.5,'quantity':4},\n",
    "    {'name':'Banana','price':0.3,'quantity':6},\n",
    "    {'name':'Orange','price':0.7,'quantity':3}    \n",
    "]"
   ]
  },
  {
   "cell_type": "code",
   "execution_count": 18,
   "id": "a32b5142",
   "metadata": {},
   "outputs": [
    {
     "name": "stdout",
     "output_type": "stream",
     "text": [
      "5.8999999999999995\n"
     ]
    }
   ],
   "source": [
    "total_cost= calculate_total(cart)\n",
    "print(total_cost)"
   ]
  },
  {
   "cell_type": "markdown",
   "id": "1440693b",
   "metadata": {},
   "source": [
    "# 4. Check IF a String is Palindrome"
   ]
  },
  {
   "cell_type": "code",
   "execution_count": 23,
   "id": "f6d70780",
   "metadata": {},
   "outputs": [
    {
     "name": "stdout",
     "output_type": "stream",
     "text": [
      "True\n"
     ]
    }
   ],
   "source": [
    "def check_Palindrome(s): \n",
    "    s = s.lower().replace(\" \",\"\")\n",
    "    if s[::-1] ==s : \n",
    "        return True\n",
    "    else: \n",
    "        return False\n",
    "\n",
    "print(check_Palindrome(\"madam\")) "
   ]
  },
  {
   "cell_type": "markdown",
   "id": "0b845f33",
   "metadata": {},
   "source": [
    "# 5. Find Factorial of a number "
   ]
  },
  {
   "cell_type": "code",
   "execution_count": 27,
   "id": "bcb09444",
   "metadata": {},
   "outputs": [
    {
     "name": "stdout",
     "output_type": "stream",
     "text": [
      "6\n"
     ]
    }
   ],
   "source": [
    "def factorial(num):\n",
    "    if(num == 0 or num ==1 ): \n",
    "        return 1 \n",
    "    else:  \n",
    "        return  num* factorial(num-1)\n",
    "\n",
    "print(factorial(3))"
   ]
  },
  {
   "cell_type": "markdown",
   "id": "6e3a4a58",
   "metadata": {},
   "source": [
    "# 6. A Function to Read a File and count the frequency of each word "
   ]
  },
  {
   "cell_type": "code",
   "execution_count": null,
   "id": "67a4fc29",
   "metadata": {},
   "outputs": [],
   "source": [
    "def count_word_frequency(file_path):\n",
    "    word_count={}\n",
    "    with open(file_path,'r') as file: \n",
    "        for line in file: \n",
    "            words = line.split() \n",
    "            for word in words:\n",
    "                word = word.lower().strip('.,!?;:\"\\'') \n",
    "                word_count[word] = word_count.get(word,0)+1\n",
    "\n",
    "    return word_count\n"
   ]
  }
 ],
 "metadata": {
  "kernelspec": {
   "display_name": "Python 3",
   "language": "python",
   "name": "python3"
  },
  "language_info": {
   "codemirror_mode": {
    "name": "ipython",
    "version": 3
   },
   "file_extension": ".py",
   "mimetype": "text/x-python",
   "name": "python",
   "nbconvert_exporter": "python",
   "pygments_lexer": "ipython3",
   "version": "3.12.0"
  }
 },
 "nbformat": 4,
 "nbformat_minor": 5
}
