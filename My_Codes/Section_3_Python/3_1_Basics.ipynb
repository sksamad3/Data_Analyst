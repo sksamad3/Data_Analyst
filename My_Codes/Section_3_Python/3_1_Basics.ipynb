{
 "cells": [
  {
   "cell_type": "markdown",
   "id": "02d548f2",
   "metadata": {},
   "source": [
    "# Python Basics"
   ]
  },
  {
   "cell_type": "code",
   "execution_count": 5,
   "id": "fd6b6e62",
   "metadata": {},
   "outputs": [
    {
     "name": "stdout",
     "output_type": "stream",
     "text": [
      "Shaikh\n",
      "Samad\n"
     ]
    }
   ],
   "source": [
    "name = \"Shaikh\" \n",
    "Name = \"Samad\"\n",
    "\n",
    "print(name)\n",
    "print(Name)"
   ]
  },
  {
   "cell_type": "code",
   "execution_count": 2,
   "id": "762a479e",
   "metadata": {},
   "outputs": [
    {
     "name": "stdout",
     "output_type": "stream",
     "text": [
      "32\n",
      "32\n"
     ]
    }
   ],
   "source": [
    "age = 32 \n",
    "if age > 30: \n",
    "    print(age)\n",
    "print(age)"
   ]
  },
  {
   "cell_type": "code",
   "execution_count": 1,
   "id": "69d1fac9",
   "metadata": {},
   "outputs": [
    {
     "name": "stdout",
     "output_type": "stream",
     "text": [
      "55\n"
     ]
    }
   ],
   "source": [
    "# Line Continuation \n",
    "resut = 1+2+3+4+5+\\\n",
    "6+7+8+9+10\n",
    "\n",
    "print(resut)"
   ]
  },
  {
   "cell_type": "code",
   "execution_count": null,
   "id": "047de2ba",
   "metadata": {},
   "outputs": [],
   "source": [
    "# Multiple statements in a single line \n",
    "x = 10 ; y = 20 ; z=x+y "
   ]
  },
  {
   "cell_type": "code",
   "execution_count": 6,
   "id": "b70ff293",
   "metadata": {},
   "outputs": [
    {
     "name": "stdout",
     "output_type": "stream",
     "text": [
      "<class 'int'>\n",
      "<class 'str'>\n"
     ]
    }
   ],
   "source": [
    "# Type Inference \n",
    "print(type(x))\n",
    "print(type(name))"
   ]
  },
  {
   "cell_type": "code",
   "execution_count": null,
   "id": "ad954dc3",
   "metadata": {},
   "outputs": [],
   "source": []
  }
 ],
 "metadata": {
  "kernelspec": {
   "display_name": "Python 3",
   "language": "python",
   "name": "python3"
  },
  "language_info": {
   "codemirror_mode": {
    "name": "ipython",
    "version": 3
   },
   "file_extension": ".py",
   "mimetype": "text/x-python",
   "name": "python",
   "nbconvert_exporter": "python",
   "pygments_lexer": "ipython3",
   "version": "3.12.0"
  }
 },
 "nbformat": 4,
 "nbformat_minor": 5
}
