{
 "cells": [
  {
   "cell_type": "markdown",
   "id": "dd66ee37",
   "metadata": {},
   "source": [
    "# File Operations "
   ]
  },
  {
   "cell_type": "code",
   "execution_count": 1,
   "id": "880a151c",
   "metadata": {},
   "outputs": [
    {
     "name": "stdout",
     "output_type": "stream",
     "text": [
      "Hello world \n",
      "New contentAppend operation taking placeAppend operation taking placeIt's good to learn programmingAppend operation taking place\n",
      "It's good to learn programmingFirst line \n",
      "Second line \n",
      "Third line\n"
     ]
    }
   ],
   "source": [
    "# Read a whole file \n",
    "with open('example.txt','r') as file: \n",
    "    content = file.read()\n",
    "    print(content)"
   ]
  },
  {
   "cell_type": "markdown",
   "id": "fcf5be33",
   "metadata": {},
   "source": [
    "# Reading a file line by line "
   ]
  },
  {
   "cell_type": "code",
   "execution_count": null,
   "id": "f05ed24e",
   "metadata": {},
   "outputs": [
    {
     "name": "stdout",
     "output_type": "stream",
     "text": [
      "Hello world\n",
      "New contentAppend operation taking placeAppend operation taking placeIt's good to learn programmingAppend operation taking place\n",
      "It's good to learn programmingFirst line\n",
      "Second line\n",
      "Third line\n"
     ]
    }
   ],
   "source": [
    "with open('example.txt','r') as file: \n",
    "    for line in file:\n",
    "        print(line.strip()) # .strip() removes the new line space"
   ]
  },
  {
   "cell_type": "markdown",
   "id": "eda03eb3",
   "metadata": {},
   "source": [
    "# Writing a file (Overwriting)"
   ]
  },
  {
   "cell_type": "code",
   "execution_count": 7,
   "id": "377d1989",
   "metadata": {},
   "outputs": [],
   "source": [
    "# Writing a file (overwriting) \n",
    "# Overwriting means , the current content of the file we be erased and new content will be written\n",
    "with open('example.txt','w') as file: \n",
    "    file.write(\"Hello World\\n\")\n",
    "    file.write(\"This is a new line\\n\")"
   ]
  },
  {
   "cell_type": "markdown",
   "id": "ceeaf01b",
   "metadata": {},
   "source": [
    "# Writing a file (without Overwriting) (Appending)"
   ]
  },
  {
   "cell_type": "code",
   "execution_count": 8,
   "id": "777b8d54",
   "metadata": {},
   "outputs": [],
   "source": [
    "# Writing a file (without overwriting ) means appending \n",
    "with open('example.txt','a') as file: \n",
    "    file.write(\"Append operation taking place \\n\")"
   ]
  },
  {
   "cell_type": "markdown",
   "id": "5eb3e6fd",
   "metadata": {},
   "source": [
    "# Writing a list of lines to a file"
   ]
  },
  {
   "cell_type": "code",
   "execution_count": 9,
   "id": "a55c9a61",
   "metadata": {},
   "outputs": [],
   "source": [
    "lines = ['First line' , 'Second Line' , 'Third Line']\n",
    "with open('example.txt','a') as file: \n",
    "    file.writelines(lines)"
   ]
  },
  {
   "cell_type": "markdown",
   "id": "6c76035d",
   "metadata": {},
   "source": [
    "# Binary Files (.bin)"
   ]
  },
  {
   "cell_type": "markdown",
   "id": "83c7394d",
   "metadata": {},
   "source": [
    "A binary file is any file that contains data in a format not readable as plain text — it stores data as 0s and 1s (binary format), exactly as it’s represented in memory.\n",
    "Examples : .jpg , .png , .mp4 , .bin\n",
    "We usually use readbytes or writebytes for binary files . We usually update bytes "
   ]
  },
  {
   "cell_type": "code",
   "execution_count": null,
   "id": "b84a1c9b",
   "metadata": {},
   "outputs": [],
   "source": [
    "# Writing to a binary file \n",
    "# b'' its a prefix denotes that its a binary object \n",
    "# Each xNN is a hexadecimal representation of a byte (8 bits)\n",
    "# So there is 5 bytes of data we are trying to write in the binary file \n",
    "data = b'\\x00\\x01\\x02\\x03\\x04'\n",
    "with open('example.bin' ,'wb') as file: \n",
    "    file.write(data)"
   ]
  },
  {
   "cell_type": "code",
   "execution_count": null,
   "id": "01c65e9c",
   "metadata": {},
   "outputs": [
    {
     "name": "stdout",
     "output_type": "stream",
     "text": [
      "b'\\x00\\x01\\x02\\x03\\x04'\n"
     ]
    }
   ],
   "source": [
    "# Reading a binary file \n",
    "# rb means readbytes \n",
    "with open('example.bin','rb') as file: \n",
    "    content = file.read()\n",
    "    print(content)"
   ]
  },
  {
   "cell_type": "markdown",
   "id": "3e961a4c",
   "metadata": {},
   "source": [
    "# Use cases and Problems"
   ]
  },
  {
   "cell_type": "markdown",
   "id": "aa2a5e1f",
   "metadata": {},
   "source": [
    "1. Read the content from source file and write to a destination text file \n",
    "Copying a text file "
   ]
  },
  {
   "cell_type": "code",
   "execution_count": 1,
   "id": "2937cf5e",
   "metadata": {},
   "outputs": [],
   "source": [
    "with open('example.txt' , 'r') as source_file: \n",
    "    content = source_file.read() \n",
    "\n",
    "with open('destination.txt' , 'w') as destination_file:\n",
    "    destination_file.write(content) \n"
   ]
  },
  {
   "cell_type": "markdown",
   "id": "9b51591f",
   "metadata": {},
   "source": [
    "2. Read a text file and count the number of lines , words , and characters "
   ]
  },
  {
   "cell_type": "code",
   "execution_count": 2,
   "id": "b6e3ad89",
   "metadata": {},
   "outputs": [
    {
     "name": "stdout",
     "output_type": "stream",
     "text": [
      "Lines:4 , Words : 15 , Characters : 93\n"
     ]
    }
   ],
   "source": [
    "def count_text_file(file_path): \n",
    "    with open(file_path,'r') as file: \n",
    "        lines = file.readlines()\n",
    "        line_count = len(lines)\n",
    "        word_count = sum(len(line.split()) for line in lines)\n",
    "        char_count = sum(len(line) for line in lines)\n",
    "    return line_count , word_count,char_count\n",
    "\n",
    "file_path = 'example.txt'\n",
    "lines,words,characters=count_text_file(file_path)\n",
    "print(f\"Lines:{lines} , Words : {words} , Characters : {characters}\")"
   ]
  },
  {
   "cell_type": "markdown",
   "id": "89b35473",
   "metadata": {},
   "source": [
    "3. Writing and then reading a file "
   ]
  },
  {
   "cell_type": "code",
   "execution_count": 4,
   "id": "0bcb62e6",
   "metadata": {},
   "outputs": [
    {
     "name": "stdout",
     "output_type": "stream",
     "text": [
      "Hello world \n",
      " I am Samad  \n",
      " A Professional Data Analyst  \n",
      " \n"
     ]
    }
   ],
   "source": [
    "with open('example2.txt' , 'w+') as file: \n",
    "    file.write(\"Hello world \\n \")\n",
    "    file.write(\"I am Samad  \\n \")\n",
    "    file.write(\"A Professional Data Analyst  \\n \")\n",
    "\n",
    "    # Move the cursor to the beginning \n",
    "    file.seek(0)\n",
    "\n",
    "    # without using seek() , the cursor will be at the end so theres no content to read , so use seek()\n",
    "    content = file.read() \n",
    "    print(content)"
   ]
  },
  {
   "cell_type": "code",
   "execution_count": null,
   "id": "49f47d76",
   "metadata": {},
   "outputs": [],
   "source": []
  }
 ],
 "metadata": {
  "kernelspec": {
   "display_name": "Python 3",
   "language": "python",
   "name": "python3"
  },
  "language_info": {
   "codemirror_mode": {
    "name": "ipython",
    "version": 3
   },
   "file_extension": ".py",
   "mimetype": "text/x-python",
   "name": "python",
   "nbconvert_exporter": "python",
   "pygments_lexer": "ipython3",
   "version": "3.12.0"
  }
 },
 "nbformat": 4,
 "nbformat_minor": 5
}
