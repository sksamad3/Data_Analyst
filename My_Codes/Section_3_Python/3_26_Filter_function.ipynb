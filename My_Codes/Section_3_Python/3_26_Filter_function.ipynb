{
 "cells": [
  {
   "cell_type": "markdown",
   "id": "eed8dc40",
   "metadata": {},
   "source": [
    "# Filter Function "
   ]
  },
  {
   "cell_type": "markdown",
   "id": "6b4facf7",
   "metadata": {},
   "source": [
    "\"filter() lets you extract values from an iterable based on a condition. It returns only those items for which the given function returns True.\"\n",
    "The filter() function is used to filter out elements from an iterable based on a condition.\n",
    "\n",
    "It returns a filter object (iterator) containing only the elements that pass the test (i.e., for which the function returns True).\n",
    "\n",
    "filter() is useful for dat cleaning , filtering objects , removing unwanted elements from lists and much more data manipulation and transformation. "
   ]
  },
  {
   "cell_type": "code",
   "execution_count": 1,
   "id": "1337cc11",
   "metadata": {},
   "outputs": [
    {
     "data": {
      "text/plain": [
       "True"
      ]
     },
     "execution_count": 1,
     "metadata": {},
     "output_type": "execute_result"
    }
   ],
   "source": [
    "def even(num):\n",
    "    if num%2==0: \n",
    "        return True\n",
    "even(24)"
   ]
  },
  {
   "cell_type": "code",
   "execution_count": null,
   "id": "3cb81f17",
   "metadata": {},
   "outputs": [
    {
     "data": {
      "text/plain": [
       "[2, 4, 6, 8, 10, 12]"
      ]
     },
     "execution_count": 2,
     "metadata": {},
     "output_type": "execute_result"
    }
   ],
   "source": [
    "lst = [1,2,3,4,5,6,7,8,9,10,11,12]\n",
    "# Now i want to only get the even numbers from the list \n",
    "# filter(function,iterable)\n",
    "list(filter(even,lst))\n",
    "# we can also use lambda function\n"
   ]
  },
  {
   "cell_type": "code",
   "execution_count": null,
   "id": "5eb1f38b",
   "metadata": {},
   "outputs": [
    {
     "data": {
      "text/plain": [
       "[2, 4, 6, 8, 10, 12]"
      ]
     },
     "execution_count": 3,
     "metadata": {},
     "output_type": "execute_result"
    }
   ],
   "source": [
    "# Lambda with  filter to find evens only \n",
    "list(filter(lambda x:x%2==0,lst))"
   ]
  },
  {
   "cell_type": "code",
   "execution_count": 5,
   "id": "4a488ac4",
   "metadata": {},
   "outputs": [
    {
     "name": "stdout",
     "output_type": "stream",
     "text": [
      "[6, 7, 8, 9, 10, 11, 12]\n"
     ]
    }
   ],
   "source": [
    "# Lambda with filter \n",
    "numbers = [1,2,3,4,5,6,7,8,9]\n",
    "greater_than_five = list(filter(lambda x:x>5 , lst))\n",
    "print(greater_than_five)"
   ]
  },
  {
   "cell_type": "markdown",
   "id": "78ff1088",
   "metadata": {},
   "source": [
    "# Filter with lambda function and multiple conditions "
   ]
  },
  {
   "cell_type": "code",
   "execution_count": 6,
   "id": "ef407ee9",
   "metadata": {},
   "outputs": [
    {
     "name": "stdout",
     "output_type": "stream",
     "text": [
      "[6, 8]\n"
     ]
    }
   ],
   "source": [
    "numers = [1,2,3,4,5,6,7,8,9]\n",
    "\n",
    "# Use filter , lambda functions to filter items \n",
    "# numbers > 5\n",
    "# numbers should be even \n",
    "\n",
    "even_and_greater_than_five = list(filter(lambda x:x>5 and x%2==0,numers))\n",
    "print(even_and_greater_than_five)"
   ]
  },
  {
   "cell_type": "markdown",
   "id": "e29bd7c7",
   "metadata": {},
   "source": [
    "# Filter with Dictionaries"
   ]
  },
  {
   "cell_type": "code",
   "execution_count": 8,
   "id": "ae3ff3c1",
   "metadata": {},
   "outputs": [
    {
     "name": "stdout",
     "output_type": "stream",
     "text": [
      "[{'name': 'Jons', 'age': 30}, {'name': 'Magey', 'age': 36}]\n"
     ]
    }
   ],
   "source": [
    "# Filter to get records whose age > 25 in dictionary \n",
    "people = [\n",
    "    {'name':\"Samad\",'age':21}, \n",
    "    {'name':\"Jack\",'age':20},\n",
    "    {'name':\"Jons\",'age':30},\n",
    "    {'name':\"Magey\",'age':36}\n",
    "]\n",
    "\n",
    "def age_greater_than_25(people):\n",
    "    return people['age']>25\n",
    "\n",
    "print(list(filter(age_greater_than_25,people)))\n"
   ]
  },
  {
   "cell_type": "code",
   "execution_count": null,
   "id": "d0ad04c2",
   "metadata": {},
   "outputs": [],
   "source": []
  }
 ],
 "metadata": {
  "kernelspec": {
   "display_name": "Python 3",
   "language": "python",
   "name": "python3"
  },
  "language_info": {
   "codemirror_mode": {
    "name": "ipython",
    "version": 3
   },
   "file_extension": ".py",
   "mimetype": "text/x-python",
   "name": "python",
   "nbconvert_exporter": "python",
   "pygments_lexer": "ipython3",
   "version": "3.12.0"
  }
 },
 "nbformat": 4,
 "nbformat_minor": 5
}
