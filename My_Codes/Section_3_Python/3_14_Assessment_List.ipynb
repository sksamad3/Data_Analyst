{
 "cells": [
  {
   "cell_type": "markdown",
   "id": "6d8c6b08",
   "metadata": {},
   "source": [
    "# 3_14_ List Assessment"
   ]
  },
  {
   "cell_type": "code",
   "execution_count": 1,
   "id": "8d728972",
   "metadata": {},
   "outputs": [
    {
     "name": "stdout",
     "output_type": "stream",
     "text": [
      "[1, 2, 3, 4, 5, 6, 7, 8, 9, 10, 11, 12, 13, 14, 15, 16, 17, 18, 19, 20]\n"
     ]
    }
   ],
   "source": [
    "# 1. Create a list of the first 20 positive integers. Print the list.\n",
    "\n",
    "lst = [1,2,3,4,5,6,7,8,9,10,11,12 ,13, 14 ,15, 16 , 17 , 18 ,19 ,20]\n",
    "print(lst)"
   ]
  },
  {
   "cell_type": "code",
   "execution_count": 3,
   "id": "0eb62623",
   "metadata": {},
   "outputs": [
    {
     "name": "stdout",
     "output_type": "stream",
     "text": [
      "First element :  1\n",
      "Last element :  20\n",
      "Middle element :  10\n"
     ]
    }
   ],
   "source": [
    "# 2. Print the first, middle, and last elements of the list created in Assignment 1.\n",
    "print(\"First element : \",lst[0])\n",
    "print(\"Last element : \",lst[-1])\n",
    "\n",
    "middle_element = len(lst)//2\n",
    "print(\"Middle element : \",middle_element)\n"
   ]
  },
  {
   "cell_type": "code",
   "execution_count": 8,
   "id": "9ed6c971",
   "metadata": {},
   "outputs": [
    {
     "name": "stdout",
     "output_type": "stream",
     "text": [
      "First 5 elements :  [1, 2, 3, 4, 5]\n",
      "Last 5 elements :  [16, 17, 18, 19, 20]\n",
      "Index 5 to 15 elements :  [6, 7, 8, 9, 10, 11, 12, 13, 14, 15, 16]\n"
     ]
    }
   ],
   "source": [
    "# 3. Print the first five elements, the last five elements, and the elements from index 5 to 15 of the list created in Assignment 1.\n",
    "\n",
    "print(\"First 5 elements : \",lst[:5])\n",
    "print(\"Last 5 elements : \",lst[15:])\n",
    "print(\"Index 5 to 15 elements : \",lst[5:16])"
   ]
  },
  {
   "cell_type": "code",
   "execution_count": 10,
   "id": "4c5d7913",
   "metadata": {},
   "outputs": [
    {
     "name": "stdout",
     "output_type": "stream",
     "text": [
      "[1, 4, 9, 16, 25, 36, 49, 64, 81, 100]\n"
     ]
    }
   ],
   "source": [
    "# 4. Create a new list containing the squares of the first 10 positive integers using a list comprehension. Print the new list.\n",
    "\n",
    "squares = [x**2 for x in range(1,11,1)]\n",
    "print(squares)"
   ]
  },
  {
   "cell_type": "code",
   "execution_count": 11,
   "id": "56b8291f",
   "metadata": {},
   "outputs": [
    {
     "name": "stdout",
     "output_type": "stream",
     "text": [
      "[2, 4, 6, 8, 10, 12, 14, 16, 18, 20]\n"
     ]
    }
   ],
   "source": [
    "# 5. Create a new list containing only the even numbers from the list created in Assignment 1 using a list comprehension. Print the new list.\n",
    "\n",
    "evens = [ x for x in lst if x%2==0 ]\n",
    "print(evens)"
   ]
  },
  {
   "cell_type": "code",
   "execution_count": 18,
   "id": "f5085fc9",
   "metadata": {},
   "outputs": [
    {
     "name": "stdout",
     "output_type": "stream",
     "text": [
      "Sorted List in Ascending :  [10, 9, 9, 8, 7, 6, 6, 6, 5, 4, 3, 2, 1, 1]\n",
      "Sorted List in Descending :  [10, 9, 9, 8, 7, 6, 6, 6, 5, 4, 3, 2, 1, 1]\n",
      "List of unique elements :  [1, 2, 3, 4, 5, 6, 7, 8, 9, 10]\n"
     ]
    }
   ],
   "source": [
    "# 6. Create a list of random numbers and sort it in ascending and descending order. Remove the duplicates from the list and print the modified list.\n",
    "\n",
    "random_lst = [10, 9,9 , 3,2,1,4,1,8,7,5,6,6,6]\n",
    "\n",
    "sorted_ascending = random_lst.sort()\n",
    "sorted_descending = random_lst.reverse()\n",
    "\n",
    "unique_lst = list(set(random_lst))\n",
    "random_lst.sort()\n",
    "random_lst.reverse()\n",
    "\n",
    "print(\"Sorted List in Ascending : \",random_lst)\n",
    "print(\"Sorted List in Descending : \",random_lst)\n",
    "print(\"List of unique elements : \",unique_lst)"
   ]
  },
  {
   "cell_type": "code",
   "execution_count": 23,
   "id": "f928f59d",
   "metadata": {},
   "outputs": [
    {
     "name": "stdout",
     "output_type": "stream",
     "text": [
      "[1, 2, 3]\n",
      "[3, 4, 5]\n",
      "[6, 7, 8]\n",
      "5\n"
     ]
    }
   ],
   "source": [
    "# 7. Create a nested list representing a 3x3 matrix and print the matrix. Access and print the element at the second row and third column.\n",
    "\n",
    "matrix = [\n",
    "    [1,2,3],\n",
    "    [3,4,5],\n",
    "    [6,7,8]\n",
    "]\n",
    "\n",
    "for row in matrix:  \n",
    "        print(row)\n",
    "\n",
    "print(matrix[1][2])"
   ]
  },
  {
   "cell_type": "code",
   "execution_count": null,
   "id": "07b648c4",
   "metadata": {},
   "outputs": [],
   "source": [
    "# 8. Write a function that takes a 3x3 matrix (nested list) as input and returns its transpose. Print the original and transposed matrices.\n",
    "matrix2  = [\n",
    "    [1, 2, 3],\n",
    "    [4, 5, 6],\n",
    "    [7, 8, 9]\n",
    "]\n",
    "\n",
    "def transpose(matrix2): \n",
    "    transposed = [ matrix2[col][rows]    for rows in len(matrix2)  for col in len(matrix2)]"
   ]
  }
 ],
 "metadata": {
  "kernelspec": {
   "display_name": "Python 3",
   "language": "python",
   "name": "python3"
  },
  "language_info": {
   "codemirror_mode": {
    "name": "ipython",
    "version": 3
   },
   "file_extension": ".py",
   "mimetype": "text/x-python",
   "name": "python",
   "nbconvert_exporter": "python",
   "pygments_lexer": "ipython3",
   "version": "3.12.0"
  }
 },
 "nbformat": 4,
 "nbformat_minor": 5
}
