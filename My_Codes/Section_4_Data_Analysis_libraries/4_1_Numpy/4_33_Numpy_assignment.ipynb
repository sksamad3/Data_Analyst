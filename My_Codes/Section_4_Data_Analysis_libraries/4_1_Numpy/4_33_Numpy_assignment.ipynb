{
 "cells": [
  {
   "cell_type": "markdown",
   "id": "3252aa56",
   "metadata": {},
   "source": [
    "# Numpy Assessments"
   ]
  },
  {
   "cell_type": "code",
   "execution_count": 2,
   "id": "0892f12f",
   "metadata": {},
   "outputs": [
    {
     "name": "stdout",
     "output_type": "stream",
     "text": [
      "Array : \n",
      "[[ 2 15 11  6  4]\n",
      " [ 9  5 20 17 12]\n",
      " [ 9 12  6 11 12]\n",
      " [ 6  3 15  9  4]\n",
      " [ 6  3  5 16 18]]\n",
      "\n",
      "\n",
      "[[ 2 15 11  6  4]\n",
      " [ 9  5 20 17 12]\n",
      " [ 1  1  1  1  1]\n",
      " [ 1  1  1  1  1]\n",
      " [ 1  1  1  1  1]]\n"
     ]
    }
   ],
   "source": [
    "# 1. Create a NumPy array of shape (5, 5) filled with random integers between 1 and 20. Replace all the elements in the third column with 1.\n",
    "\n",
    "import numpy as np \n",
    "arr  = np.random.randint(1,21,size=(5,5))\n",
    "\n",
    "print(\"Array : \")\n",
    "print(arr)\n",
    "print(\"\\n\")\n",
    "\n",
    "arr[2:] = 1\n",
    "print(arr)"
   ]
  },
  {
   "cell_type": "code",
   "execution_count": 3,
   "id": "72c54124",
   "metadata": {},
   "outputs": [
    {
     "name": "stdout",
     "output_type": "stream",
     "text": [
      "[[31  3  5 22  6 13]\n",
      " [27  8 11 16 36 14]\n",
      " [ 5 22 28 30 14 16]\n",
      " [23  6 26 18 27 21]\n",
      " [25 13 11  5  4 29]\n",
      " [19 17 17 15  9 22]]\n",
      "\n",
      "\n",
      "[[22 28 30]\n",
      " [ 6 26 18]\n",
      " [13 11  5]]\n"
     ]
    }
   ],
   "source": [
    "# 2. Create a NumPy array of shape (6, 6) with values from 1 to 36. Extract the sub-array consisting of the 3rd to 5th rows and 2nd to 4th columns.\n",
    "\n",
    "arr2 = np.random.randint(1,37 , size=(6,6))\n",
    "print(arr2)\n",
    "print(\"\\n\")\n",
    "print(arr2[2:5,1:4])"
   ]
  },
  {
   "cell_type": "code",
   "execution_count": 4,
   "id": "b0a3adff",
   "metadata": {},
   "outputs": [
    {
     "name": "stdout",
     "output_type": "stream",
     "text": [
      "[[26 25 20 24  5]\n",
      " [ 5 16 15 24 26]\n",
      " [ 6  9  8 13 19]\n",
      " [25  2 22 11  2]\n",
      " [ 2 17 23 11 27]]\n",
      "\n",
      "\n",
      "Borders : \n",
      "\n",
      "[26 25 20 24  5  2 17 23 11 27 26  5  6 25  2  5 26 19  2 27]\n"
     ]
    }
   ],
   "source": [
    "# 3. Create a NumPy array of shape (5, 5) with random integers. Extract the elements on the border.\n",
    "\n",
    "arr3= np.random.randint(1,30,size=(5,5))\n",
    "print(arr3)\n",
    "print(\"\\n\")\n",
    "bordered_elements = np.concatenate((arr3[0,:],arr3[-1,:],arr3[:,0],arr3[:,-1]))\n",
    "print(\"Borders : \\n\")\n",
    "print(bordered_elements)\n"
   ]
  },
  {
   "cell_type": "code",
   "execution_count": 5,
   "id": "76f05d7c",
   "metadata": {},
   "outputs": [
    {
     "name": "stdout",
     "output_type": "stream",
     "text": [
      "Element wise addition\n",
      "[[ 2  4  6  8]\n",
      " [10 12 14 16]\n",
      " [18 20 22 24]]\n",
      "Element wise subtraction \n",
      "[[0 0 0 0]\n",
      " [0 0 0 0]\n",
      " [0 0 0 0]]\n",
      "Element wise multiplication : \n",
      "[[  1   4   9  16]\n",
      " [ 25  36  49  64]\n",
      " [ 81 100 121 144]]\n",
      "Element wise division \n",
      "[[1. 1. 1. 1.]\n",
      " [1. 1. 1. 1.]\n",
      " [1. 1. 1. 1.]]\n"
     ]
    }
   ],
   "source": [
    "# 4. Create two NumPy arrays of shape (3, 4) filled with random integers. Perform element-wise addition, subtraction, multiplication, and division.\n",
    "\n",
    "arr4 = np.arange(1,13).reshape((3,4))\n",
    "arrn = np.arange(1,13).reshape((3,4))\n",
    "print(\"Element wise addition\")\n",
    "print(arr4+arrn)\n",
    "\n",
    "print(\"Element wise subtraction \")\n",
    "print(arr4-arrn)\n",
    "\n",
    "print(\"Element wise multiplication : \")\n",
    "print(arr4*arrn)\n",
    "\n",
    "print(\"Element wise division \")\n",
    "print(arr4/arrn)"
   ]
  },
  {
   "cell_type": "code",
   "execution_count": 9,
   "id": "851daa72",
   "metadata": {},
   "outputs": [
    {
     "name": "stdout",
     "output_type": "stream",
     "text": [
      "Original Array : \n",
      "\n",
      "[[ 1  2  3  4]\n",
      " [ 5  6  7  8]\n",
      " [ 9 10 11 12]\n",
      " [13 14 15 16]]\n",
      " \n",
      "Row Wise sum is :  [28 32 36 40]\n",
      "Column Wise sum is :  [10 26 42 58]\n"
     ]
    }
   ],
   "source": [
    "# 5. Create a NumPy array of shape (4, 4) with values from 1 to 16. Compute the row-wise and column-wise sum.\n",
    "\n",
    "arr5 = np.arange(1,17).reshape((4,4))\n",
    "row_wise_sum = np.sum(arr5,axis=0)\n",
    "col_wise_sum = np.sum(arr5,axis=1)\n",
    "print(\"Original Array : \\n\")\n",
    "print(arr5)\n",
    "print(\" \")\n",
    "print(\"Row Wise sum is : \",row_wise_sum)\n",
    "print(\"Column Wise sum is : \",col_wise_sum)"
   ]
  },
  {
   "cell_type": "code",
   "execution_count": 13,
   "id": "8ead63a2",
   "metadata": {},
   "outputs": [
    {
     "name": "stdout",
     "output_type": "stream",
     "text": [
      "Mean is :  13.0\n",
      "Median is :  13.0\n",
      "Standard Deviation :  7.211102550927978\n",
      "Variance :  52.0\n"
     ]
    }
   ],
   "source": [
    "# 6. Create a NumPy array of shape (5, 5) filled with random integers. Compute the mean, median, standard deviation, and variance of the array.\n",
    "\n",
    "arr6 = np.arange(1,26).reshape((5,5))\n",
    "mean = np.mean(arr6)\n",
    "median =  np.median(arr6)\n",
    "std = np.std(arr6)\n",
    "variance = np.var(arr6)\n",
    "\n",
    "print(\"Mean is : \",mean)\n",
    "print(\"Median is : \",median)\n",
    "print(\"Standard Deviation : \",std)\n",
    "print(\"Variance : \",variance)"
   ]
  },
  {
   "cell_type": "code",
   "execution_count": null,
   "id": "1abd65d0",
   "metadata": {},
   "outputs": [
    {
     "name": "stdout",
     "output_type": "stream",
     "text": [
      "Normalized Array : \n",
      "\n",
      "[[-1.54919334 -1.161895   -0.77459667]\n",
      " [-0.38729833  0.          0.38729833]\n",
      " [ 0.77459667  1.161895    1.54919334]]\n"
     ]
    }
   ],
   "source": [
    "# 7. Create a NumPy array of shape (3, 3) with values from 1 to 9. Normalize the array (i.e., scale the values to have a mean of 0 and a standard deviation of 1).\n",
    "\n",
    "# Calculate the mean of array \n",
    "# calculate the standard deviation \n",
    "# Subtract arr by mean and then divide the result by standard deviation\n",
    "\n",
    "# Normalize the array \n",
    "arr7 = np.arange(1,10).reshape((3,3))\n",
    "mean  = np.mean(arr7)\n",
    "standard_deviation = np.std(arr7)\n",
    "normalized_arr7 = (arr7 - mean) / standard_deviation\n",
    "\n",
    "print(\"Normalized Array : \\n\")\n",
    "print(normalized_arr7)\n",
    "\n",
    "\n"
   ]
  },
  {
   "cell_type": "code",
   "execution_count": 23,
   "id": "c6d35e6d",
   "metadata": {},
   "outputs": [
    {
     "name": "stdout",
     "output_type": "stream",
     "text": [
      "[[1 2 3]\n",
      " [4 5 6]\n",
      " [7 8 9]]\n",
      " \n",
      " \n",
      "[[ 2  4  6]\n",
      " [ 5  7  9]\n",
      " [ 8 10 12]]\n"
     ]
    }
   ],
   "source": [
    "# 8. Create a NumPy array of shape (3, 3) filled with random integers. Add a 1D array of shape (3,) to each row of the 2D array using broadcasting. (This is broadcasting)\n",
    "\n",
    "# Broadcasting \n",
    "# Broadcasting allows NumPy to perform element-wise operations \n",
    "# between arrays of different shapes by logically expanding the \n",
    "# smaller array to match the shape of the larger one — without copying data.\n",
    "# Dimensions are compatible if they are equal or one of them is 1.\n",
    "\n",
    "\n",
    "\n",
    "arr8 = np.arange(1,10).reshape((3,3))\n",
    "one_D_arr = np.arange(1,4)\n",
    "\n",
    "# Here one_D_arr is 1D array , so numpy will logically stretch this 1D (1row array ) array into 3 rows and then will add with the main array which also have 3 rows and 3 cols .\n",
    "# Broadcasting is a logical concept , the numpy is not a concept.\n",
    "new_arr = arr8+one_D_arr\n",
    "print(arr8)\n",
    "print(\" \\n \")\n",
    "print(new_arr)\n"
   ]
  },
  {
   "cell_type": "code",
   "execution_count": 28,
   "id": "536ba963",
   "metadata": {},
   "outputs": [
    {
     "name": "stdout",
     "output_type": "stream",
     "text": [
      "Original array : \n",
      "[[ 1  2  3  4]\n",
      " [ 5  6  7  8]\n",
      " [ 9 10 11 12]\n",
      " [13 14 15 16]]\n",
      " \n",
      "Row Array : \n",
      "[1 2 3 4]\n",
      " \n",
      "Broadcasted Array \n",
      "[[ 0  0  0  0]\n",
      " [ 4  4  4  4]\n",
      " [ 8  8  8  8]\n",
      " [12 12 12 12]]\n"
     ]
    }
   ],
   "source": [
    "# 9. Create a NumPy array of shape (4, 4) filled with random integers. Subtract a 1D array of shape (4,) from each column of the 2D array using broadcasting.\n",
    "\n",
    "arr9 = np.arange(1,17).reshape((4,4))\n",
    "row_arr = np.arange(1,5)\n",
    "\n",
    "b_array = arr9-row_arr\n",
    "print(\"Original array : \")\n",
    "print(arr9)\n",
    "print(\" \")\n",
    "print(\"Row Array : \")\n",
    "print(row_arr)\n",
    "print(\" \")\n",
    "\n",
    "print(\"Broadcasted Array \")\n",
    "print(b_array)\n"
   ]
  },
  {
   "cell_type": "code",
   "execution_count": 29,
   "id": "6151eb74",
   "metadata": {},
   "outputs": [
    {
     "name": "stdout",
     "output_type": "stream",
     "text": [
      "Original matrix \n",
      "[[1 2 3]\n",
      " [4 5 6]\n",
      " [7 8 9]]\n",
      " \n",
      "Determinant : \n",
      "-9.51619735392994e-16\n",
      " \n",
      "Inverse : \n",
      "[[ 3.15251974e+15 -6.30503948e+15  3.15251974e+15]\n",
      " [-6.30503948e+15  1.26100790e+16 -6.30503948e+15]\n",
      " [ 3.15251974e+15 -6.30503948e+15  3.15251974e+15]]\n",
      " \n",
      "Eigenvalues : \n",
      "[[ 3.15251974e+15 -6.30503948e+15  3.15251974e+15]\n",
      " [-6.30503948e+15  1.26100790e+16 -6.30503948e+15]\n",
      " [ 3.15251974e+15 -6.30503948e+15  3.15251974e+15]]\n"
     ]
    }
   ],
   "source": [
    "\n",
    "# 10. Create a NumPy array of shape (3, 3) representing a matrix. Compute its determinant, inverse, and eigenvalues.\n",
    "\n",
    "arr10 = np.arange(1,10).reshape((3,3))\n",
    "print(\"Original matrix \")\n",
    "print(arr10)\n",
    "\n",
    "print(\" \")\n",
    "\n",
    "determinat = np.linalg.det(arr10)\n",
    "print(\"Determinant : \")\n",
    "print(determinat)\n",
    "\n",
    "print(\" \")\n",
    "inverse = np.linalg.inv(arr10)\n",
    "print(\"Inverse : \")\n",
    "print(inverse)\n",
    "\n",
    "print(\" \")\n",
    "\n",
    "eigenvalues = np.linalg.inv(arr10)\n",
    "print(\"Eigenvalues : \")\n",
    "print(inverse)\n",
    "\n"
   ]
  },
  {
   "cell_type": "code",
   "execution_count": 31,
   "id": "2fb192f9",
   "metadata": {},
   "outputs": [
    {
     "name": "stdout",
     "output_type": "stream",
     "text": [
      "Orignal matrix : \n",
      "[[1 2 3]\n",
      " [4 5 6]]\n",
      " \n",
      "Second matrix : \n",
      "[[1 2]\n",
      " [3 4]\n",
      " [5 6]]\n",
      " \n",
      "Dot product : \n",
      "[[22 28]\n",
      " [49 64]]\n"
     ]
    }
   ],
   "source": [
    "# 11. Create two NumPy arrays of shape (2, 3) and (3, 2). Perform dot product of these arrays.\n",
    "\n",
    "arr11 = np.arange(1,7).reshape((2,3))\n",
    "arrm = np.arange(1,7).reshape((3,2))\n",
    "\n",
    "dot_product = np.dot(arr11,arrm)\n",
    "\n",
    "print(\"Orignal matrix : \")\n",
    "print(arr11)\n",
    "print(\" \")\n",
    "\n",
    "print(\"Second matrix : \")\n",
    "print(arrm)\n",
    "print(\" \")\n",
    "\n",
    "print(\"Dot product : \")\n",
    "print(dot_product)"
   ]
  },
  {
   "cell_type": "code",
   "execution_count": 34,
   "id": "40b5c127",
   "metadata": {},
   "outputs": [
    {
     "name": "stdout",
     "output_type": "stream",
     "text": [
      "Original array : \n",
      "[[1 2 3]\n",
      " [4 5 6]\n",
      " [7 8 9]]\n",
      " \n",
      "Reshaped array : \n",
      "[[1 2 3 4 5 6 7 8 9]]\n",
      " \n",
      "Reshaped array : \n",
      "[[1]\n",
      " [2]\n",
      " [3]\n",
      " [4]\n",
      " [5]\n",
      " [6]\n",
      " [7]\n",
      " [8]\n",
      " [9]]\n"
     ]
    }
   ],
   "source": [
    "# 12. Create a NumPy array of shape (3, 3) with values from 1 to 9. Reshape the array to shape (1, 9) and then to shape (9, 1).\n",
    "\n",
    "arr12  = np.arange(1,10).reshape((3,3))\n",
    "\n",
    "print(\"Original array : \")\n",
    "print(arr12)\n",
    "\n",
    "print(\" \")\n",
    "\n",
    "print(\"Reshaped array : \")\n",
    "reshaped_array1 = arr12.reshape((1,9))\n",
    "print(reshaped_array1)\n",
    "\n",
    "print(\" \")\n",
    "\n",
    "print(\"Reshaped array : \")\n",
    "reshaped_array2 = arr12.reshape((9,1))\n",
    "print(reshaped_array2)"
   ]
  },
  {
   "cell_type": "code",
   "execution_count": 38,
   "id": "98ffa082",
   "metadata": {},
   "outputs": [
    {
     "name": "stdout",
     "output_type": "stream",
     "text": [
      "[[ 1  2  3  4  5]\n",
      " [ 6  7  8  9 10]\n",
      " [11 12 13 14 15]\n",
      " [16 17 18 19 20]\n",
      " [21 22 23 24 25]]\n",
      " \n",
      "Flatten A \n",
      "[ 1  2  3  4  5  6  7  8  9 10 11 12 13 14 15 16 17 18 19 20 21 22 23 24\n",
      " 25]\n",
      " \n",
      "Reshaped Array : \n",
      "[[ 1  2  3  4  5]\n",
      " [ 6  7  8  9 10]\n",
      " [11 12 13 14 15]\n",
      " [16 17 18 19 20]\n",
      " [21 22 23 24 25]]\n"
     ]
    }
   ],
   "source": [
    "# 13. Create a NumPy array of shape (5, 5) filled with random integers. Flatten the array and then reshape it back to (5, 5).\n",
    "\n",
    "arr13 = np.arange(1,26,1).reshape((5,5))\n",
    "print(arr13)\n",
    "print(\" \")\n",
    "\n",
    "\n",
    "flatten_a = arr13.flatten()\n",
    "print(\"Flatten A \")\n",
    "print(flatten_a)\n",
    "print(\" \")\n",
    "\n",
    "reshaped_array_13  = flatten_a.reshape((5,5))\n",
    "print(\"Reshaped Array : \")\n",
    "print(reshaped_array_13)\n"
   ]
  },
  {
   "cell_type": "code",
   "execution_count": null,
   "id": "e5ef3163",
   "metadata": {},
   "outputs": [
    {
     "name": "stdout",
     "output_type": "stream",
     "text": [
      "original array : \n",
      "[[ 1  2  3  4  5]\n",
      " [ 6  7  8  9 10]\n",
      " [11 12 13 14 15]\n",
      " [16 17 18 19 20]\n",
      " [21 22 23 24 25]]\n",
      " \n",
      "Corner elements : \n",
      "[ 1  5 21 25]\n"
     ]
    }
   ],
   "source": [
    "# 14. Create a NumPy array of shape (5, 5) filled with random integers. Use fancy indexing to extract the elements at the corners of the array.\n",
    "import numpy as np \n",
    "array14= np.arange(1,26,1).reshape((5,5))\n",
    "\n",
    "print(\"original array : \")\n",
    "print(array14)\n",
    "print(\" \")\n",
    "corners = array14[[0,0,-1,-1],[0,-1,0,-1]]\n",
    "# above line will be seen as \n",
    "\n",
    "\n",
    "# [[0,0,-1,-1] ,  [0,-1,0,-1]]\n",
    "# [first list] , [second list]\n",
    "# arr[0][0]   # first row , first corner \n",
    "# arr[0][-1]  # first row , last corner \n",
    "# arr[-1][0]  # last row , first corner\n",
    "# arr[-1][-1] # last row , last corner \n",
    "\n",
    "print(\"Corner elements : \")\n",
    "print(corners)"
   ]
  },
  {
   "cell_type": "code",
   "execution_count": 4,
   "id": "a47d8c3f",
   "metadata": {},
   "outputs": [
    {
     "name": "stdout",
     "output_type": "stream",
     "text": [
      "[[ 1  2  3  4]\n",
      " [ 5  6  7  8]\n",
      " [ 9 10 11 12]\n",
      " [13 14 15 16]]\n",
      " \n",
      "[[ 1  2  3  4]\n",
      " [ 5  6  7  8]\n",
      " [ 9 10 10 10]\n",
      " [10 10 10 10]]\n"
     ]
    }
   ],
   "source": [
    "# 15. Create a NumPy array of shape (4, 4) filled with random integers. Use boolean indexing , In the array , all the elements greater than 10 should be replaced with 10 \n",
    "\n",
    "arr15 = np.arange(1,17).reshape((4,4))\n",
    "print(arr15)\n",
    "\n",
    "arr15[ arr15 > 10 ] = 10 # Elements > 10 will be replaced by 10 \n",
    "\n",
    "print(\" \")\n",
    "print(arr15)"
   ]
  },
  {
   "cell_type": "code",
   "execution_count": 16,
   "id": "c767a83d",
   "metadata": {},
   "outputs": [
    {
     "name": "stdout",
     "output_type": "stream",
     "text": [
      "Original data : \n",
      "[('Alice', 25, 55.5) ('Bob', 39, 85.3) ('Charlie', 20, 65.2)]\n",
      "Sorted data \n",
      "[('Charlie', 20, 65.2) ('Alice', 25, 55.5) ('Bob', 39, 85.3)]\n"
     ]
    }
   ],
   "source": [
    "# 1. Create a structured array with fields 'name' (string), 'age' (integer), and 'weight' (float). Add some data and sort the array by age.\n",
    "\n",
    "data = [('name','U10') , ('age','i4'), ('weight','f4')]\n",
    "\n",
    "new_data = np.array([('Alice',25,55.5) , ('Bob',39,85.3) , ('Charlie', 20 , 65.2)],dtype=data)\n",
    "\n",
    "print(\"Original data : \")\n",
    "print(new_data)\n",
    "\n",
    "sorted_data = np.sort(new_data,order='age')\n",
    "print(\"Sorted data \")\n",
    "print(sorted_data)"
   ]
  },
  {
   "cell_type": "code",
   "execution_count": null,
   "id": "64383713",
   "metadata": {},
   "outputs": [],
   "source": [
    "# 2. Create a structured array with fields 'x' and 'y' (both integers). Add some data and compute the Euclidean distance between each pair of points."
   ]
  }
 ],
 "metadata": {
  "kernelspec": {
   "display_name": "venv",
   "language": "python",
   "name": "python3"
  },
  "language_info": {
   "codemirror_mode": {
    "name": "ipython",
    "version": 3
   },
   "file_extension": ".py",
   "mimetype": "text/x-python",
   "name": "python",
   "nbconvert_exporter": "python",
   "pygments_lexer": "ipython3",
   "version": "3.12.0"
  }
 },
 "nbformat": 4,
 "nbformat_minor": 5
}
