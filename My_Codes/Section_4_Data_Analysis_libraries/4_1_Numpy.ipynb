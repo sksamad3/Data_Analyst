{
 "cells": [
  {
   "cell_type": "markdown",
   "id": "3259cf28",
   "metadata": {},
   "source": [
    "# Numpy"
   ]
  },
  {
   "cell_type": "markdown",
   "id": "0994e805",
   "metadata": {},
   "source": [
    "NumPy is a fundamental library for scientific computing in Python. It provides support for arrays and matrices, along with a collection of mathematical functions to operate on these data structures. In this lesson, we will cover the basics of NumPy, focusing on arrays and vectorized operations."
   ]
  },
  {
   "cell_type": "code",
   "execution_count": 3,
   "id": "57c8bae1",
   "metadata": {},
   "outputs": [],
   "source": [
    "import numpy as np"
   ]
  },
  {
   "cell_type": "markdown",
   "id": "e4441b93",
   "metadata": {},
   "source": [
    "# Create 1D Array "
   ]
  },
  {
   "cell_type": "code",
   "execution_count": 7,
   "id": "715267a8",
   "metadata": {},
   "outputs": [
    {
     "name": "stdout",
     "output_type": "stream",
     "text": [
      "[1 2 3 4 5]\n",
      "<class 'numpy.ndarray'>\n",
      "(5,)\n"
     ]
    }
   ],
   "source": [
    "arr = np.array([1,2,3,4,5])\n",
    "print(arr)\n",
    "print(type(arr))\n",
    "print(arr.shape)"
   ]
  },
  {
   "cell_type": "markdown",
   "id": "97c3c959",
   "metadata": {},
   "source": [
    "# Reshaping an Array .reshape()\n",
    "Reshaping means converting a 1D array to 2D, 2D to 3D, etc., or changing the shape of a multi-dimensional array to another shape with the same number of elements."
   ]
  },
  {
   "cell_type": "code",
   "execution_count": 11,
   "id": "a4e70944",
   "metadata": {},
   "outputs": [
    {
     "data": {
      "text/plain": [
       "array([[1, 2, 3, 4, 5]])"
      ]
     },
     "execution_count": 11,
     "metadata": {},
     "output_type": "execute_result"
    }
   ],
   "source": [
    "arr2 = np.array([1,2,3,4,5])\n",
    "arr2.reshape(1,5) # 1 Row 5 columns "
   ]
  },
  {
   "cell_type": "code",
   "execution_count": 18,
   "id": "09fe574d",
   "metadata": {},
   "outputs": [
    {
     "name": "stdout",
     "output_type": "stream",
     "text": [
      "(2, 5)\n",
      "[[1 2 3 4 5]\n",
      " [2 3 4 5 6]]\n"
     ]
    }
   ],
   "source": [
    "# 2D Array \n",
    "# Using nested lists \n",
    "arr3 = np.array([[1,2,3,4,5],[2,3,4,5,6]])\n",
    "print(arr3.shape)\n",
    "print(arr3)"
   ]
  },
  {
   "cell_type": "markdown",
   "id": "e992bebe",
   "metadata": {},
   "source": [
    "# Using .arange()\n",
    "np.arange() is used to generate numeric sequences as NumPy arrays. It's similar to Python's range(), but more flexible and efficient for numerical computation. It’s useful in simulations, indexing, plotting, and initializing arrays for further processing.\""
   ]
  },
  {
   "cell_type": "code",
   "execution_count": 43,
   "id": "9659dd31",
   "metadata": {},
   "outputs": [
    {
     "data": {
      "text/plain": [
       "array([[0],\n",
       "       [1],\n",
       "       [2],\n",
       "       [3],\n",
       "       [4],\n",
       "       [5],\n",
       "       [6],\n",
       "       [7],\n",
       "       [8],\n",
       "       [9]])"
      ]
     },
     "execution_count": 43,
     "metadata": {},
     "output_type": "execute_result"
    }
   ],
   "source": [
    "np.arange(0,10,1).reshape(10,1)"
   ]
  },
  {
   "cell_type": "code",
   "execution_count": null,
   "id": "45f47844",
   "metadata": {},
   "outputs": [],
   "source": []
  },
  {
   "cell_type": "markdown",
   "id": "ea2adf49",
   "metadata": {},
   "source": [
    "# Using .ones() \n",
    "The np.ones() function is used to create an array filled entirely with the number 1, of a specified shape and data type.\n",
    "\n",
    "\"np.ones() is used to create an array of any shape filled with the value 1. It’s commonly used for initialization in numerical computations, simulations, or as a starting point for algorithms that update values iteratively. It allows quick allocation of memory for predictable constant arrays.\""
   ]
  },
  {
   "cell_type": "code",
   "execution_count": 22,
   "id": "b214575c",
   "metadata": {},
   "outputs": [
    {
     "name": "stdout",
     "output_type": "stream",
     "text": [
      "[[1. 1. 1. 1.]\n",
      " [1. 1. 1. 1.]\n",
      " [1. 1. 1. 1.]]\n"
     ]
    }
   ],
   "source": [
    "arr_of_ones = np.ones((3,4)) \n",
    "print(arr_of_ones)"
   ]
  },
  {
   "cell_type": "markdown",
   "id": "d5a09338",
   "metadata": {},
   "source": [
    "# Using .eye()"
   ]
  },
  {
   "cell_type": "markdown",
   "id": "2f6c3603",
   "metadata": {},
   "source": [
    "The np.eye() function creates a 2D identity matrix or a matrix with ones on a specified diagonal and zeros elsewhere."
   ]
  },
  {
   "cell_type": "code",
   "execution_count": 25,
   "id": "441707da",
   "metadata": {},
   "outputs": [
    {
     "name": "stdout",
     "output_type": "stream",
     "text": [
      "[[1. 0. 0.]\n",
      " [0. 1. 0.]\n",
      " [0. 0. 1.]]\n"
     ]
    }
   ],
   "source": [
    "identity_matrix = np.eye(3)\n",
    "print(identity_matrix)"
   ]
  },
  {
   "cell_type": "markdown",
   "id": "74364b85",
   "metadata": {},
   "source": [
    "# Attributes of Numpy Array"
   ]
  },
  {
   "cell_type": "code",
   "execution_count": 26,
   "id": "975fffca",
   "metadata": {},
   "outputs": [
    {
     "name": "stdout",
     "output_type": "stream",
     "text": [
      "Array : \n",
      "  [[1 2 3]\n",
      " [4 5 6]]\n",
      "Shape:  (2, 3)\n",
      "Number of dimensions: 2\n",
      "Size (number of elements):  6\n",
      "Data type: int64\n",
      "Item size (in bytes): 8\n"
     ]
    }
   ],
   "source": [
    "arr = np.array([[1,2,3] ,[4,5,6]])\n",
    "\n",
    "print(\"Array : \\n \",arr)\n",
    "print(\"Shape: \",arr.shape) \n",
    "print(\"Number of dimensions:\" , arr.ndim)\n",
    "print(\"Size (number of elements): \",arr.size) \n",
    "print(\"Data type:\",arr.dtype)\n",
    "print(\"Item size (in bytes):\",arr.itemsize)"
   ]
  },
  {
   "cell_type": "markdown",
   "id": "c29b98bd",
   "metadata": {},
   "source": [
    "# Numpy Vectorized Operations\n",
    "“Vectorized operations in NumPy allow us to apply computations across entire arrays without writing loops. This not only makes code more readable and concise but also significantly improves performance, as the operations are internally executed in compiled C code. It's a core reason why NumPy is preferred in scientific and machine learning applications.”\n",
    "\n",
    "Vectorized operations are operations that are automatically applied element-wise to entire arrays without writing explicit loops.\n",
    "\n",
    "Instead of processing data one element at a time (like with Python for loops), NumPy does it in one go, using underlying C code, which makes it much faster."
   ]
  },
  {
   "cell_type": "code",
   "execution_count": 28,
   "id": "06a6d513",
   "metadata": {},
   "outputs": [
    {
     "name": "stdout",
     "output_type": "stream",
     "text": [
      "Addition :  [11 22 33 44 55]\n",
      "Substraction :  [ -9 -18 -27 -36 -45]\n",
      "Multiplication: [ 10  40  90 160 250]\n",
      "Division: [0.1 0.1 0.1 0.1 0.1]\n"
     ]
    }
   ],
   "source": [
    "arr1 = np.array([1,2,3,4,5]) \n",
    "arr2 = np.array([10,20,30,40,50])\n",
    "\n",
    "## Element wise addition \n",
    "print(\"Addition : \", arr1+arr2)\n",
    "\n",
    "# Element wise substraction\n",
    "print(\"Substraction : \",arr1-arr2) \n",
    "\n",
    "# ELement wise multiplication \n",
    "print(\"Multiplication:\" , arr1*arr2) \n",
    "\n",
    "# Element wise division\n",
    "print(\"Division:\", arr1/arr2)"
   ]
  },
  {
   "cell_type": "markdown",
   "id": "8e1dc6a8",
   "metadata": {},
   "source": [
    "# Universal Functions \n",
    "Functions that apply to entire array. A universal function (or ufunc) in NumPy is a function that operates element-wise on ndarrays (NumPy arrays) and supports broadcasting, type casting, and vectorized operations."
   ]
  },
  {
   "cell_type": "code",
   "execution_count": null,
   "id": "13f38592",
   "metadata": {},
   "outputs": [
    {
     "name": "stdout",
     "output_type": "stream",
     "text": [
      "[1.41421356 1.73205081 2.         2.23606798 2.44948974]\n",
      "[  7.3890561   20.08553692  54.59815003 148.4131591  403.42879349]\n",
      "[ 0.90929743  0.14112001 -0.7568025  -0.95892427 -0.2794155 ]\n",
      "[0.69314718 1.09861229 1.38629436 1.60943791 1.79175947]\n"
     ]
    }
   ],
   "source": [
    "arri = np.array([2,3,4,5,6 ]) \n",
    "\n",
    "# Square root \n",
    "print(np.sqrt(arri)) \n",
    "\n",
    "# Exponential \n",
    "print(np.exp(arri)) \n",
    "\n",
    "# Sin \n",
    "print(np.sin(arri))\n",
    "\n",
    "# Natural log \n",
    "print(np.log(arri))"
   ]
  },
  {
   "cell_type": "markdown",
   "id": "12d4d705",
   "metadata": {},
   "source": [
    "# Array slicing and Indexing "
   ]
  },
  {
   "cell_type": "code",
   "execution_count": 6,
   "id": "5cbd8b72",
   "metadata": {},
   "outputs": [
    {
     "name": "stdout",
     "output_type": "stream",
     "text": [
      "Array : \n",
      " [[ 1  2  3  4]\n",
      " [ 5  6  7  8]\n",
      " [ 9 10 11 12]]\n"
     ]
    }
   ],
   "source": [
    "import numpy as np \n",
    "arrz= np.array([[1,2,3,4],[5,6,7,8],[9,10,11,12]])\n",
    "print(\"Array : \\n\",arrz)"
   ]
  },
  {
   "cell_type": "code",
   "execution_count": 7,
   "id": "65bcf468",
   "metadata": {},
   "outputs": [
    {
     "name": "stdout",
     "output_type": "stream",
     "text": [
      "7\n"
     ]
    }
   ],
   "source": [
    "# From the above array access element 7 \n",
    "print(arrz[1][2]) # Output : 7"
   ]
  },
  {
   "cell_type": "code",
   "execution_count": 23,
   "id": "445e2ccf",
   "metadata": {},
   "outputs": [
    {
     "name": "stdout",
     "output_type": "stream",
     "text": [
      "1st and 2nd Rows : \n",
      " [[1 2 3 4]\n",
      " [5 6 7 8]]\n",
      " \n",
      "2nd and 3rd rows : \n",
      " [[ 5  6  7  8]\n",
      " [ 9 10 11 12]]\n",
      " \n",
      "Print 7 , 8 , 11 , 12 : \n",
      " [[ 7  8]\n",
      " [11 12]]\n",
      " \n",
      "Print 3 ,4 ,7 ,8 : \n",
      " [[3 4]\n",
      " [7 8]]\n",
      " \n",
      "6 , 7 , 10 , 11 : \n",
      " [[ 6  7]\n",
      " [10 11]]\n"
     ]
    }
   ],
   "source": [
    "'''Array : \n",
    "[[  1  2  3  4  ]\n",
    " [  5  6  7  8  ]\n",
    " [  9 10 11 12  ]]'''\n",
    "\n",
    "# Print 1 & 2 rows \n",
    "print(\"1st and 2nd Rows : \\n\" ,arrz[0:2]) # 2nd row will not be included\n",
    "\n",
    "print(\" \")\n",
    "\n",
    "# Access 2 & 3 rows\n",
    "print(\"2nd and 3rd rows : \\n\",arrz[1:])\n",
    "\n",
    "print(\" \")\n",
    "\n",
    "# Print 7 8 11 12 , look in arrz matrix above \n",
    "# 7, 8 is in row 1 (indexing start from 0) and 11 , 12 is in row 2 \n",
    "# 7,8 is in col 2 and 3 , \n",
    "print(\"Print 7 , 8 , 11 , 12 : \\n\",arrz[1:,2:])\n",
    "\n",
    "print(\" \")\n",
    "    # [0:2] means print 0 and 1 rows , \n",
    "    # 2: means print from 2 column till last column\n",
    "print(\"Print 3 ,4 ,7 ,8 : \\n\" , arrz[0:2,2:])\n",
    "\n",
    "print(\" \") \n",
    "\n",
    "\n",
    "# arrz[1: ] means print from 1 till second last rows  \n",
    "  # 1:3 means print 1 and 2 column\n",
    "print(\"6 , 7 , 10 , 11 : \\n\" , arrz[1:,1:3])\n",
    "\n"
   ]
  },
  {
   "cell_type": "code",
   "execution_count": null,
   "id": "30325ccd",
   "metadata": {},
   "outputs": [
    {
     "name": "stdout",
     "output_type": "stream",
     "text": [
      "Array : \n",
      " [[ 1  2  3  4]\n",
      " [ 5  6  7  8]\n",
      " [ 9 10 11 12]]\n"
     ]
    }
   ],
   "source": []
  },
  {
   "cell_type": "markdown",
   "id": "23f145fd",
   "metadata": {},
   "source": [
    "# Modifying array elements \n"
   ]
  },
  {
   "cell_type": "code",
   "execution_count": 25,
   "id": "c3f152fb",
   "metadata": {},
   "outputs": [
    {
     "name": "stdout",
     "output_type": "stream",
     "text": [
      "Array : \n",
      " [[ 1  2  3  4]\n",
      " [ 5  6  7  8]\n",
      " [ 9 10 11 12]]\n"
     ]
    }
   ],
   "source": [
    "import numpy as np \n",
    "arrx= np.array([[1,2,3,4],[5,6,7,8],[9,10,11,12]])\n",
    "print(\"Array : \\n\",arrx)"
   ]
  },
  {
   "cell_type": "code",
   "execution_count": 27,
   "id": "3cd175a2",
   "metadata": {},
   "outputs": [
    {
     "name": "stdout",
     "output_type": "stream",
     "text": [
      "[[100   2   3   4]\n",
      " [  5   6   7   8]\n",
      " [  9  10  11  12]]\n"
     ]
    }
   ],
   "source": [
    "# Modify arrx[0]0[0] to 100 \n",
    "arrx[0][0] = 100\n",
    "print(arrx)"
   ]
  },
  {
   "cell_type": "code",
   "execution_count": 29,
   "id": "34a87d5e",
   "metadata": {},
   "outputs": [
    {
     "name": "stdout",
     "output_type": "stream",
     "text": [
      "[[100   2   3   4]\n",
      " [100 100 100 100]\n",
      " [100 100 100 100]]\n"
     ]
    }
   ],
   "source": [
    "# Modifying Multiple values \n",
    "# change the values of rows 1 and 2 to 100\n",
    "arrx[1:] = 100\n",
    "print(arrx)"
   ]
  },
  {
   "cell_type": "markdown",
   "id": "3e627bc7",
   "metadata": {},
   "source": [
    "# Real World Data Science Applications "
   ]
  },
  {
   "cell_type": "markdown",
   "id": "572ae989",
   "metadata": {},
   "source": [
    "## 1. Normalization\n",
    "Statistical concept - Normalization , to have mean = 0 and standard deviation = 1; \n"
   ]
  },
  {
   "cell_type": "code",
   "execution_count": null,
   "id": "e48cfc26",
   "metadata": {},
   "outputs": [
    {
     "name": "stdout",
     "output_type": "stream",
     "text": [
      "Original Data : \n",
      "[1 2 3 4 5]\n",
      " \n",
      "Normalized Data: \n",
      "-1.414213562373095\n",
      "-0.7071067811865475\n",
      "0.0\n",
      "0.7071067811865475\n",
      "1.414213562373095\n"
     ]
    }
   ],
   "source": [
    "data = np.array([1,2,3,4,5]) \n",
    "\n",
    "#Calculate the meand and standard deviation \n",
    "\n",
    "\n",
    "mean = np.mean(data)\n",
    "std_dev = np.std(data) \n",
    "\n",
    "#\n",
    "# Normalizing the data \n",
    "normalized_data = (data - mean)/std_dev\n",
    "print(\"Original Data : \") \n",
    "print(data) \n",
    "print(\" \")\n",
    "print(\"Normalized Data: \") \n",
    "for values in normalized_data: \n",
    "    print(values)"
   ]
  },
  {
   "cell_type": "code",
   "execution_count": 34,
   "id": "ea88063b",
   "metadata": {},
   "outputs": [
    {
     "name": "stdout",
     "output_type": "stream",
     "text": [
      "Mean :  3.0\n",
      "Median :  3.0\n",
      "Standard Deviation :  1.4142135623730951\n",
      "Variance :  2.0\n"
     ]
    }
   ],
   "source": [
    "data2 = np.array([1,2,3,4,5])\n",
    "\n",
    "# Mean \n",
    "mean = np.mean(data) \n",
    "print(\"Mean : \",mean)\n",
    "\n",
    "# Median \n",
    "median = np.median(data) \n",
    "print(\"Median : \",median)\n",
    "\n",
    "# Standard Deviation \n",
    "std_dev = np.std(data) \n",
    "print(\"Standard Deviation : \" , std_dev) \n",
    "\n",
    "# Variance \n",
    "variance = np.var(data) \n",
    "print(\"Variance : \",variance)\n"
   ]
  },
  {
   "cell_type": "markdown",
   "id": "9604cd40",
   "metadata": {},
   "source": [
    "# Logical Operations (Pandas )"
   ]
  },
  {
   "cell_type": "code",
   "execution_count": 43,
   "id": "3fe0e41c",
   "metadata": {},
   "outputs": [
    {
     "name": "stdout",
     "output_type": "stream",
     "text": [
      "[ 6  7  8  9 10]\n"
     ]
    },
    {
     "data": {
      "text/plain": [
       "array([5, 6, 7, 8])"
      ]
     },
     "execution_count": 43,
     "metadata": {},
     "output_type": "execute_result"
    }
   ],
   "source": [
    "data3 = np.array([1,2,3,4,5,6,7,8,9,10]) \n",
    "mydata = data3[data3>5]\n",
    "print(mydata)\n",
    "\n",
    "# Multiple conditions \n",
    "data3[(data3>=5 ) & (data3<=8)]"
   ]
  },
  {
   "cell_type": "code",
   "execution_count": null,
   "id": "9eef9ec7",
   "metadata": {},
   "outputs": [],
   "source": []
  }
 ],
 "metadata": {
  "kernelspec": {
   "display_name": "Python 3",
   "language": "python",
   "name": "python3"
  },
  "language_info": {
   "codemirror_mode": {
    "name": "ipython",
    "version": 3
   },
   "file_extension": ".py",
   "mimetype": "text/x-python",
   "name": "python",
   "nbconvert_exporter": "python",
   "pygments_lexer": "ipython3",
   "version": "3.12.0"
  }
 },
 "nbformat": 4,
 "nbformat_minor": 5
}
