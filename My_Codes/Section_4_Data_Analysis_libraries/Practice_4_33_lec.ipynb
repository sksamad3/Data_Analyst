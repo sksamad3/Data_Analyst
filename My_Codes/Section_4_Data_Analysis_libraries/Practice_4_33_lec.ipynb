{
 "cells": [
  {
   "cell_type": "markdown",
   "id": "9b470166",
   "metadata": {},
   "source": [
    "# Practice Numpy"
   ]
  },
  {
   "cell_type": "code",
   "execution_count": 1,
   "id": "af0d11f6",
   "metadata": {},
   "outputs": [],
   "source": [
    "import numpy as np"
   ]
  },
  {
   "cell_type": "code",
   "execution_count": 5,
   "id": "348ba421",
   "metadata": {},
   "outputs": [
    {
     "name": "stdout",
     "output_type": "stream",
     "text": [
      "[1 2 3 4 5]\n",
      "<class 'numpy.ndarray'>\n",
      "(5,)\n"
     ]
    }
   ],
   "source": [
    "# Create array using numpy \n",
    "arr = np.array([1,2,3,4,5]) \n",
    "print(arr)\n",
    "print(type(arr))\n",
    "print(arr.shape)"
   ]
  },
  {
   "cell_type": "code",
   "execution_count": null,
   "id": "64686af1",
   "metadata": {},
   "outputs": [
    {
     "data": {
      "text/plain": [
       "array([[ 6,  7,  8,  9, 10]])"
      ]
     },
     "execution_count": 7,
     "metadata": {},
     "output_type": "execute_result"
    }
   ],
   "source": [
    "# Reshape to 2 dimensions\n",
    "arr2  = np.array([6,7,8,9,10])\n",
    "arr2.reshape(1,5) # 1 row , 5 columns "
   ]
  },
  {
   "cell_type": "code",
   "execution_count": 11,
   "id": "dd074f1f",
   "metadata": {},
   "outputs": [
    {
     "name": "stdout",
     "output_type": "stream",
     "text": [
      "(2, 5)\n",
      "[[ 23  54  65  35 654]\n",
      " [  1   2   3   4   5]]\n"
     ]
    }
   ],
   "source": [
    "arr3 = np.array([[23,54,65,35,654],[1,2,3,4,5]]) \n",
    "print(arr3.shape)\n",
    "print(arr3)"
   ]
  },
  {
   "cell_type": "code",
   "execution_count": 19,
   "id": "aff9b35e",
   "metadata": {},
   "outputs": [
    {
     "data": {
      "text/plain": [
       "array([[ 3],\n",
       "       [ 6],\n",
       "       [ 9],\n",
       "       [12],\n",
       "       [15],\n",
       "       [18],\n",
       "       [21],\n",
       "       [24],\n",
       "       [27],\n",
       "       [30]])"
      ]
     },
     "execution_count": 19,
     "metadata": {},
     "output_type": "execute_result"
    }
   ],
   "source": [
    "# arange() \n",
    "np.arange(3,31,3).reshape(10,1)"
   ]
  },
  {
   "cell_type": "code",
   "execution_count": 21,
   "id": "69d4e45d",
   "metadata": {},
   "outputs": [
    {
     "data": {
      "text/plain": [
       "array([[1., 1., 1., 1., 1.],\n",
       "       [1., 1., 1., 1., 1.],\n",
       "       [1., 1., 1., 1., 1.],\n",
       "       [1., 1., 1., 1., 1.],\n",
       "       [1., 1., 1., 1., 1.]])"
      ]
     },
     "execution_count": 21,
     "metadata": {},
     "output_type": "execute_result"
    }
   ],
   "source": [
    "np.ones((5,5))"
   ]
  },
  {
   "cell_type": "code",
   "execution_count": 24,
   "id": "fb51ae2f",
   "metadata": {},
   "outputs": [
    {
     "data": {
      "text/plain": [
       "array([[1., 0., 0., 0.],\n",
       "       [0., 1., 0., 0.],\n",
       "       [0., 0., 1., 0.],\n",
       "       [0., 0., 0., 1.]])"
      ]
     },
     "execution_count": 24,
     "metadata": {},
     "output_type": "execute_result"
    }
   ],
   "source": [
    "# Identity matrix \n",
    "np.eye(4,4)"
   ]
  },
  {
   "cell_type": "code",
   "execution_count": null,
   "id": "adf4c4b2",
   "metadata": {},
   "outputs": [
    {
     "name": "stdout",
     "output_type": "stream",
     "text": [
      "2\n",
      "Size of array :  25\n",
      "Data type :  int64\n",
      "Item size (in bytes) :  8\n"
     ]
    }
   ],
   "source": [
    "# Attributes \n",
    "ones_arr = np.ones((5,5),dtype=int)\n",
    "print(ones_arr.ndim)\n",
    "print(\"Size of array : \",ones_arr.size)\n",
    "print(\"Data type : \",ones_arr.dtype)\n",
    "print(\"Item size (in bytes) : \",ones_arr.itemsize)"
   ]
  },
  {
   "cell_type": "code",
   "execution_count": null,
   "id": "7208c2f6",
   "metadata": {},
   "outputs": [
    {
     "name": "stdout",
     "output_type": "stream",
     "text": [
      "Addition :  [11 22 33 44 55]\n",
      "Subtraction :  [ 9 18 27 36 45]\n"
     ]
    }
   ],
   "source": [
    "# Numpy vectorized operations\n",
    "new_arr = np.array([1,2,3,4,5])\n",
    "new_arr2 = np.array([10,20,30,40,50])\n",
    "\n",
    "# Element wise addition \n",
    "print(\"Addition : \",new_arr+new_arr2)\n",
    "\n",
    "# Element wise subtraction\n",
    "print(\"Subtraction : \",new_arr2-new_arr)\n",
    "\n",
    "# Element wise multiplication\n",
    "print(\"Multiplication : \",new_arr2*new_arr)\n",
    "\n",
    "# Element wise Division\n",
    "print(\"Subtraction : \",new_arr2/new_arr)"
   ]
  },
  {
   "cell_type": "code",
   "execution_count": 43,
   "id": "8431862f",
   "metadata": {},
   "outputs": [
    {
     "name": "stdout",
     "output_type": "stream",
     "text": [
      "[4.35889894 5.83095189 7.21110255 8.18535277 1.73205081]\n",
      "[1.78482301e+08 5.83461743e+14 3.83100800e+22 1.25236317e+29\n",
      " 2.00855369e+01]\n",
      "[2.94443898 3.52636052 3.95124372 4.20469262 1.09861229]\n"
     ]
    }
   ],
   "source": [
    "# Universal functions \n",
    "an_arr= np.array([19,34,52,67,3])\n",
    "\n",
    "# Print square root of entire array \n",
    "print(np.sqrt(an_arr))\n",
    "\n",
    "# Exponential \n",
    "print(np.exp(an_arr))\n",
    "\n",
    "# natural log \n",
    "print(np.log(an_arr))\n"
   ]
  },
  {
   "cell_type": "code",
   "execution_count": 55,
   "id": "31818441",
   "metadata": {},
   "outputs": [
    {
     "name": "stdout",
     "output_type": "stream",
     "text": [
      "[[ 1  2  3  4]\n",
      " [ 5  6  7  8]\n",
      " [ 9 10 11 12]]\n",
      "\n",
      "\n",
      "[[ 7  8]\n",
      " [11 12]]\n",
      "\n",
      "\n",
      "[[3 4]\n",
      " [7 8]]\n"
     ]
    }
   ],
   "source": [
    "# Array slicing and indexing operation \n",
    "\n",
    "zarray = np.array([[1,2,3,4],[5,6,7,8],[9,10,11, 12]])\n",
    "print(zarray)\n",
    "print(\"\\n\")\n",
    "\n",
    "print(zarray[1:,2:])\n",
    "print(\"\\n\")\n",
    "\n",
    "\n",
    "print(zarray[0:2,2:])"
   ]
  },
  {
   "cell_type": "code",
   "execution_count": 57,
   "id": "4d96319b",
   "metadata": {},
   "outputs": [
    {
     "name": "stdout",
     "output_type": "stream",
     "text": [
      "[[100   2   3   4]\n",
      " [  5   6   7   8]\n",
      " [  9  10  11  12]]\n",
      "[[100   2   3   4]\n",
      " [100 100 100 100]\n",
      " [100 100 100 100]]\n"
     ]
    }
   ],
   "source": [
    "# Modify array elements \n",
    "zarray[0,0] = 100 \n",
    "print(zarray)\n",
    "\n",
    "zarray[1:] = 100\n",
    "print(zarray)"
   ]
  },
  {
   "cell_type": "code",
   "execution_count": 2,
   "id": "8a3ae062",
   "metadata": {},
   "outputs": [],
   "source": [
    "# Problem Statement \n",
    "import numpy as np "
   ]
  },
  {
   "cell_type": "code",
   "execution_count": 7,
   "id": "51f94ecd",
   "metadata": {},
   "outputs": [
    {
     "name": "stdout",
     "output_type": "stream",
     "text": [
      "Class A : \n",
      " [[78 92 77 84 85]\n",
      " [92 88 89 80 75]\n",
      " [57 67 70 69 70]\n",
      " [80 77 72 59 70]\n",
      " [90 95 88 89 85]\n",
      " [50 65 67 89 90]]\n",
      "\n",
      "\n",
      "Class B : \n",
      " [[90 89 95 99 87]\n",
      " [88 90 75 70 90]\n",
      " [67 70 56 50 88]\n",
      " [77 76 75 80 85]\n",
      " [59 50 65 78 50]\n",
      " [90 96 90 92 98]]\n"
     ]
    }
   ],
   "source": [
    "class_A = np.array([[78,92,77,84,85],\n",
    "                    [92,88,89,80,75],\n",
    "                    [57,67,70,69,70],\n",
    "                    [80,77,72,59,70],\n",
    "                    [90,95,88,89,85],\n",
    "                    [50,65,67,89,90]])\n",
    "\n",
    "class_B = np.array([[90,89,95,99,87],\n",
    "                    [88,90,75,70,90],\n",
    "                    [67,70,56,50,88],\n",
    "                    [77,76,75,80,85],\n",
    "                    [59,50,65,78,50],\n",
    "                    [90,96,90,92,98]])\n",
    "\n",
    "print(\"Class A : \\n\",class_A)\n",
    "print(\"\\n\")\n",
    "print(\"Class B : \\n\",class_B)"
   ]
  },
  {
   "cell_type": "code",
   "execution_count": null,
   "id": "49ea1ad9",
   "metadata": {},
   "outputs": [
    {
     "name": "stdout",
     "output_type": "stream",
     "text": [
      "Dimensions of class A :  2\n",
      "Dimensions of class B :  2\n",
      "Size of class A :  30\n",
      "Size of class B :  30\n",
      "Size of class A :  int64\n",
      "Size of class B :  int64\n",
      "Size of class A :  8\n",
      "Size of class B :  8\n",
      "Shape of class A :  (6, 5)\n",
      "Shape of class A :  (6, 5)\n",
      "Sum of marks  [416 424 333 358 447 361]\n",
      "Sum of marks  [83.2 84.8 66.6 71.6 89.4 72.2]\n"
     ]
    }
   ],
   "source": [
    "# Inspecting the dataset \n",
    "print(\"Dimensions of class A : \",class_A.ndim)\n",
    "print(\"Dimensions of class B : \",class_A.ndim)\n",
    "\n",
    "\n",
    "print(\"Size of class A : \",class_A.size)\n",
    "print(\"Size of class B : \",class_B.size)\n",
    "\n",
    "\n",
    "print(\"Size of class A : \",class_A.dtype)\n",
    "print(\"Size of class B : \",class_B.dtype)\n",
    "\n",
    "\n",
    "print(\"Size of class A : \",class_A.itemsize)\n",
    "print(\"Size of class B : \",class_B.itemsize)\n",
    "\n",
    "print(\"Shape of class A : \",class_A.shape)\n",
    "print(\"Shape of class A : \",class_B.shape)\n",
    "\n",
    "print(\"Sum of marks \",np.sum(class_A,axis=1))\n",
    "print(\"Sum of marks \",np.average(class_A,axis=1))\n"
   ]
  },
  {
   "cell_type": "code",
   "execution_count": 27,
   "id": "853e694c",
   "metadata": {},
   "outputs": [
    {
     "data": {
      "text/plain": [
       "array([[78, 92, 77, 84, 85, 92],\n",
       "       [88, 89, 80, 75, 57, 67],\n",
       "       [70, 69, 70, 80, 77, 72],\n",
       "       [59, 70, 90, 95, 88, 89],\n",
       "       [85, 50, 65, 67, 89, 90]])"
      ]
     },
     "execution_count": 27,
     "metadata": {},
     "output_type": "execute_result"
    }
   ],
   "source": [
    "# 30 rows and 1 columns \n",
    "class_A.reshape(5,6)\n"
   ]
  },
  {
   "cell_type": "code",
   "execution_count": null,
   "id": "55fa95d3",
   "metadata": {},
   "outputs": [
    {
     "name": "stdout",
     "output_type": "stream",
     "text": [
      "=========Class A=========\n",
      "Total Scores per student : \n",
      " [[416]\n",
      " [424]\n",
      " [333]\n",
      " [358]\n",
      " [447]\n",
      " [361]]\n",
      "Total score of Topper :  [447]\n",
      "Scores of Topper :  [90 95 88 89 85]\n"
     ]
    }
   ],
   "source": [
    "class_A = np.array([[78,92,77,84,85],\n",
    "                    [92,88,89,80,75],\n",
    "                    [57,67,70,69,70],\n",
    "                    [80,77,72,59,70],\n",
    "                    [90,95,88,89,85],\n",
    "                    [50,65,67,89,90]])\n",
    "\n",
    "# Class A : \n",
    "#  [[78 92 77 84 85]\n",
    "#  [92 88 89 80 75]\n",
    "#  [57 67 70 69 70]\n",
    "#  [80 77 72 59 70]\n",
    "#  [90 95 88 89 85]\n",
    "#  [50 65 67 89 90]]\n",
    "\n",
    "print(\"=========Class A=========\")\n",
    "\n",
    "# Adding the marks of individual students \n",
    "total_scores_of_students_a = np.sum(class_A,axis=1)\n",
    "\n",
    "# Converting the scores matrix into single columns to see student wise vertically \n",
    "flatten_a = total_scores_of_students_a.reshape(6,1) #6 rows and 1 column , each row represents a students marks\n",
    "print(\"Total Scores per student : \\n\",flatten_a)\n",
    "\n",
    "# From the total scores finding the student who has highest total score \n",
    "toppers_total_score_a = np.argmax(flatten_a) # this returns the index of student with higest total score\n",
    "print(\"Total score of Topper : \",flatten_a[toppers_total_score_a])\n",
    "\n",
    "Topper_A = flatten_a[toppers_total_score_a]\n",
    "\n",
    "# Prints the scores of student who has the highest score in class af \n",
    "scores_of_topper_a = class_A[toppers_total_score_a]\n",
    "print(\"Scores of Topper : \",scores_of_topper_a)"
   ]
  },
  {
   "cell_type": "code",
   "execution_count": null,
   "id": "53991d32",
   "metadata": {},
   "outputs": [
    {
     "name": "stdout",
     "output_type": "stream",
     "text": [
      "=========Class B=========\n",
      "Total Scores per student : \n",
      " [[460]\n",
      " [413]\n",
      " [331]\n",
      " [393]\n",
      " [302]\n",
      " [466]]\n",
      "Total score of Topper :  [466]\n",
      "Scores of Topper :  [90 96 90 92 98]\n"
     ]
    }
   ],
   "source": [
    "class_B = np.array([[90,89,95,99,87],\n",
    "                    [88,90,75,70,90],\n",
    "                    [67,70,56,50,88],\n",
    "                    [77,76,75,80,85],\n",
    "                    [59,50,65,78,50],\n",
    "                    [90,96,90,92,98]])\n",
    "\n",
    "# Class B : \n",
    "#  [[90 89 95 99 87]\n",
    "#  [88 90 75 70 90]\n",
    "#  [67 70 56 50 88]\n",
    "#  [77 76 75 80 85]\n",
    "#  [59 50 65 78 50]\n",
    "#  [90 96 90 92 98]]\n",
    "\n",
    "#Adding the scores of all the students \n",
    "print(\"=========Class B=========\")\n",
    "\n",
    "# Adding the marks of individual students \n",
    "total_scores_of_students_b = np.sum(class_B,axis=1)\n",
    "\n",
    "# Converting the scores matrix into single columns to see student wise vertically \n",
    "flatten_b = total_scores_of_students_b.reshape(6,1) #6 rows and 1 column , each row represents a students marks\n",
    "print(\"Total Scores per student : \\n\",flatten_b)\n",
    "\n",
    "# From the total scores finding the student who has highest total score \n",
    "\n",
    "toppers_total_score_b = np.argmax(flatten_b) # this returns the index of student with higest total score\n",
    "print(\"Total score of Topper : \",flatten_b[toppers_total_score_b])\n",
    "\n",
    "\n",
    "Topper_B = flatten_b[toppers_total_score_b]\n",
    "\n",
    "\n",
    "# Prints the scores of student who has the highest score in class \n",
    "scores_of_topper_b = class_B[toppers_total_score_b]\n",
    "print(\"Scores of Topper : \",scores_of_topper_b)"
   ]
  },
  {
   "cell_type": "code",
   "execution_count": null,
   "id": "29ce0be5",
   "metadata": {},
   "outputs": [
    {
     "name": "stdout",
     "output_type": "stream",
     "text": [
      "Student from class B has scored highest with score : [466] with difference of [19]\n"
     ]
    }
   ],
   "source": [
    "if Topper_A > Topper_B: \n",
    "   difference = Topper_A-Topper_B\n",
    "else: \n",
    "    difference = Topper_B-Topper_A\n",
    "\n",
    "if Topper_A > Topper_B: \n",
    "    print(f\"Student from class A has scored highest with score : {Topper_A} with difference of {difference}\")\n",
    "else: \n",
    "    print(f\"Student from class B has scored highest with score : {Topper_B} with difference of {difference}\")"
   ]
  },
  {
   "cell_type": "code",
   "execution_count": null,
   "id": "31963f23",
   "metadata": {},
   "outputs": [],
   "source": []
  }
 ],
 "metadata": {
  "kernelspec": {
   "display_name": "venv",
   "language": "python",
   "name": "python3"
  },
  "language_info": {
   "codemirror_mode": {
    "name": "ipython",
    "version": 3
   },
   "file_extension": ".py",
   "mimetype": "text/x-python",
   "name": "python",
   "nbconvert_exporter": "python",
   "pygments_lexer": "ipython3",
   "version": "3.12.0"
  }
 },
 "nbformat": 4,
 "nbformat_minor": 5
}
