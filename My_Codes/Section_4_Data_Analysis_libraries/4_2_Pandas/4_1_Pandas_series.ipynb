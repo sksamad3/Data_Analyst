{
 "cells": [
  {
   "cell_type": "markdown",
   "id": "3180ecc5",
   "metadata": {},
   "source": [
    "# Pandas "
   ]
  },
  {
   "cell_type": "markdown",
   "id": "2b8ee447",
   "metadata": {},
   "source": [
    "Pandas is a powerful open-source data analysis and manipulation library built on top of NumPy. It provides high-level data structures like Series (1D) and DataFrame (2D table), which make it easy to load, clean, explore, analyze, and visualize structured data.\n",
    "\n",
    "\n",
    "Pandas is powerful data manipulation library in Python, widely used for data analysis and data cleaning. It provides two primary data structures : Series and DataFrame. A Series is a one-dimensional array-like object, while a DataFrame is a two-dimensional , size-mutable, and potentially heterogeneous tabular data structure with labeled axes(rows and columns)."
   ]
  },
  {
   "cell_type": "markdown",
   "id": "659992fb",
   "metadata": {},
   "source": [
    "A Series in pandas is a one-dimensional labeled array capable of holding any data type — integers, floats, strings, objects, etc.\n",
    "\n",
    "It’s like a column in a spreadsheet or a single column from a DataFrame — but it can also work as a standalone object."
   ]
  },
  {
   "cell_type": "code",
   "execution_count": 5,
   "id": "f88b9ecf",
   "metadata": {},
   "outputs": [
    {
     "name": "stdout",
     "output_type": "stream",
     "text": [
      "Series : \n",
      " 0    1\n",
      "1    2\n",
      "2    3\n",
      "3    4\n",
      "4    5\n",
      "dtype: int64\n",
      "<class 'pandas.core.series.Series'>\n"
     ]
    }
   ],
   "source": [
    "import pandas as pd \n",
    "\n",
    "data = [1,2,3,4,5]\n",
    "series = pd.Series(data)\n",
    "print(\"Series : \\n\",series)\n",
    "print(type(series))"
   ]
  },
  {
   "cell_type": "markdown",
   "id": "ddde162b",
   "metadata": {},
   "source": [
    "# Create a Series from dictionary \n"
   ]
  },
  {
   "cell_type": "code",
   "execution_count": null,
   "id": "d123be3f",
   "metadata": {},
   "outputs": [
    {
     "name": "stdout",
     "output_type": "stream",
     "text": [
      "a    1\n",
      "b    2\n",
      "c    3\n",
      "dtype: int64\n"
     ]
    }
   ],
   "source": [
    "data = {'a':1,'b':2,'c':3}\n",
    "# If we convert dictionary to Series , then the keys will become indices and values as values \n",
    "series_dict = pd.Series(data)\n",
    "print(series_dict)"
   ]
  },
  {
   "cell_type": "code",
   "execution_count": 13,
   "id": "17e14422",
   "metadata": {},
   "outputs": [
    {
     "data": {
      "text/plain": [
       "a    10\n",
       "b    20\n",
       "c    30\n",
       "dtype: int64"
      ]
     },
     "execution_count": 13,
     "metadata": {},
     "output_type": "execute_result"
    }
   ],
   "source": [
    "my_data= [10,20,30]\n",
    "index = ['a','b','c']\n",
    "\n",
    "#combining both into one series \n",
    "pd.Series(my_data,index=index)"
   ]
  },
  {
   "cell_type": "markdown",
   "id": "c287af7e",
   "metadata": {},
   "source": [
    "# DataFrame"
   ]
  },
  {
   "cell_type": "markdown",
   "id": "9fb26dee",
   "metadata": {},
   "source": [
    "A DataFrame is a 2-dimensional, tabular, and labeled data structure in pandas — similar to a spreadsheet, SQL table, or an Excel sheet.\n",
    "\n",
    "Each column in a DataFrame is a Series, and the whole DataFrame is a collection of Series objects with shared row indexes."
   ]
  },
  {
   "cell_type": "code",
   "execution_count": null,
   "id": "4f5a4565",
   "metadata": {},
   "outputs": [
    {
     "name": "stdout",
     "output_type": "stream",
     "text": [
      "    name  age       city\n",
      "0  Krish   25  Bangalore\n",
      "1   John   30   New York\n",
      "2   Jack   45    Florida\n",
      "<class 'pandas.core.frame.DataFrame'>\n"
     ]
    }
   ],
   "source": [
    "# Create a dataframe from a dictionary of list \n",
    "# Creating a datafram from a dictionary containing list of values \n",
    "\n",
    "datax = {\n",
    "    'name': ['Krish','John','Jack'],\n",
    "    'age':[25,30,45],\n",
    "    'city':['Bangalore','New York','Florida']\n",
    "}\n",
    "\n",
    "df = pd.DataFrame(datax)\n",
    "print(df)\n",
    "print(type(df))"
   ]
  },
  {
   "cell_type": "code",
   "execution_count": 11,
   "id": "f0fe29c6",
   "metadata": {},
   "outputs": [
    {
     "name": "stdout",
     "output_type": "stream",
     "text": [
      "    Name  Age        City\n",
      "0  Samad   20     Chicago\n",
      "1   Ilaf   20     Florida\n",
      "2  Usaid   20    New york\n",
      "3   Amin   20  California\n"
     ]
    }
   ],
   "source": [
    "# Create  a dataframe from a list of dictionaries\n",
    "\n",
    "datay = [\n",
    "    {'Name':'Samad','Age':20,'City':'Chicago'},\n",
    "    {'Name':'Ilaf','Age':20,'City':'Florida'},\n",
    "    {'Name':'Usaid','Age':20,'City':'New york'},\n",
    "    {'Name':'Amin','Age':20,'City':'California'},\n",
    "]\n",
    "\n",
    "df = pd.DataFrame(datay)\n",
    "print(df)"
   ]
  },
  {
   "cell_type": "markdown",
   "id": "04f5e4f1",
   "metadata": {},
   "source": [
    "# Loading a csv dataset"
   ]
  },
  {
   "cell_type": "code",
   "execution_count": 17,
   "id": "8fc6232c",
   "metadata": {},
   "outputs": [
    {
     "data": {
      "text/html": [
       "<div>\n",
       "<style scoped>\n",
       "    .dataframe tbody tr th:only-of-type {\n",
       "        vertical-align: middle;\n",
       "    }\n",
       "\n",
       "    .dataframe tbody tr th {\n",
       "        vertical-align: top;\n",
       "    }\n",
       "\n",
       "    .dataframe thead th {\n",
       "        text-align: right;\n",
       "    }\n",
       "</style>\n",
       "<table border=\"1\" class=\"dataframe\">\n",
       "  <thead>\n",
       "    <tr style=\"text-align: right;\">\n",
       "      <th></th>\n",
       "      <th>Date</th>\n",
       "      <th>Category</th>\n",
       "      <th>Value</th>\n",
       "      <th>Product</th>\n",
       "      <th>Sales</th>\n",
       "      <th>Region</th>\n",
       "    </tr>\n",
       "  </thead>\n",
       "  <tbody>\n",
       "    <tr>\n",
       "      <th>0</th>\n",
       "      <td>2023-01-01</td>\n",
       "      <td>A</td>\n",
       "      <td>28.0</td>\n",
       "      <td>Product1</td>\n",
       "      <td>754.0</td>\n",
       "      <td>East</td>\n",
       "    </tr>\n",
       "    <tr>\n",
       "      <th>1</th>\n",
       "      <td>2023-01-02</td>\n",
       "      <td>B</td>\n",
       "      <td>39.0</td>\n",
       "      <td>Product3</td>\n",
       "      <td>110.0</td>\n",
       "      <td>North</td>\n",
       "    </tr>\n",
       "    <tr>\n",
       "      <th>2</th>\n",
       "      <td>2023-01-03</td>\n",
       "      <td>C</td>\n",
       "      <td>32.0</td>\n",
       "      <td>Product2</td>\n",
       "      <td>398.0</td>\n",
       "      <td>East</td>\n",
       "    </tr>\n",
       "    <tr>\n",
       "      <th>3</th>\n",
       "      <td>2023-01-04</td>\n",
       "      <td>B</td>\n",
       "      <td>8.0</td>\n",
       "      <td>Product1</td>\n",
       "      <td>522.0</td>\n",
       "      <td>East</td>\n",
       "    </tr>\n",
       "    <tr>\n",
       "      <th>4</th>\n",
       "      <td>2023-01-05</td>\n",
       "      <td>B</td>\n",
       "      <td>26.0</td>\n",
       "      <td>Product3</td>\n",
       "      <td>869.0</td>\n",
       "      <td>North</td>\n",
       "    </tr>\n",
       "  </tbody>\n",
       "</table>\n",
       "</div>"
      ],
      "text/plain": [
       "         Date Category  Value   Product  Sales Region\n",
       "0  2023-01-01        A   28.0  Product1  754.0   East\n",
       "1  2023-01-02        B   39.0  Product3  110.0  North\n",
       "2  2023-01-03        C   32.0  Product2  398.0   East\n",
       "3  2023-01-04        B    8.0  Product1  522.0   East\n",
       "4  2023-01-05        B   26.0  Product3  869.0  North"
      ]
     },
     "execution_count": 17,
     "metadata": {},
     "output_type": "execute_result"
    }
   ],
   "source": [
    "df = pd.read_csv(\"data.csv\")\n",
    "df.head()"
   ]
  },
  {
   "cell_type": "code",
   "execution_count": 18,
   "id": "085a5508",
   "metadata": {},
   "outputs": [
    {
     "data": {
      "text/html": [
       "<div>\n",
       "<style scoped>\n",
       "    .dataframe tbody tr th:only-of-type {\n",
       "        vertical-align: middle;\n",
       "    }\n",
       "\n",
       "    .dataframe tbody tr th {\n",
       "        vertical-align: top;\n",
       "    }\n",
       "\n",
       "    .dataframe thead th {\n",
       "        text-align: right;\n",
       "    }\n",
       "</style>\n",
       "<table border=\"1\" class=\"dataframe\">\n",
       "  <thead>\n",
       "    <tr style=\"text-align: right;\">\n",
       "      <th></th>\n",
       "      <th>Date</th>\n",
       "      <th>Category</th>\n",
       "      <th>Value</th>\n",
       "      <th>Product</th>\n",
       "      <th>Sales</th>\n",
       "      <th>Region</th>\n",
       "    </tr>\n",
       "  </thead>\n",
       "  <tbody>\n",
       "    <tr>\n",
       "      <th>45</th>\n",
       "      <td>2023-02-15</td>\n",
       "      <td>B</td>\n",
       "      <td>99.0</td>\n",
       "      <td>Product2</td>\n",
       "      <td>599.0</td>\n",
       "      <td>West</td>\n",
       "    </tr>\n",
       "    <tr>\n",
       "      <th>46</th>\n",
       "      <td>2023-02-16</td>\n",
       "      <td>B</td>\n",
       "      <td>6.0</td>\n",
       "      <td>Product1</td>\n",
       "      <td>938.0</td>\n",
       "      <td>South</td>\n",
       "    </tr>\n",
       "    <tr>\n",
       "      <th>47</th>\n",
       "      <td>2023-02-17</td>\n",
       "      <td>B</td>\n",
       "      <td>69.0</td>\n",
       "      <td>Product3</td>\n",
       "      <td>143.0</td>\n",
       "      <td>West</td>\n",
       "    </tr>\n",
       "    <tr>\n",
       "      <th>48</th>\n",
       "      <td>2023-02-18</td>\n",
       "      <td>C</td>\n",
       "      <td>65.0</td>\n",
       "      <td>Product3</td>\n",
       "      <td>182.0</td>\n",
       "      <td>North</td>\n",
       "    </tr>\n",
       "    <tr>\n",
       "      <th>49</th>\n",
       "      <td>2023-02-19</td>\n",
       "      <td>C</td>\n",
       "      <td>11.0</td>\n",
       "      <td>Product3</td>\n",
       "      <td>708.0</td>\n",
       "      <td>North</td>\n",
       "    </tr>\n",
       "  </tbody>\n",
       "</table>\n",
       "</div>"
      ],
      "text/plain": [
       "          Date Category  Value   Product  Sales Region\n",
       "45  2023-02-15        B   99.0  Product2  599.0   West\n",
       "46  2023-02-16        B    6.0  Product1  938.0  South\n",
       "47  2023-02-17        B   69.0  Product3  143.0   West\n",
       "48  2023-02-18        C   65.0  Product3  182.0  North\n",
       "49  2023-02-19        C   11.0  Product3  708.0  North"
      ]
     },
     "execution_count": 18,
     "metadata": {},
     "output_type": "execute_result"
    }
   ],
   "source": [
    "df.tail()"
   ]
  },
  {
   "cell_type": "markdown",
   "id": "790c7d79",
   "metadata": {},
   "source": [
    "# Accessing data from dataframe "
   ]
  },
  {
   "cell_type": "code",
   "execution_count": 20,
   "id": "48e0025f",
   "metadata": {},
   "outputs": [
    {
     "data": {
      "text/html": [
       "<div>\n",
       "<style scoped>\n",
       "    .dataframe tbody tr th:only-of-type {\n",
       "        vertical-align: middle;\n",
       "    }\n",
       "\n",
       "    .dataframe tbody tr th {\n",
       "        vertical-align: top;\n",
       "    }\n",
       "\n",
       "    .dataframe thead th {\n",
       "        text-align: right;\n",
       "    }\n",
       "</style>\n",
       "<table border=\"1\" class=\"dataframe\">\n",
       "  <thead>\n",
       "    <tr style=\"text-align: right;\">\n",
       "      <th></th>\n",
       "      <th>Name</th>\n",
       "      <th>Age</th>\n",
       "      <th>City</th>\n",
       "    </tr>\n",
       "  </thead>\n",
       "  <tbody>\n",
       "    <tr>\n",
       "      <th>0</th>\n",
       "      <td>Samad</td>\n",
       "      <td>20</td>\n",
       "      <td>Chicago</td>\n",
       "    </tr>\n",
       "    <tr>\n",
       "      <th>1</th>\n",
       "      <td>Ilaf</td>\n",
       "      <td>20</td>\n",
       "      <td>Florida</td>\n",
       "    </tr>\n",
       "    <tr>\n",
       "      <th>2</th>\n",
       "      <td>Usaid</td>\n",
       "      <td>20</td>\n",
       "      <td>New york</td>\n",
       "    </tr>\n",
       "    <tr>\n",
       "      <th>3</th>\n",
       "      <td>Amin</td>\n",
       "      <td>20</td>\n",
       "      <td>California</td>\n",
       "    </tr>\n",
       "  </tbody>\n",
       "</table>\n",
       "</div>"
      ],
      "text/plain": [
       "    Name  Age        City\n",
       "0  Samad   20     Chicago\n",
       "1   Ilaf   20     Florida\n",
       "2  Usaid   20    New york\n",
       "3   Amin   20  California"
      ]
     },
     "execution_count": 20,
     "metadata": {},
     "output_type": "execute_result"
    }
   ],
   "source": [
    "stu_data = [\n",
    "    {'Name':'Samad','Age':20,'City':'Chicago'},\n",
    "    {'Name':'Ilaf','Age':20,'City':'Florida'},\n",
    "    {'Name':'Usaid','Age':20,'City':'New york'},\n",
    "    {'Name':'Amin','Age':20,'City':'California'},\n",
    "]\n",
    "\n",
    "df2 = pd.DataFrame(stu_data)\n",
    "df2"
   ]
  },
  {
   "cell_type": "code",
   "execution_count": null,
   "id": "890e6dd0",
   "metadata": {},
   "outputs": [
    {
     "data": {
      "text/plain": [
       "0    Samad\n",
       "1     Ilaf\n",
       "2    Usaid\n",
       "3     Amin\n",
       "Name: Name, dtype: object"
      ]
     },
     "execution_count": 22,
     "metadata": {},
     "output_type": "execute_result"
    }
   ],
   "source": [
    "# Accessing a column\n",
    "df2['Name']"
   ]
  },
  {
   "cell_type": "code",
   "execution_count": null,
   "id": "a8cd91f4",
   "metadata": {},
   "outputs": [
    {
     "data": {
      "text/plain": [
       "Name      Samad\n",
       "Age          20\n",
       "City    Chicago\n",
       "Name: 0, dtype: object"
      ]
     },
     "execution_count": 27,
     "metadata": {},
     "output_type": "execute_result"
    }
   ],
   "source": [
    "# Print a user record with label 0 \n",
    "'''.loc[0] means:\n",
    " \"Give me the row with label 0.\"'''\n",
    "\n",
    "df2.loc[0] # Prints the row with label 0 "
   ]
  },
  {
   "cell_type": "code",
   "execution_count": null,
   "id": "f6c81c96",
   "metadata": {},
   "outputs": [
    {
     "data": {
      "text/plain": [
       "'New york'"
      ]
     },
     "execution_count": 28,
     "metadata": {},
     "output_type": "execute_result"
    }
   ],
   "source": [
    "# Go to row with label 2 and give me the value of 'City' column\n",
    "''' .loc[2, 'City'] means:\n",
    "    From the row with label 2, get the value in the column \"City\".'''\n",
    "#df.loc[row , col] \n",
    "df2.loc[2, 'City'] # output : New York"
   ]
  },
  {
   "cell_type": "code",
   "execution_count": 29,
   "id": "a82fc1a7",
   "metadata": {},
   "outputs": [
    {
     "data": {
      "text/html": [
       "<div>\n",
       "<style scoped>\n",
       "    .dataframe tbody tr th:only-of-type {\n",
       "        vertical-align: middle;\n",
       "    }\n",
       "\n",
       "    .dataframe tbody tr th {\n",
       "        vertical-align: top;\n",
       "    }\n",
       "\n",
       "    .dataframe thead th {\n",
       "        text-align: right;\n",
       "    }\n",
       "</style>\n",
       "<table border=\"1\" class=\"dataframe\">\n",
       "  <thead>\n",
       "    <tr style=\"text-align: right;\">\n",
       "      <th></th>\n",
       "      <th>Name</th>\n",
       "      <th>Age</th>\n",
       "      <th>City</th>\n",
       "    </tr>\n",
       "  </thead>\n",
       "  <tbody>\n",
       "    <tr>\n",
       "      <th>1</th>\n",
       "      <td>Ilaf</td>\n",
       "      <td>20</td>\n",
       "      <td>Florida</td>\n",
       "    </tr>\n",
       "    <tr>\n",
       "      <th>2</th>\n",
       "      <td>Usaid</td>\n",
       "      <td>20</td>\n",
       "      <td>New york</td>\n",
       "    </tr>\n",
       "    <tr>\n",
       "      <th>3</th>\n",
       "      <td>Amin</td>\n",
       "      <td>20</td>\n",
       "      <td>California</td>\n",
       "    </tr>\n",
       "  </tbody>\n",
       "</table>\n",
       "</div>"
      ],
      "text/plain": [
       "    Name  Age        City\n",
       "1   Ilaf   20     Florida\n",
       "2  Usaid   20    New york\n",
       "3   Amin   20  California"
      ]
     },
     "execution_count": 29,
     "metadata": {},
     "output_type": "execute_result"
    }
   ],
   "source": [
    "# Print the rows from 1 to 3 (include 3rd row also)\n",
    "df2.loc[1:3]"
   ]
  },
  {
   "cell_type": "code",
   "execution_count": null,
   "id": "e7039d1d",
   "metadata": {},
   "outputs": [],
   "source": [
    "'''\n",
    "[[0, 2]] → get rows with labels 0 and 2\n",
    "['Name', 'City'] → get only columns 'Name' and 'City'\n",
    "\n",
    "'''\n",
    "\n",
    "df2.loc[[0, 2], ['Name', 'City']]"
   ]
  },
  {
   "cell_type": "markdown",
   "id": "943cf413",
   "metadata": {},
   "source": [
    "# iloc\n",
    ".iloc uses row positions (0, 1, 2, …), so:\n",
    "\n",
    "You can always use integers with .iloc — even if index labels are something else ('a', 'b', etc.). \n",
    "\n",
    "so if index of dataframe is custom ,like you have set 'a' , 'b' , 'c' then also you can use iloc, because irrespective of any label iloc treats the labels as indices 0,1,2\n",
    "\n",
    "iloc will see the labels a,b,c,d as 0,1,2,3 , so iloc ,\n",
    "\n",
    "(Double click to see in correct form)\n",
    "   Name   Age       City\n",
    "a  Samad   20    Chicago\n",
    "b   Ilaf   20    Florida\n",
    "c  Usaid   20   New york\n",
    "d   Amin   20  California\n",
    "\n",
    "It's based on the order of rows."
   ]
  },
  {
   "cell_type": "markdown",
   "id": "d26af526",
   "metadata": {},
   "source": [
    "# loc"
   ]
  },
  {
   "cell_type": "markdown",
   "id": "45a91b75",
   "metadata": {},
   "source": [
    "You can only use it if you know the actual labels (like 'a', 'b').\n",
    "\n",
    "If you know the labels then use loc[]\n",
    "If you are not sure about the labels then use iloc[] by looking at the order of rows \n",
    "\n",
    "Because \n",
    "If you use labels correctly then loc[] will work\n",
    "If dataframe have custom labels and :  \n",
    "    If you use incorrect labels for accessing then loc will fail\n",
    "    But looking at the order of rows you can use iloc[] to access\n",
    "\n"
   ]
  },
  {
   "cell_type": "markdown",
   "id": "f47644ef",
   "metadata": {},
   "source": [
    "# Major difference between loc[] and iloc[]\n",
    "\n",
    "🔹 loc[1:3] → \n",
    "This will include 3 also , and will give rows 1 ,2, 3\n",
    "\n",
    "🔹 iloc[1:3] → \n",
    "This will exclude 3 , and will give rows 1 and 2"
   ]
  },
  {
   "cell_type": "markdown",
   "id": "673c793e",
   "metadata": {},
   "source": []
  }
 ],
 "metadata": {
  "kernelspec": {
   "display_name": "Python 3",
   "language": "python",
   "name": "python3"
  },
  "language_info": {
   "codemirror_mode": {
    "name": "ipython",
    "version": 3
   },
   "file_extension": ".py",
   "mimetype": "text/x-python",
   "name": "python",
   "nbconvert_exporter": "python",
   "pygments_lexer": "ipython3",
   "version": "3.12.0"
  }
 },
 "nbformat": 4,
 "nbformat_minor": 5
}
